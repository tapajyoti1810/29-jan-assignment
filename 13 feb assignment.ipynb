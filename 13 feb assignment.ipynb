{
 "cells": [
  {
   "cell_type": "code",
   "execution_count": null,
   "id": "78999a04-44a8-40d6-8104-b37d787ea843",
   "metadata": {},
   "outputs": [],
   "source": [
    "Q1. Explain why we have to use the Exception class while creating a Custom Exception."
   ]
  },
  {
   "cell_type": "code",
   "execution_count": null,
   "id": "121efefa-2e27-4108-8257-92fb1ba919fa",
   "metadata": {},
   "outputs": [],
   "source": [
    "By inheriting from the Exception class, a custom exception can take advantage of the built-in functionality for exception\n",
    "handling, such as raising and catching exceptions, displaying error messages, and propagating errors up the call stack. \n",
    "In addition, the Exception class provides a consistent interface for error handling across different libraries and \n",
    "applications, which makes it easier to write ."
   ]
  },
  {
   "cell_type": "code",
   "execution_count": null,
   "id": "83a50b11-b334-4a37-b5ac-35b7cb1c9b59",
   "metadata": {},
   "outputs": [],
   "source": [
    "Q2. Write a python program to print Python Exception Hierarchy."
   ]
  },
  {
   "cell_type": "code",
   "execution_count": null,
   "id": "0fdb8ccd-996c-43f3-a89e-c8b992c28bde",
   "metadata": {},
   "outputs": [],
   "source": [
    "def print_exception_hierarchy(hyt):\n",
    "    print(type(hyt))\n",
    "    for subclass in hyt.__subclasses__():\n",
    "        print_exception_hierarchy(subclass)\n",
    "        \n",
    "print_exception_hierarchy(BaseException)"
   ]
  },
  {
   "cell_type": "code",
   "execution_count": null,
   "id": "50ddf860-92c1-47ff-9830-6eebe7f81331",
   "metadata": {},
   "outputs": [],
   "source": [
    "Q3. What errors are defined in the ArithmeticError class? Explain any two with an example."
   ]
  },
  {
   "cell_type": "code",
   "execution_count": null,
   "id": "a418b0b7-3790-499a-9627-5a92eec4685f",
   "metadata": {},
   "outputs": [],
   "source": [
    "The ArithmeticError class is a built-in exception class in Python that serves as a base class for mathematical errors.\n",
    "FloatingPointError: Raised when a floating-point operation fails.\n",
    "OverflowError: Raised when the result of an arithmetic operation exceeds the maximum representable value.\n",
    "ZeroDivisionError: Raised when attempting to divide a number by zero.\n",
    "UnderflowError: Raised when the result of an arithmetic operation is too small to be represented.\n",
    "Here are two examples of ArithmeticError subclasses and their use cases:\n",
    "\n"
   ]
  },
  {
   "cell_type": "code",
   "execution_count": null,
   "id": "1dfa4629-b60f-42ff-8a7f-346f49a6287e",
   "metadata": {},
   "outputs": [],
   "source": [
    "  1.\"ZeroDivisionError\":\n",
    "          This exception is raised when we try to divide a number by zero.\n",
    "        \n",
    "        for example:\n",
    "                     a = 10\n",
    "                     b = 0\n",
    "            try:\n",
    "                     c = a / b\n",
    "            except ZeroDivisionError:\n",
    "                    print(\"Error cannot divide by zero\")"
   ]
  },
  {
   "cell_type": "code",
   "execution_count": null,
   "id": "f517681d-11b8-4e1d-8fed-478a4410c4e1",
   "metadata": {},
   "outputs": [],
   "source": [
    " 2.\"OverflowError\":\n",
    "           This exception is raised when a calculation exceeds the maximum representable value for a numerical type\n",
    "        \n",
    "        for example:\n",
    "                     import sys \n",
    "                     a = sys.maxsize\n",
    "                    try:\n",
    "                        b = a * a\n",
    "                    except OverflowError:\n",
    "                           print(\"Error:Result too large to represents as a number\")"
   ]
  },
  {
   "cell_type": "code",
   "execution_count": null,
   "id": "6e9c09c8-2568-4df0-a862-afe18708c8ed",
   "metadata": {},
   "outputs": [],
   "source": [
    "Q4. Why LookupError class is used? Explain with an example KeyError and IndexError."
   ]
  },
  {
   "cell_type": "code",
   "execution_count": null,
   "id": "e9b043f0-6b99-4336-a7f0-39b90f168bf3",
   "metadata": {},
   "outputs": [],
   "source": [
    "The \"LookupError\" class is a built-in exception class in python that serves as a base class for all exceptions that occure\n",
    "when a key or index not found during a lookup operation.It is a subclass of the \"Exception\"class and its itself the parent \n",
    "class for several more specific lookup-related exception classes.\n",
    "    "
   ]
  },
  {
   "cell_type": "code",
   "execution_count": null,
   "id": "42fe0ab3-f497-4122-871f-c7a25c5e9630",
   "metadata": {},
   "outputs": [],
   "source": [
    " 1.KeyError- This exception is raised when a dictionary key is not found in the dictionary.\n",
    "    \n",
    "     for example :\n",
    "                   my_dict = {'a': 1, 'b' : 2 ,'c' : 3}\n",
    "                try:\n",
    "                    value = my_dict['d']\n",
    "                except KeyError:\n",
    "                      print(\"Error: Key 'd' not found in dictionary\")"
   ]
  },
  {
   "cell_type": "code",
   "execution_count": null,
   "id": "977d7276-0b0a-4583-b588-fa4e4abca973",
   "metadata": {},
   "outputs": [],
   "source": [
    "  2.IndexError: This exception is raised when we try to access an index that is out of range for alist or other sequences.\n",
    "             \n",
    "        for example:\n",
    "                      my_list = [1,2,3]\n",
    "                        try:\n",
    "                             value = my_list[3]\n",
    "                        except IndexError:\n",
    "                            print(\"Error : Index 3 is out of range for list\")\n",
    "                      "
   ]
  },
  {
   "cell_type": "code",
   "execution_count": null,
   "id": "df9dfb55-5420-472a-b81b-8726439665a9",
   "metadata": {},
   "outputs": [],
   "source": [
    "Q5. Explain ImportError. What is ModuleNotFoundError?"
   ]
  },
  {
   "cell_type": "code",
   "execution_count": null,
   "id": "376bf186-9cf3-4f78-a278-1ed10a09e9c9",
   "metadata": {},
   "outputs": [],
   "source": [
    "  \"ImportError\" is a built-in Exception class in python that is raised when an imported module,package,or name cannot be found\n",
    "    or loaded.This can occure due to various reasons such as misspelled module name,missing dependencies or incorrect python \n",
    "    path settings.\n",
    "    for example- \"ModuleNotFoundFrror\" is a more specific type of \"ImportError\" that was introduced in python 3.6.\n",
    "    \n",
    "    #python 3.6 and later\n",
    "    import foo #raises ModuleNotFoundError: No module named 'foo'\n",
    "    \n",
    "    #python 3.5 and earlier\n",
    "    import foo #raises ImportError: No module named 'foo'\n",
    "    \n",
    "    \"ModuleNotFoundError\" some other types of \"ImportError\"that we may encounter include:\n",
    "        \n",
    "        1.\"ImportError:cannot import name\"\n",
    "        2.\"ImportError:DLL load failed\""
   ]
  },
  {
   "cell_type": "code",
   "execution_count": null,
   "id": "30052937-79fe-42ca-9a1f-08d4fdb6e6b3",
   "metadata": {},
   "outputs": [],
   "source": [
    "Q6. List down some best practices for exception handling in python."
   ]
  },
  {
   "cell_type": "code",
   "execution_count": null,
   "id": "5ed06ab8-df13-4980-b663-4609a5c00496",
   "metadata": {},
   "outputs": [],
   "source": [
    "1.use always a specific Exception.\n",
    "2.print always a proper message.\n",
    "3.always try to log your error.\n",
    "4.always avoid to write a multiple Exeption handling.\n",
    "5.ocument all the error\n",
    "6.cleanup all the resources"
   ]
  }
 ],
 "metadata": {
  "kernelspec": {
   "display_name": "Python 3 (ipykernel)",
   "language": "python",
   "name": "python3"
  },
  "language_info": {
   "codemirror_mode": {
    "name": "ipython",
    "version": 3
   },
   "file_extension": ".py",
   "mimetype": "text/x-python",
   "name": "python",
   "nbconvert_exporter": "python",
   "pygments_lexer": "ipython3",
   "version": "3.10.8"
  }
 },
 "nbformat": 4,
 "nbformat_minor": 5
}
