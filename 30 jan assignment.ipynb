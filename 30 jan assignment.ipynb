{
 "cells": [
  {
   "cell_type": "code",
   "execution_count": null,
   "id": "57d7c8e4-8bc2-43e5-83fc-e29ce391821b",
   "metadata": {},
   "outputs": [],
   "source": [
    "1.Write a program to accept percentage from the user and display the grade according to the following \n",
    "criteria: \n",
    "    \n",
    "Marks \n",
    "Grade \n",
    ">90 \n",
    "A \n",
    ">80 and <=90 \n",
    "B \n",
    ">=60 and <=80 \n",
    "C \n",
    "below 60 \n",
    "D    "
   ]
  },
  {
   "cell_type": "code",
   "execution_count": 1,
   "id": "003c4506-4e37-44e2-a376-94afa3524904",
   "metadata": {},
   "outputs": [
    {
     "name": "stdin",
     "output_type": "stream",
     "text": [
      "enter marks 70\n"
     ]
    },
    {
     "name": "stdout",
     "output_type": "stream",
     "text": [
      "C grade\n"
     ]
    }
   ],
   "source": [
    "marks=int(input(\"enter marks\"))\n",
    "if marks>90:\n",
    "    print(\"A grade\")\n",
    "elif marks>80 and marks<=90:\n",
    "    print(\"B grade\")\n",
    "elif marks>=60 and marks<=80:\n",
    "    print(\"C grade\")\n",
    "else:\n",
    "    print(\"D grade\")"
   ]
  },
  {
   "cell_type": "code",
   "execution_count": null,
   "id": "09e04a3e-631c-4260-9549-193f585353a1",
   "metadata": {},
   "outputs": [],
   "source": [
    "2. Write a program to accept the cost price of a bike and display the road tax to be paid according to the \n",
    "following criteria:\n",
    "    \n",
    "Tax     Cost Price(in Rs) \n",
    "15%      >100000 \n",
    "10%      >50000 and <= 100000 \n",
    "5%       <= 50000     "
   ]
  },
  {
   "cell_type": "code",
   "execution_count": 2,
   "id": "97e12cfe-3f0d-426e-8344-cc0344b13c83",
   "metadata": {},
   "outputs": [
    {
     "name": "stdin",
     "output_type": "stream",
     "text": [
      "cost price of bike 75000\n"
     ]
    },
    {
     "name": "stdout",
     "output_type": "stream",
     "text": [
      "10% road tax to be paid \n"
     ]
    }
   ],
   "source": [
    "costprice=int(input(\"cost price of bike\"))\n",
    "if costprice>100000:\n",
    "    print(\"15% road tax to be paid\")\n",
    "elif costprice>50000 and costprice<=100000:\n",
    "    print(\"10% road tax to be paid \")\n",
    "else:\n",
    "    print(\"5% road tax to be paid\")"
   ]
  },
  {
   "cell_type": "code",
   "execution_count": null,
   "id": "d9023800-ba8b-4414-a453-6ff0c3eb51bb",
   "metadata": {},
   "outputs": [],
   "source": [
    "3.accept any city from the user and display monument of the city:\n",
    "    \n",
    "City     Monument \n",
    "Delhi    red fort\n",
    "Agra     Taj Mahal \n",
    "Jaipur   jal mahal    "
   ]
  },
  {
   "cell_type": "code",
   "execution_count": 3,
   "id": "5a08f979-7008-4d2f-ae9a-26aa453cff77",
   "metadata": {},
   "outputs": [
    {
     "name": "stdin",
     "output_type": "stream",
     "text": [
      " enter city name agra\n"
     ]
    },
    {
     "name": "stdout",
     "output_type": "stream",
     "text": [
      "taj mahal\n"
     ]
    }
   ],
   "source": [
    "city=input(\" enter city name\")\n",
    "if city=='delhi':\n",
    "    print(\"red fort\")\n",
    "elif city=='agra':\n",
    "    print(\"taj mahal\")\n",
    "elif city=='jaipur':\n",
    "    print(\"jal mahal\")"
   ]
  },
  {
   "cell_type": "code",
   "execution_count": null,
   "id": "8fb825a9-9bdf-47c0-8d43-5cb6e63ff0f8",
   "metadata": {},
   "outputs": [],
   "source": [
    "4.check how many times a given number can be divided by 3 before it is less than or equal to 10."
   ]
  },
  {
   "cell_type": "code",
   "execution_count": 1,
   "id": "c6f7d0df-317e-4dfb-96fa-e0045f9707e3",
   "metadata": {},
   "outputs": [
    {
     "name": "stdin",
     "output_type": "stream",
     "text": [
      "Enter a number 5\n"
     ]
    },
    {
     "name": "stdout",
     "output_type": "stream",
     "text": [
      "The number 5 can be divided 0 times by 3 before it's less than or equal to 10\n"
     ]
    }
   ],
   "source": [
    "num = int(input(\"Enter a number\"))\n",
    "onum = num\n",
    "count = int(0)\n",
    "while (num > 10):\n",
    "    num /= 3\n",
    "    count += 1\n",
    "print(\"The number\", onum, \"can be divided\", count,\n",
    "      \"times by 3 before it's less than or equal to 10\")"
   ]
  },
  {
   "cell_type": "code",
   "execution_count": null,
   "id": "0225d8cf-b19c-48d0-8eec-5522aba38848",
   "metadata": {},
   "outputs": [],
   "source": [
    "5. in python ,while loop is used to execute number of statements or body till the specific condition is true.\n",
    "once the condition is false, the control will come out of the loop.\n"
   ]
  },
  {
   "cell_type": "code",
   "execution_count": 4,
   "id": "cc730b41-cc9b-40bf-bc4b-42366e7da0d2",
   "metadata": {},
   "outputs": [
    {
     "name": "stdout",
     "output_type": "stream",
     "text": [
      "1\n",
      "2\n",
      "3\n",
      "4\n",
      "5\n",
      "6\n",
      "7\n",
      "8\n",
      "9\n",
      "10\n"
     ]
    }
   ],
   "source": [
    "a=1\n",
    "\n",
    "while a<=10 :\n",
    "    print(a)\n",
    "    a=a+1"
   ]
  },
  {
   "cell_type": "code",
   "execution_count": null,
   "id": "3f1c63b3-8ac2-4420-9d07-fc0493941546",
   "metadata": {},
   "outputs": [],
   "source": [
    "6.use nested while loop to print 3 different pattern:"
   ]
  },
  {
   "cell_type": "code",
   "execution_count": 5,
   "id": "7923b06e-ebab-434a-9017-1782af5fa799",
   "metadata": {},
   "outputs": [
    {
     "name": "stdout",
     "output_type": "stream",
     "text": [
      "1 \n",
      "1 2 \n",
      "1 2 3 \n",
      "1 2 3 4 \n",
      "1 2 3 4 5 \n"
     ]
    }
   ],
   "source": [
    "i=1\n",
    "while i<=5:\n",
    "    j=1\n",
    "    while j<=i:\n",
    "        print(j,end=\" \")\n",
    "        j=j+1\n",
    "    print(\"\")\n",
    "    i=i+1\n",
    "        \n",
    "        \n",
    "        \n",
    "    \n"
   ]
  },
  {
   "cell_type": "code",
   "execution_count": 2,
   "id": "93d5d855-4268-4a94-aeef-105b584931bd",
   "metadata": {},
   "outputs": [
    {
     "name": "stdout",
     "output_type": "stream",
     "text": [
      "1\n",
      "21\n",
      "321\n",
      "4321\n",
      "54321\n"
     ]
    }
   ],
   "source": [
    "i = int(5)\n",
    "count = int(1)\n",
    "while (i > 0):\n",
    "    j = i - count\n",
    "    while (j < i):\n",
    "        print(i - j, end='')\n",
    "        j += 1\n",
    "    i -= 1\n",
    "    count += 1\n",
    "    print(\"\")\n"
   ]
  },
  {
   "cell_type": "code",
   "execution_count": 3,
   "id": "4447c3f0-2e59-4e5e-8785-563ae884a0dc",
   "metadata": {},
   "outputs": [
    {
     "name": "stdout",
     "output_type": "stream",
     "text": [
      "54321\n",
      "4321\n",
      "321\n",
      "21\n",
      "1\n"
     ]
    }
   ],
   "source": [
    "i = int(5)\n",
    "while (i > 0):\n",
    "    j = i\n",
    "    while (j > 0):\n",
    "        print(j, end='')\n",
    "        j -= 1\n",
    "    print(\"\")\n",
    "    i -= 1\n"
   ]
  },
  {
   "cell_type": "code",
   "execution_count": null,
   "id": "3d985c91-b236-40b2-a339-67dd994624e5",
   "metadata": {},
   "outputs": [],
   "source": [
    "7.reverse a while loop to display number from 10 to 0:"
   ]
  },
  {
   "cell_type": "code",
   "execution_count": 4,
   "id": "dd89b999-7ade-4d48-9249-4ab02b114857",
   "metadata": {},
   "outputs": [
    {
     "name": "stdout",
     "output_type": "stream",
     "text": [
      "10\n",
      "9\n",
      "8\n",
      "7\n",
      "6\n",
      "5\n",
      "4\n",
      "3\n",
      "2\n",
      "1\n"
     ]
    }
   ],
   "source": [
    "i = int(10)\n",
    "while(i>0):\n",
    "    print(i)\n",
    "    i -= 1"
   ]
  },
  {
   "cell_type": "code",
   "execution_count": null,
   "id": "ed3c6c1d-4986-4801-8e84-0edc9c5d3c98",
   "metadata": {},
   "outputs": [],
   "source": []
  }
 ],
 "metadata": {
  "kernelspec": {
   "display_name": "Python 3 (ipykernel)",
   "language": "python",
   "name": "python3"
  },
  "language_info": {
   "codemirror_mode": {
    "name": "ipython",
    "version": 3
   },
   "file_extension": ".py",
   "mimetype": "text/x-python",
   "name": "python",
   "nbconvert_exporter": "python",
   "pygments_lexer": "ipython3",
   "version": "3.10.6"
  }
 },
 "nbformat": 4,
 "nbformat_minor": 5
}
