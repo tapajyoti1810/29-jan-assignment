{
 "cells": [
  {
   "cell_type": "code",
   "execution_count": null,
   "id": "c1571f70-ea70-47d7-9ac9-220212bf8d1f",
   "metadata": {},
   "outputs": [],
   "source": [
    "Q1..What is a database? differentiate between SQL and NoSQL databases."
   ]
  },
  {
   "cell_type": "code",
   "execution_count": null,
   "id": "8eb84a79-60b8-490a-9839-e1cf8dac8d29",
   "metadata": {},
   "outputs": [],
   "source": [
    " A database is a organized collection of data that can be accessed,managed,and updated.Databases are used to store and \n",
    "    organize data in a way that makes it easy to retrieve and manipulate the information they contain.There are two main types\n",
    "    of databases: SQL and NoSQL.\n",
    "    \n",
    "    SQL databases,also known as relational databases,store data in tables with predefined columns and rows.The use a structured\n",
    "    query languages(SQL) to interact with the data.SQL databases are best suited for applications where the data has a\n",
    "    well-defined structure,such as financial applications or invertory management systems.Examples of SQL databases include \n",
    "    MySQL,PostgresSQL,Oracle,and Microsoft SQL Server.\n",
    "    \n",
    "    NoSQL databases,do not use tables with predefined columns and rows.They store data in a variety of ways,such as key-value \n",
    "    pairs,documents-oriented databases,and graph databases.NoSQL databases are best suited for applications where the data is \n",
    "    unstructured or semi-structured,such as social media,big data,and real-time analytics.\n",
    "    Examples of NoSQL databases include MongoDB,Cassandra, and Redis.\n",
    "    \n",
    "    NoSQL databases are better suited for real-time applications,SQL databases also typically have better support for \n",
    "    transactions and data integrity,While NoSQL databases are more flexible and scalable.\n",
    "    The choice between SQL and NoSQL databases depends on the specific needs of the application and data being stored."
   ]
  },
  {
   "cell_type": "code",
   "execution_count": null,
   "id": "19c00e64-0a2d-4c0c-bb55-fc5c6882af8f",
   "metadata": {},
   "outputs": [],
   "source": [
    "Q2. What is DDL? Explain why CREATE, DROP, ALTER, and TRUNCATE are used with an example."
   ]
  },
  {
   "cell_type": "code",
   "execution_count": null,
   "id": "a1d92539-fb0e-418a-b521-4310bad43b9f",
   "metadata": {},
   "outputs": [],
   "source": [
    "  DDL stands for Data Defintion Language,which is a subset of SQL used to define and manage the structure of databases and \n",
    "    database objects.DDL statements are used to create,modify,and delete database objects.DDL statements are used to create,\n",
    "    modify,and delete database objects such as tables,indexes, and constraints.\n",
    "        \n",
    "        Here are some common DDL statements and their uses:\n",
    "            \n",
    "            1.CREATE:This statement is used to create a new database object,such as a table or index.For example-The following \n",
    "            statement creates a new table called \"employees\" with columns for employee ID,name,and salary:\n",
    "                \n",
    "                          CREATE TABLE employee(\n",
    "                                       id INT PRIMARY KEY,\n",
    "                                      name VARCHAR(50),\n",
    "                                      salary DECIMAL(10,2)\n",
    "                                   );\n",
    "                \n",
    "            2.DROP:This statemnet is used to delete an existing database object,such as a table or index.For example-the \n",
    "            following statement drops the \"employees\"table:\n",
    "                    \n",
    "                          DROP TABLE employees;\n",
    "                        \n",
    "            3.ALTER:This statement is used to modify an existing database  object,such as table or column.For example,the \n",
    "            following statement adds a new column called\"dapartment\"to the \"employees\"table:\n",
    "                    \n",
    "                              ALTER TABLE employee ADD COLUMN department VARCHAR(50);\n",
    "                \n",
    "            4.TRUNCATE:This statements is used to remove all the data from a table,while leaving the table structure intact.for \n",
    "            example statement removes all data from the \"employees\"table.\n",
    "                \n",
    "                           TRUNCATE TABLE employees;\n",
    "                    "
   ]
  },
  {
   "cell_type": "code",
   "execution_count": null,
   "id": "78b48521-16d9-42ab-8989-875127e5ea4c",
   "metadata": {},
   "outputs": [],
   "source": [
    "Q3. What is DML? Explain INSERT, UPDATE, and DELETE with an example."
   ]
  },
  {
   "cell_type": "code",
   "execution_count": null,
   "id": "3d1f13d8-52e1-485f-b25e-4feec1d1da3d",
   "metadata": {},
   "outputs": [],
   "source": [
    "DML stands for Data Manipulation Language,which is subset of SQL used to manipulate data in databases.DML statements are used \n",
    "to insert,upadte and delete data in database tables.\n",
    "    \n",
    "    1.INSERT: This statements is used to insert new into a table.\n",
    "          INSERT INTO employees(id, name , salary) VALUES(11, 'rohn Dey' , 30000);\n",
    "    \n",
    "    2.UPDATE:This statement is used to update existing data in a table.For example the following statements updates the salary\n",
    "    of an employee with ID 11 in the \"employees\"table:\n",
    "        UPDATE employees SET salary = 55000 WHERE id = 11;\n",
    "    \n",
    "    3.DELETE:This statements is used to delete existing data from atable.for example,The following statement deletes an\n",
    "    employee with ID 11 from the \"employees\"table.\n",
    "        DELETE FROM employees WHERE id = 11;\n",
    "        "
   ]
  },
  {
   "cell_type": "code",
   "execution_count": null,
   "id": "1fc37d2e-4d30-489f-88c9-1a1a1a372980",
   "metadata": {},
   "outputs": [],
   "source": [
    "Q4. What is DQL? Explain SELECT with an example."
   ]
  },
  {
   "cell_type": "code",
   "execution_count": null,
   "id": "99d61823-21dc-470a-9eb8-6654269b2224",
   "metadata": {},
   "outputs": [],
   "source": [
    " DQL stand for Data Query Language,which is subset of SQL used to retrieve data from databases.DQL statements are used to \n",
    "    select and retrieve data from database tables.\n",
    "    \n",
    "    The most common DQL statements is SELECT.\n",
    "       SELECT * from employees;\n",
    "        \n",
    "        This statements selects all columns from the \"employees\" table and returns all the rows in the table.The asterisk(*) \n",
    "        is a wildcard that represents all columns in the table.\n",
    "        \n",
    "        SELECT id, name ,salary FROM employees WHERE salary > 30000;\n",
    "        \n",
    "        this statements selects the \"id\",\"name\", and \"salary\"columns from the \"employees\"table and returns only the rows where\n",
    "        the \"salary\" column is greater than 30"
   ]
  },
  {
   "cell_type": "code",
   "execution_count": null,
   "id": "aeed3ca6-f84c-4cf3-acaa-f62c3809c147",
   "metadata": {},
   "outputs": [],
   "source": [
    "Q5. Explain Primary Key and Foreign Key."
   ]
  },
  {
   "cell_type": "code",
   "execution_count": null,
   "id": "9f6938d8-5a4c-4128-84ef-3e392e162048",
   "metadata": {},
   "outputs": [],
   "source": [
    " A primary key is a unquie identifier for a record or row in a database table.It is used to ensure that each row in a table is\n",
    "    unquiely identifiable and can be accesses or updated easily.\n",
    "    A primary key is a column or set of columns that are selected to identify each row in a table.It must be unique, meaning\n",
    "    that no two rows can have the same primary key,and it must not contain null values.\n",
    "    \n",
    "    A foreign key,is a field in a table that is used to reference the primary key of another table.It is used to establish a\n",
    "    relationship between two tables,where the foreign key in one table refers to the primary key in another table.\n",
    "    The foreign key coloumn must have the same data type and size as the primary key column it references,its values must \n",
    "    exist in the primary key column of the other."
   ]
  },
  {
   "cell_type": "code",
   "execution_count": null,
   "id": "6dae8612-9f3b-4ef6-bc90-0fee9e9c2dd4",
   "metadata": {},
   "outputs": [],
   "source": [
    "Q6. Write a python code to connect MySQL to python. Explain the cursor() and execute() method."
   ]
  },
  {
   "cell_type": "code",
   "execution_count": null,
   "id": "c3fab838-ec16-4301-9ccd-60cc3e41f080",
   "metadata": {},
   "outputs": [],
   "source": [
    "   To connect MySQL to python,We need to use a python MySQL connector.The most common python MySQL connector is the\n",
    "    'mysql-connector-python'module,which can be installed using pip.\n",
    "       \n",
    "          import mysql.connector\n",
    "        \n",
    "        # establish connection to MySQL\n",
    "        \n",
    "        mydb =mysql.connector.connect(\n",
    "            host = \"localhost\",\n",
    "            user='username\",\n",
    "            password=\"password\",\n",
    "            database=\"database_name\"\n",
    "        )\n",
    "        \n",
    "        #create a cursor object\n",
    "        \n",
    "        mycursor = mydb.cursor()\n",
    "        \n",
    "        #execute a SQL query\n",
    "        mycursor.execute(\"SELECT * from table_name\")\n",
    "        \n",
    "        #fetch all rows from the query result\n",
    "        myresult = mycursor.fetchall()\n",
    "        \n",
    "        #print the result\n",
    "        for row in myresult:\n",
    "            print(row)\n",
    "            \n",
    "we create a cursor object using the 'cursor()'method of the connection object.The cursor object is used to execute SQL queries\n",
    "and fetch data from the database.\n",
    "The 'execute()'method of the cursor object is used to execute a SQL query.We pass the SQL query as a parameter to  the \n",
    "'execute()'method."
   ]
  },
  {
   "cell_type": "code",
   "execution_count": null,
   "id": "ad838395-1ac6-4d93-8c97-51121edb646a",
   "metadata": {},
   "outputs": [],
   "source": [
    "Q7. Give the order of execution of SQL clauses in an SQL query."
   ]
  },
  {
   "cell_type": "code",
   "execution_count": null,
   "id": "101ea69e-c306-4bbc-993c-d3da67986f32",
   "metadata": {},
   "outputs": [],
   "source": [
    "    1.'FROM'clause: This clause specifies the table(s) from which data is retrieved.\n",
    "    \n",
    "    2.'JOIN'clause: If there are any joins in the query,they are executed next.This clause specifies how tables are joined \n",
    "    together.\n",
    "        \n",
    "    3.'WHERE'clause: This clause is used to filter the data based on specified conditions.\n",
    "    \n",
    "    4.'GROUP BY\" clause: This clause is used to group the data based on specified columns.\n",
    "    \n",
    "    5.'HAVING' clause: This clause is used to groups created by the 'GROUP BY'clause based on specified conditions.\n",
    "    \n",
    "    6.'SELECT'clause : This clause is used to select the columns that will be included in the result set.\n",
    "    \n",
    "    7.'DISTINCT'clause: If the query includes the 'DISTINCT'keyword,duplicates in the result set are removed at this stage.\n",
    "    \n",
    "    8.'ORDER BY' clause: This clause is used to sort the result set based on specified columns.\n",
    "    \n",
    "    9.'LIMIT' and 'OFFSET' clauses: If specified ,these clauses are used to limit the number of rows returned by the query and \n",
    "    skip a specified number of rows."
   ]
  }
 ],
 "metadata": {
  "kernelspec": {
   "display_name": "Python 3 (ipykernel)",
   "language": "python",
   "name": "python3"
  },
  "language_info": {
   "codemirror_mode": {
    "name": "ipython",
    "version": 3
   },
   "file_extension": ".py",
   "mimetype": "text/x-python",
   "name": "python",
   "nbconvert_exporter": "python",
   "pygments_lexer": "ipython3",
   "version": "3.10.8"
  }
 },
 "nbformat": 4,
 "nbformat_minor": 5
}
