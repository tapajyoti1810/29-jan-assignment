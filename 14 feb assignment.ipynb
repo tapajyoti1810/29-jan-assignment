{
 "cells": [
  {
   "cell_type": "code",
   "execution_count": null,
   "id": "e47aeb73-c7b0-4a7c-9769-9904f4ad6f66",
   "metadata": {},
   "outputs": [],
   "source": [
    "Q1.what is multithreading in python? why is it used? Name the module used to handle threads in python"
   ]
  },
  {
   "cell_type": "code",
   "execution_count": null,
   "id": "5fc11a82-addb-46f3-ae64-baa03507a7ca",
   "metadata": {},
   "outputs": [],
   "source": [
    "Multithreading in Python is the ability of a program to concurrently execute multiple threads or parts of a program. In other \n",
    "words, it allows a program to perform multithread.\n",
    "\n",
    "Multithreading is used in Python to improve the performance of a program by making it more responsive and efficient,\n",
    "especially in cases where the program needs to perform multiple tasks concurrently, such as handling user input, responding to\n",
    "network requests, and performing complex calculations.\n",
    "\n",
    "The threading module is used to handle threads in Python. This module provides a simple way to create, start, and manage\n",
    "threads in a Python program."
   ]
  },
  {
   "cell_type": "code",
   "execution_count": null,
   "id": "a9cf32f7-efb5-4cf6-81f1-ac154a8fcc16",
   "metadata": {},
   "outputs": [],
   "source": [
    "Q2.why threading module used?write the use of the following functions\n",
    "1.activeCount()\n",
    "2.currentThread()\n",
    "3.enumerate()"
   ]
  },
  {
   "cell_type": "code",
   "execution_count": null,
   "id": "ea2e9eae-c122-4cd9-93c2-7fbbb69daece",
   "metadata": {},
   "outputs": [],
   "source": [
    "The threading module in Python is used to create and manage threads in a program. It provides a simple and efficient way to \n",
    "write concurrent programs, which can improve the performance and responsiveness of a program. Here are some common use cases \n",
    "of the threading module:\n",
    "\n",
    "1.activeCount(): This function is used to get the number of currently active threads in a Python program. It returns an integer\n",
    "value, which indicates the total number of threads that are currently running, including the main thread. This function can be\n",
    "useful for monitoring the performance of a program and identifying any potential bottlenecks that may be caused by excessive\n",
    "thread creation.\n",
    "\n",
    "2.currentThread(): This function is used to get a reference to the currently executing thread in a Python program. It returns\n",
    "a Thread object, which represents the thread that is currently running. This function can be used to perform various operations\n",
    "on the current thread, such as setting or getting the name of the thread, identifying its ID, or checking if it is a daemon \n",
    "thread.\n",
    "\n",
    "3.enumerate(): This function is used to get a list of all active thread objects in a Python program. It returns a list of \n",
    "Thread objects, which represent all the thread."
   ]
  },
  {
   "cell_type": "code",
   "execution_count": null,
   "id": "c622a46f-e1dc-4f3d-bca2-d7e255d64f5c",
   "metadata": {},
   "outputs": [],
   "source": [
    "Q3. Explain the following functions\n",
    "1.run()\n",
    "2.start()\n",
    "3.join()\n",
    "4.isAlive()"
   ]
  },
  {
   "cell_type": "code",
   "execution_count": null,
   "id": "1d8159e7-2062-4722-9046-a35af9bcc9ca",
   "metadata": {},
   "outputs": [],
   "source": [
    "In Python threading module, the Thread class provides several methods for managing threads. Here are the explanations of the \n",
    "following methods:\n",
    "\n",
    "1.run(): This method is the entry point for a thread execution. It defines the behavior of the thread when it is started, and \n",
    "typically contains the code that will be executed concurrently with other threads. \n",
    "\n",
    "2.start(): This method is used to start a thread execution. It schedules the thread to begin running in the near future, and \n",
    "returns immediately without waiting for the thread to complete. \n",
    "\n",
    "3.join(): This method is used to wait for a thread to complete its execution. When a thread is joined, the calling thread will\n",
    "block and wait for the joined thread to complete before continuing. \n",
    "\n",
    "4.isAlive(): This method is used to check if a thread is currently running. It returns a boolean value, which is True if the \n",
    "thread is still running, and False otherwise.\n"
   ]
  },
  {
   "cell_type": "code",
   "execution_count": null,
   "id": "5e26f702-9b7a-4209-930f-85367994c494",
   "metadata": {},
   "outputs": [],
   "source": [
    "Q4.write a python program to create two threads. Thread one must print the list of squares and thread\n",
    "two must print the list of cubes."
   ]
  },
  {
   "cell_type": "code",
   "execution_count": 2,
   "id": "debf8759-fa40-48b8-beef-b0c3f696254c",
   "metadata": {},
   "outputs": [
    {
     "name": "stdout",
     "output_type": "stream",
     "text": [
      "1\n",
      "4\n",
      "9\n",
      "16\n",
      "25\n",
      "36\n",
      "49\n",
      "64\n",
      "81\n",
      "100\n",
      "1\n",
      "8\n",
      "27\n",
      "64\n",
      "125\n",
      "216\n",
      "343\n",
      "512\n",
      "729\n",
      "1000\n",
      "both threads are complete\n"
     ]
    }
   ],
   "source": [
    "import threading\n",
    "\n",
    "def print_squares():\n",
    "    squares=[x**2 for x in range(1,11)]\n",
    "    for i in squares:\n",
    "        print(i)\n",
    "        \n",
    "def print_cubes():\n",
    "    cubes=[x**3 for x in range(1,11)]\n",
    "    for i in cubes:\n",
    "        print(i)\n",
    "        \n",
    "if __name__=='__main__':\n",
    "    \n",
    "    #create the first thread to print squares\n",
    "    r1=threading.Thread(target=print_squares)\n",
    "    \n",
    "    #create the second thread to print cubes\n",
    "    r2=threading.Thread(target=print_cubes)\n",
    "    \n",
    "    #start both threads\n",
    "    r1.start()\n",
    "    r2.start()\n",
    "    \n",
    "    #wait to start\n",
    "    r1.join()\n",
    "    r2.join()\n",
    "    \n",
    "    print('both threads are complete')"
   ]
  },
  {
   "cell_type": "code",
   "execution_count": null,
   "id": "d1ce0787-6cd7-4edb-bbf4-abee8f93292b",
   "metadata": {},
   "outputs": [],
   "source": [
    "Q5.State advantages and disadvantages of multithreading."
   ]
  },
  {
   "cell_type": "code",
   "execution_count": null,
   "id": "e6f1e73e-c318-45db-a5b5-a9ea6b83e08a",
   "metadata": {},
   "outputs": [],
   "source": [
    "Advantages:\n",
    "\n",
    "1.Improved performance.\n",
    "2.Responsiveness.\n",
    "3.Resource sharing.\n",
    "4.Scalability.\n",
    "\n",
    "Disadvantages:\n",
    "1.Complexity.\n",
    "2.Concurrency issues.\n",
    "3.Increased memory usage.\n",
    "4.Debugging."
   ]
  },
  {
   "cell_type": "code",
   "execution_count": null,
   "id": "0f00a24e-1035-4de2-be0b-719c51cdb654",
   "metadata": {},
   "outputs": [],
   "source": [
    "Q6.Explain deadlocks and race conditions."
   ]
  },
  {
   "cell_type": "code",
   "execution_count": null,
   "id": "5af6c16c-c880-4efe-990e-cb7fbf23c779",
   "metadata": {},
   "outputs": [],
   "source": [
    "Deadlock: A deadlock occurs when two or more threads are waiting for each other to release a resources,such as a lock or a \n",
    "semaphore,that they need to continue execution.\n",
    "In other words,each thread is blocked and waiting for a resource that another thread is holding, and the program becomes stuck\n",
    "in a state where no progress can be made.Deadlocks are serious problem in multithreaded programs and can be difficult to detect\n",
    "and resolve.\n",
    "    \n",
    "Race condition:A race condition occurs when the behaviour of a program depends on the relatives timing and interleaving of \n",
    "events between two or more threads.\n",
    "In other words,the outcome of the program can vary depending on the order in which the threads execute.This can lead to \n",
    "predictable or incorrect behaviour,such as data corruption or incorrect program results.Race conditions can occurs when \n",
    "multiple threads access and modify shared resources without proper synchronization or mutual exclusion,leading to data \n",
    "inconsistency and errors.\n",
    "    \n",
    "To avoid deadlocks and race condtions in multithreaded programs,it is important to follow best practices such as proper \n",
    "synchronization and mutual exclusion,careful design and testing,and using appropriate concurrency libraries and tools.\n",
    "        "
   ]
  }
 ],
 "metadata": {
  "kernelspec": {
   "display_name": "Python 3 (ipykernel)",
   "language": "python",
   "name": "python3"
  },
  "language_info": {
   "codemirror_mode": {
    "name": "ipython",
    "version": 3
   },
   "file_extension": ".py",
   "mimetype": "text/x-python",
   "name": "python",
   "nbconvert_exporter": "python",
   "pygments_lexer": "ipython3",
   "version": "3.10.8"
  }
 },
 "nbformat": 4,
 "nbformat_minor": 5
}
