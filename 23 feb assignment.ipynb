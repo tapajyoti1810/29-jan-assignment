{
 "cells": [
  {
   "cell_type": "code",
   "execution_count": null,
   "id": "ace50d28-7bc1-489e-b1a0-3511b196a6f7",
   "metadata": {},
   "outputs": [],
   "source": [
    "Q1. Create a Pandas Series that contains the following data: 4, 8, 15, 16, 23, and 42. Then, print the series."
   ]
  },
  {
   "cell_type": "code",
   "execution_count": 1,
   "id": "3ec7642b-4d87-42cd-a449-cdca061331a4",
   "metadata": {},
   "outputs": [
    {
     "name": "stdout",
     "output_type": "stream",
     "text": [
      "0     4\n",
      "1     8\n",
      "2    15\n",
      "3    16\n",
      "4    23\n",
      "5    42\n",
      "dtype: int64\n"
     ]
    }
   ],
   "source": [
    "import pandas as pd\n",
    "data=[4,8,15,16,23,42]\n",
    "df=pd.Series(data)\n",
    "print(df)"
   ]
  },
  {
   "cell_type": "code",
   "execution_count": null,
   "id": "12dd1213-cd47-43d7-be65-b22edb0f18af",
   "metadata": {},
   "outputs": [],
   "source": [
    "Q2. Create a variable of list type containing 10 elements in it, and apply pandas.Series function on the\n",
    "variable print it."
   ]
  },
  {
   "cell_type": "code",
   "execution_count": 2,
   "id": "48ecbfe4-7276-4d46-9b4a-2bbfcd74f2de",
   "metadata": {},
   "outputs": [
    {
     "name": "stdout",
     "output_type": "stream",
     "text": [
      "0     1\n",
      "1     2\n",
      "2     3\n",
      "3     4\n",
      "4     5\n",
      "5     6\n",
      "6     7\n",
      "7     8\n",
      "8     9\n",
      "9    10\n",
      "dtype: int64\n"
     ]
    }
   ],
   "source": [
    "import pandas as pd\n",
    "list=[1,2,3,4,5,6,7,8,9,10]\n",
    "df=pd.Series(list)\n",
    "print(df)"
   ]
  },
  {
   "cell_type": "code",
   "execution_count": null,
   "id": "f57fbf5d-e687-4801-b098-6f53e0a34d0b",
   "metadata": {},
   "outputs": [],
   "source": [
    "Q3. Create a Pandas DataFrame that contains the following data:\n",
    "Name    Age   gender\n",
    "alice   25    female\n",
    "bob     30    male\n",
    "claire   27    female\n",
    "Then, print the DataFrame."
   ]
  },
  {
   "cell_type": "code",
   "execution_count": 3,
   "id": "95a384e8-fb0d-4703-abaa-12057b8511e3",
   "metadata": {},
   "outputs": [
    {
     "name": "stdout",
     "output_type": "stream",
     "text": [
      "     Name  Age  gender\n",
      "0   alice   25  female\n",
      "1     bob   30    male\n",
      "2  claire   27  female\n"
     ]
    }
   ],
   "source": [
    "import pandas as pd\n",
    "\n",
    "data = {'Name': ['alice', 'bob', 'claire'],\n",
    "\n",
    "        'Age': [25, 30, 27],\n",
    "\n",
    "        'gender': ['female', 'male', 'female']}\n",
    "\n",
    "df = pd.DataFrame(data)\n",
    "\n",
    "print(df)"
   ]
  },
  {
   "cell_type": "code",
   "execution_count": null,
   "id": "9dbddce1-5daa-47c7-991f-353409ca57e6",
   "metadata": {},
   "outputs": [],
   "source": [
    "Q4. What is ‘DataFrame’ in pandas and how is it different from pandas.series? Explain with an example."
   ]
  },
  {
   "cell_type": "code",
   "execution_count": 4,
   "id": "c8fffb20-b66f-4f08-becb-cf769e2f9a1c",
   "metadata": {},
   "outputs": [
    {
     "name": "stdout",
     "output_type": "stream",
     "text": [
      "      name  age gender\n",
      "0    Alice   25      F\n",
      "1      Bob   30      M\n",
      "2  Charlie   35      M\n"
     ]
    }
   ],
   "source": [
    "##A DataFrame is a two-dimensional data structure with labeled rows and columns, whereas a Series is a one-dimensional data structure with labeled values.\n",
    "##A DataFrame can have multiple columns of different data types, whereas a Series can have only one column of a single data type.\n",
    "import pandas as pd\n",
    "\n",
    "# create a dictionary of Series\n",
    "data = {'name': pd.Series(['Alice', 'Bob', 'Charlie']),\n",
    "        'age': pd.Series([25, 30, 35]),\n",
    "        'gender': pd.Series(['F', 'M', 'M'])}\n",
    "\n",
    "# create a DataFrame from the dictionary\n",
    "df = pd.DataFrame(data)\n",
    "\n",
    "# print the DataFrame\n",
    "print(df)"
   ]
  },
  {
   "cell_type": "code",
   "execution_count": null,
   "id": "edc8248c-d281-4a02-be77-ed76fb505c26",
   "metadata": {},
   "outputs": [],
   "source": [
    "Q5. What are some common functions you can use to manipulate data in a Pandas DataFrame? Can\n",
    "you give an example of when you might use one of these functions?"
   ]
  },
  {
   "cell_type": "code",
   "execution_count": null,
   "id": "0a933a75-6aec-453b-9ecf-8cb708308a0d",
   "metadata": {},
   "outputs": [],
   "source": [
    "here are many common functions and methods available in Pandas that you can use to manipulate data in a DataFrame. Here are some of the most commonly used ones:\n",
    "\n",
    "1.head() and tail(): these methods allow you to see the first or last n rows of a DataFrame, respectively. They can be useful for quickly checking the contents of a DataFrame.\n",
    "\n",
    "2.describe(): this method generates descriptive statistics for each column in a DataFrame, such as count, mean, standard deviation, and quartiles. It can be useful for getting an overview of the data.\n",
    "\n",
    "3.dropna(): this method removes any rows or columns that contain missing values (NaNs) from a DataFrame. It can be useful for cleaning up messy data.\n",
    "\n",
    "4.groupby(): this method groups the rows of a DataFrame based on the values in one or more columns, and allows you to perform aggregate calculations on each group. It can be useful for analyzing data by different categories.\n",
    "\n",
    "5.sort_values(): this method sorts the rows of a DataFrame based on the values in one or more columns. It can be useful for finding the highest or lowest values, or for sorting by alphabetical order.\n",
    "\n",
    "6.apply(): this method applies a function to each element or row of a DataFrame. It can be useful for performing custom calculations or transformations on the data.\n",
    "here is an example:\n",
    "import pandas as pd\n",
    "\n",
    "# create a DataFrame\n",
    "data = {'name': ['Alice', 'Bob', 'Charlie', 'David', 'Emily'],\n",
    "        'age': [25, 30, 35, 40, 45],\n",
    "        'gender': ['F', 'M', 'M', 'M', 'F'],\n",
    "        'salary': [50000, 60000, 70000, 80000, 90000]}\n",
    "df = pd.DataFrame(data)\n",
    "\n",
    "# group the DataFrame by gender and calculate the mean salary for each group\n",
    "grouped = df.groupby('gender')['salary'].mean()\n",
    "\n",
    "# print the resulting Series\n",
    "print(grouped)\n"
   ]
  },
  {
   "cell_type": "code",
   "execution_count": null,
   "id": "4309e682-7382-4124-bb52-3dcb3d4feba6",
   "metadata": {},
   "outputs": [],
   "source": [
    "Q6. Which of the following is mutable in nature Series, DataFrame, Panel?"
   ]
  },
  {
   "cell_type": "code",
   "execution_count": null,
   "id": "8a53ee36-edec-4419-8406-bd4b012353db",
   "metadata": {},
   "outputs": [],
   "source": [
    "In Pandas, Series and DataFrame are mutable in nature, while Panel is not.\n",
    "\n",
    "A mutable object is an object whose value can be changed after it is created. In Pandas, you can modify the contents of a\n",
    "Series or DataFrame by assigning new values to its elements or columns\n"
   ]
  },
  {
   "cell_type": "code",
   "execution_count": 6,
   "id": "82caff5c-6c9e-4987-bcaa-50670dbfcc89",
   "metadata": {},
   "outputs": [
    {
     "name": "stdout",
     "output_type": "stream",
     "text": [
      "      name  age gender\n",
      "0    Alice   25      F\n",
      "1      Bob   30      M\n",
      "2  Charlie   35      M\n"
     ]
    }
   ],
   "source": [
    "import pandas as pd\n",
    "\n",
    "# create a dictionary of Series\n",
    "data = {'name': pd.Series(['Alice', 'Bob', 'Charlie']),\n",
    "        'age': pd.Series([25, 30, 35]),\n",
    "        'gender': pd.Series(['F', 'M', 'M'])}\n",
    "\n",
    "# create a DataFrame from the dictionary\n",
    "df = pd.DataFrame(data)\n",
    "\n",
    "# print the DataFrame\n",
    "print(df)"
   ]
  },
  {
   "cell_type": "code",
   "execution_count": null,
   "id": "9ebba99e-b2ed-431d-bf96-e72ade47d1d9",
   "metadata": {},
   "outputs": [],
   "source": []
  }
 ],
 "metadata": {
  "kernelspec": {
   "display_name": "Python 3 (ipykernel)",
   "language": "python",
   "name": "python3"
  },
  "language_info": {
   "codemirror_mode": {
    "name": "ipython",
    "version": 3
   },
   "file_extension": ".py",
   "mimetype": "text/x-python",
   "name": "python",
   "nbconvert_exporter": "python",
   "pygments_lexer": "ipython3",
   "version": "3.10.8"
  }
 },
 "nbformat": 4,
 "nbformat_minor": 5
}
