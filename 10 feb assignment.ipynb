{
 "cells": [
  {
   "cell_type": "code",
   "execution_count": null,
   "id": "7dbb24b0-5aaf-462f-a2e5-c097ce3e2db5",
   "metadata": {},
   "outputs": [],
   "source": [
    "Q1.Which function is used to open a file ?\n",
    "What are the different modes of opening a file?\n",
    "Explain each mode of file opening."
   ]
  },
  {
   "cell_type": "code",
   "execution_count": null,
   "id": "5623afed-ed2d-4f62-ad9b-364c8a3e9ecb",
   "metadata": {},
   "outputs": [],
   "source": [
    " *The built-in Python function used to open a file is 'open()'"
   ]
  },
  {
   "cell_type": "code",
   "execution_count": null,
   "id": "caf66a27-20a0-45f6-b92c-05af405b895c",
   "metadata": {},
   "outputs": [],
   "source": [
    " The 'open()' function takes two parameters: The nem of the file, and the mode in which you want to open the file.\n",
    "    The mode specifies how you want to use the file."
   ]
  },
  {
   "cell_type": "code",
   "execution_count": null,
   "id": "e76edad7-f1b5-4038-92ed-f76c0e2b041f",
   "metadata": {},
   "outputs": [],
   "source": [
    "  The different modes of opening a file are:\n",
    "        \n",
    "        1.'r'(read only) - This is the default mode.It opens the file for reading,and an error is raised if the file\n",
    "        doesn;t exist.\n",
    "        \n",
    "        2.'w'(Write only) - This mode opens the file writing.If the file already exists,its content is truncated(i.e-deleted).\n",
    "        If the file doesn't exist, a new file is created.\n",
    "        \n",
    "        3.'a'(Append only) - This opens the file for writing,but it appends the new data to the end of the file instead of\n",
    "        overwriting its content.If the file doesn't exist a new file is created.\n",
    "        \n",
    "        4. 'x'(Exclusive Creation) - This mode is similar to 'w',but it opens the file only if it doesn't already exist.\n",
    "        If the file exists,an error is raised.\n",
    "        \n",
    "        5.'b'(Binary')-This mode is used to open the file in binary mode.It can be combined with any of the modes\n",
    "              above(e.g - 'rb' for binary read-only mode, 'wb' for binary write-only mode)\n",
    "              \n",
    "        6. 't'(Text)- This mode is used to open the file in text mode.It can be combined with any of the modes \n",
    "              above(e.g- 'rt' for text read-only mode, 'wt' f"
   ]
  },
  {
   "cell_type": "code",
   "execution_count": null,
   "id": "56cfca59-72e0-4a5e-9e4b-eee873e06cb4",
   "metadata": {},
   "outputs": [],
   "source": [
    "Q2. 2.Why close() function is used? Why is it important to close a file?\n"
   ]
  },
  {
   "cell_type": "code",
   "execution_count": null,
   "id": "c546cee7-62db-4c95-b7d7-974d5c0b0143",
   "metadata": {},
   "outputs": [],
   "source": [
    " The 'close' function is used to close a file that was previously opened with the 'open()' function."
   ]
  },
  {
   "cell_type": "code",
   "execution_count": null,
   "id": "1b6f1c2a-795f-4c80-bc62-318e0a99abc7",
   "metadata": {},
   "outputs": [],
   "source": [
    " It's important to close a file after you're done with it several reasons:\n",
    "        \n",
    "        1.Releasing system resources: When you open a file,your operating system allocates system resources(such as memory\n",
    "        and disk space) to handle the file.If you don't close the file,these resources won't be freed until your program \n",
    "        terminates.\n",
    "        \n",
    "        2.Flushing buffered data:When you write to a file,the data is often buffered in memory before its actually written \n",
    "        to disk.This can improve performance,but it also means that the data may not be immediately written to disk even \n",
    "        if you close your program.Closing the file explicitly flushes any remaining buffered data,ensuring that it's written \n",
    "        to disk.\n",
    "        \n",
    "        3.Preventing data corruption: If you don't close a file after writing to it,there a risk that data may become \n",
    "        corrupted if your program terminates before the data is flushed.Closing the file explicitely ensures that the data\n",
    "        is written to disk and reduces the risk of corruption.\n",
    "        \n",
    "        4.Improving program robustness:Failing to close a file can lead to unpredictable behaviour and bugs in your program.\n",
    "        Closing the file explicitly makes it clear when yor're done with the file and helps prevent bugs.\n",
    "        \n",
    "        Its good to practice to close a file after you're done.\n",
    "        "
   ]
  },
  {
   "cell_type": "code",
   "execution_count": null,
   "id": "ae6a1e9d-d8d7-40aa-b6f2-34c466db55ad",
   "metadata": {},
   "outputs": [],
   "source": [
    "Q3.Write a python program to create a text file.Write 'I want to become a Data Scientist'in that file.Then close the file.\n",
    "Open this file and read content of the file.\n"
   ]
  },
  {
   "cell_type": "code",
   "execution_count": null,
   "id": "2aae3c32-9531-4ddb-97b6-9bdc40655dd1",
   "metadata": {},
   "outputs": [],
   "source": [
    " #open the file in write mode\n",
    "    file=open('my_file.txt','w')\n",
    "    \n",
    " #write to the file\n",
    "    file.write('I want to become a Data Scientist')\n",
    "    \n",
    " #close the file\n",
    "    file.close()\n",
    "    \n",
    " #open the file in read mode\n",
    "    file=open('my_file.txt','r')\n",
    "    content=file.read\n",
    "    \n",
    " #read the file\n",
    "    content=file.read\n",
    "    \n",
    " #print the content of the file\n",
    "    print(content)\n",
    "    \n",
    " #close the file\n",
    "    file.close()\n",
    "    "
   ]
  },
  {
   "cell_type": "code",
   "execution_count": null,
   "id": "3ce0bf78-5a98-40d5-96a4-273fe25a97a2",
   "metadata": {},
   "outputs": [],
   "source": [
    "Q4.Explain the following with python code:read(),readline() and readlines()."
   ]
  },
  {
   "cell_type": "code",
   "execution_count": null,
   "id": "49581989-20c0-4dad-82e7-b9645de9ea19",
   "metadata": {},
   "outputs": [],
   "source": [
    " In python 'read()' method reads the entire contents of the file and returns it as a single string.\n",
    "    \n",
    "    For example:\n",
    "        \n",
    "        #open the file in read mode\n",
    "        file = open(\"my_file.txt\", \"r\")\n",
    "        \n",
    "        #print the content of the file\n",
    "        print(content)\n",
    "        \n",
    "        #close the file\n",
    "        file.close()"
   ]
  },
  {
   "cell_type": "code",
   "execution_count": null,
   "id": "054b2093-caf8-420f-afe9-a031777a61dd",
   "metadata": {},
   "outputs": [],
   "source": [
    "'readline()'-The 'readline()' method reads a single line from a file and returns it as astring.\n",
    "\n",
    "    For example:\n",
    "        \n",
    "        #open the file in read mode\n",
    "        file=open(\"my_file.txt\",\"r\")\n",
    "        \n",
    "        #read the first line of the file\n",
    "        first_line=file.readline()\n",
    "        \n",
    "        #print the first line of the file\n",
    "        print(first_line)\n",
    "        \n",
    "        #close the file\n",
    "        file.close()"
   ]
  },
  {
   "cell_type": "code",
   "execution_count": null,
   "id": "d5a20c32-1f2b-4fb7-a15f-f0b722596966",
   "metadata": {},
   "outputs": [],
   "source": [
    "'readlines()' -The 'readlines()' method reads all the lines of a file and returns them as alist of strings\n",
    "\n",
    "      for example:\n",
    "        \n",
    "        #open the file in read mode\n",
    "        file=open(\"my_file.txt\",\"r\")\n",
    "        \n",
    "        #read the all line in the file\n",
    "        lines=file.readlines()\n",
    "        \n",
    "        #read all the lines in the file\n",
    "        for i in lines:\n",
    "            print(lines)\n",
    "            \n",
    "        #close yhe file\n",
    "        file.close()"
   ]
  },
  {
   "cell_type": "code",
   "execution_count": null,
   "id": "6670ff4c-84db-4432-b07f-d2397de9950b",
   "metadata": {},
   "outputs": [],
   "source": [
    "Q5.Explain why with statement is used with open().What is the advantage of using with statement and open() together."
   ]
  },
  {
   "cell_type": "code",
   "execution_count": null,
   "id": "3b9965ed-45f3-4e51-be4e-65ad37d899e2",
   "metadata": {},
   "outputs": [],
   "source": [
    " The 'with'statement is used in the 'open()'function,you need to reminder to close the file when you're done with it,\n",
    "    otherwise you risk leaving the file open and potentially losing data.The 'with' statement provides a covenient way to\n",
    "    ensure that the file is closed automatically,even if an exception is raised during the processing of the file.\n",
    "    \n",
    "    For example:\n",
    "        with open(\"my_file.txt\",\"r\") as file:\n",
    "            content = file.read()\n",
    "            print(content)\n",
    "\n",
    "Advantages-It eliminates that risk of forgetting to close the file,Which can result in data loss or corruption.\n",
    "        By automatically closing the file when its no longer needed,the 'with'statement ensures that the file is closed\n",
    "    correctly and that the operating system's resources are properly released,even if an exception is raised during the \n",
    "    processing of the file.\n",
    "        \n",
    "        In short,using the'with' statement with the'open()' function is good practice that makes your code more readable,\n",
    "        less error-prone, and more robust."
   ]
  },
  {
   "cell_type": "code",
   "execution_count": null,
   "id": "e824943c-eff1-44ca-9864-db76d155f448",
   "metadata": {},
   "outputs": [],
   "source": [
    "Q6.Explain the write() and writelines()functions.Give a suitable example.\n"
   ]
  },
  {
   "cell_type": "code",
   "execution_count": null,
   "id": "02b87cc0-7f3e-414e-9215-f9bdd7c214ae",
   "metadata": {},
   "outputs": [],
   "source": [
    "'write()'- The 'write()' function writes string to a file.\n",
    "\n",
    "     for example:\n",
    "        \n",
    "        #open the file in write mode\n",
    "        file=open(\"my_file.txt\",\"w\")\n",
    "        \n",
    "        #write to the file\n",
    "        file.write(\"I want to become a Data Scientist\")\n",
    "        \n",
    "        #close the file\n",
    "        file.close()"
   ]
  },
  {
   "cell_type": "code",
   "execution_count": null,
   "id": "75b2afcd-53dd-40a4-b374-6dd470980244",
   "metadata": {},
   "outputs": [],
   "source": [
    "'writelines()'- The 'writelines()' function writes a list of string to a file.\n",
    "\n",
    "     for example:\n",
    "        \n",
    "        #open the file in write mode\n",
    "        file=open(\"my_file.txt\",\"w\")\n",
    "        \n",
    "         #write a list of string to the file\n",
    "        lines = [\"Line 1\", \"Line 2\" , \"Line 3\"]\n",
    "        file.writelines(lines)\n",
    "        \n",
    "        #close the file\n",
    "        file.close()"
   ]
  }
 ],
 "metadata": {
  "kernelspec": {
   "display_name": "Python 3 (ipykernel)",
   "language": "python",
   "name": "python3"
  },
  "language_info": {
   "codemirror_mode": {
    "name": "ipython",
    "version": 3
   },
   "file_extension": ".py",
   "mimetype": "text/x-python",
   "name": "python",
   "nbconvert_exporter": "python",
   "pygments_lexer": "ipython3",
   "version": "3.10.8"
  }
 },
 "nbformat": 4,
 "nbformat_minor": 5
}
