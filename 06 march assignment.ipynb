{
 "cells": [
  {
   "cell_type": "code",
   "execution_count": null,
   "id": "a118e87a-f629-4b3b-9954-61e4bcbdf1f1",
   "metadata": {},
   "outputs": [],
   "source": [
    "Q1. What is Statistics?"
   ]
  },
  {
   "cell_type": "code",
   "execution_count": null,
   "id": "5fffe0c8-8a5d-4a5b-a973-d9f604e83783",
   "metadata": {},
   "outputs": [],
   "source": [
    "statistics is the science of collecting,organizing and analyzing of data."
   ]
  },
  {
   "cell_type": "code",
   "execution_count": null,
   "id": "84a74d98-cfe4-4410-99df-153bb46805f6",
   "metadata": {},
   "outputs": [],
   "source": [
    "Q2. Define the different types of statistics and give an example of when each type might be used."
   ]
  },
  {
   "cell_type": "code",
   "execution_count": null,
   "id": "9a7ace22-cbf2-4f6f-b546-eca48fcdf74e",
   "metadata": {},
   "outputs": [],
   "source": [
    "types of statistics \n",
    "1)descriptive: it consists of organizing and summarizing of data,For example, if we want to describe the average height of\n",
    "people in a particular city, we can use descriptive statistics to calculate the mean height of a sample of people.\n",
    "2)inferential: it consist of using data you have measured to form coclusion,For example, if we want to determine if a new drug\n",
    "is effective, we can use inferential statistics to analyze the results of a clinical trial and make predictions about how it\n",
    "will perform in the general population.\n"
   ]
  },
  {
   "cell_type": "code",
   "execution_count": null,
   "id": "7cb918bb-12d9-4641-9cb3-2939219c216d",
   "metadata": {},
   "outputs": [],
   "source": [
    "Q3. What are the different types of data and how do they differ from each other? Provide an example of\n",
    "each type of data."
   ]
  },
  {
   "cell_type": "code",
   "execution_count": null,
   "id": "abbb9236-70e8-4b5d-ae33-f07d617687d4",
   "metadata": {},
   "outputs": [],
   "source": [
    "There are four main types of data: nominal, ordinal, interval, and ratio. Each type of data has different characteristics and\n",
    "statistical analyses that can be applied to them.\n",
    "\n",
    "Nominal data:\n",
    "Nominal data is the simplest type of data, which categorizes data into distinct groups based on their names or labels. Nominal\n",
    "data does not have any inherent order or numerical value. For example, the colors of a car (blue, red, green) or marital \n",
    "status (married, single, divorced) are examples of nominal data.\n",
    "\n",
    "Ordinal data:\n",
    "Ordinal data categorizes data into distinct groups based on their order or rank. Ordinal data can be ranked in order, but the\n",
    "difference between each value may not be known or meaningful. For example, ratings of a movie (excellent, good, fair, poor) or\n",
    "education level (elementary, high school, college, graduate) are examples of ordinal data.\n",
    "\n",
    "Interval data:\n",
    "Interval data is numerical data that has a meaningful order and equal intervals between values. The difference between values \n",
    "is meaningful, but the ratio between values is not. For example, temperature measured in degrees Celsius or Fahrenheit is an\n",
    "example of interval data.\n",
    "\n",
    "Ratio data:\n",
    "Ratio data is numerical data that has a meaningful order, equal intervals between values, and a true zero point. Ratio data \n",
    "can be compared in terms of ratios, such as a height of a person or the weight of an object. For example, age, weight, height,\n",
    "or income are examples of ratio data\n"
   ]
  },
  {
   "cell_type": "code",
   "execution_count": null,
   "id": "4cb1eb20-38b8-4051-a7bc-a409ceebe89f",
   "metadata": {},
   "outputs": [],
   "source": [
    "Q4. Categorise the following datasets with respect to quantitative and qualitative data types:\n",
    "(i) Grading in exam: A+, A, B+, B, C+, C, D, E\n",
    "(ii) Colour of mangoes: yellow, green, orange, red\n",
    "(iii) Height data of a class: [178.9, 179, 179.5, 176, 177.2, 178.3, 175.8,...]\n",
    "(iv) Number of mangoes exported by a farm: [500, 600, 478, 672, ...]"
   ]
  },
  {
   "cell_type": "code",
   "execution_count": null,
   "id": "00250707-ed75-4f49-a2e7-f98d87ad6860",
   "metadata": {},
   "outputs": [],
   "source": [
    "(i) Grading in exam: A+, A, B+, B, C+, C, D, E\n",
    "Categorical or qualitative data\n",
    "(ii) Colour of mangoes: yellow, green, orange, red\n",
    "Categorical or qualitative data\n",
    "(iii) Height data of a class: [178.9, 179, 179.5, 176, 177.2, 178.3, 175.8,...]\n",
    "Continuous or quantitative data\n",
    "(iv) Number of mangoes exported by a farm: [500, 600, 478, 672, ...]\n",
    "Discrete or quantitative data"
   ]
  },
  {
   "cell_type": "code",
   "execution_count": null,
   "id": "478193cc-87ba-43bb-ab58-f790b975d26d",
   "metadata": {},
   "outputs": [],
   "source": [
    "Q5. Explain the concept of levels of measurement and give an example of a variable for each level."
   ]
  },
  {
   "cell_type": "code",
   "execution_count": null,
   "id": "aec67dcb-1026-497b-89df-63df51459282",
   "metadata": {},
   "outputs": [],
   "source": [
    "Nominal level of measurement:\n",
    "Nominal level of measurement categorizes data into distinct groups based on their names or labels. This level of measurement \n",
    "does not have any inherent order or numerical value. For example, gender (male or female), blood type (A, B, AB, or O), or \n",
    "marital status (married, single, divorced) are all examples of nominal data.\n",
    "\n",
    "Ordinal level of measurement:\n",
    "Ordinal level of measurement categorizes data into distinct groups based on their order or rank. This level of measurement can\n",
    "be ranked in order, but the difference between each value may not be known or meaningful. For example, the level of education\n",
    "(elementary, high school, college, graduate) or satisfaction ratings (very satisfied, satisfied, neutral, dissatisfied, very\n",
    "dissatisfied) are examples of ordinal data.\n",
    "\n",
    "Interval level of measurement:\n",
    "Interval level of measurement is numerical data that has a meaningful order and equal intervals between values. The difference\n",
    "between values is meaningful, but the ratio between values is not. For example, temperature measured in degrees Celsius or \n",
    "Fahrenheit is an example of interval data.\n",
    "\n",
    "Ratio level of measurement:\n",
    "Ratio level of measurement is numerical data that has a meaningful order, equal intervals between values, and a true zero \n",
    "point. Ratio level data can be compared in terms of ratios, such as a height of a person or the weight of an object. For \n",
    "example, age, weight, height, or income are examples of ratio data.\n"
   ]
  },
  {
   "cell_type": "code",
   "execution_count": null,
   "id": "717b9e77-c0e3-4da3-a821-7dd0427a1f14",
   "metadata": {},
   "outputs": [],
   "source": [
    "Q6. Why is it important to understand the level of measurement when analyzing data? Provide an\n",
    "example to illustrate your answer."
   ]
  },
  {
   "cell_type": "code",
   "execution_count": null,
   "id": "f2c10ad2-6391-4c1e-84bf-e8592978efb2",
   "metadata": {},
   "outputs": [],
   "source": [
    "It is important to understand the level of measurement when analyzing data because it determines the type of statistical \n",
    "analysis that can be applied to the data. Different levels of measurement require different statistical techniques, and using\n",
    "the wrong method can result in incorrect conclusions. Moreover, understanding the level of measurement also helps to choose \n",
    "appropriate graphs and charts to represent data.\n",
    "For example, consider two variables, age and income. Age is a ratio variable because it has a true zero point, whereas income \n",
    "is an interval variable because it has equal intervals but does not have a true zero point. If we want to compare the average\n",
    "age and average income of two groups, we can use the mean as a measure of central tendency for both variables. However, if we \n",
    "want to compare the relative difference between the two groups for income, we cannot use ratios since there is no true zero \n",
    "point. On the other hand, ratios can be used for age.\n"
   ]
  },
  {
   "cell_type": "code",
   "execution_count": null,
   "id": "d252ddf4-7e29-4640-afb0-7a361de260d1",
   "metadata": {},
   "outputs": [],
   "source": [
    "Q7. How nominal data type is different from ordinal data type."
   ]
  },
  {
   "cell_type": "code",
   "execution_count": null,
   "id": "1b9d935b-e7ac-4dd6-8c2c-25b8f0974101",
   "metadata": {},
   "outputs": [],
   "source": [
    " the main difference between nominal and ordinal data is that nominal data only has categories with no inherent order or\n",
    "numerical value, while ordinal data has categories that can be ranked in order. Therefore, nominal data is the lowest level of\n",
    "measurement while ordinal data is the second level of measurement on the scale of measurement.\n"
   ]
  },
  {
   "cell_type": "code",
   "execution_count": null,
   "id": "2efa1120-16ed-4180-9233-a47abd8e096c",
   "metadata": {},
   "outputs": [],
   "source": [
    "Q8. Which type of plot can be used to display data in terms of range?"
   ]
  },
  {
   "cell_type": "code",
   "execution_count": null,
   "id": "ff17882f-c11a-49ab-bafb-cc01cc549aa9",
   "metadata": {},
   "outputs": [],
   "source": [
    "A box plot, also known as a box-and-whisker plot, can be used to display data in terms of range. A box plot provides a \n",
    "graphical representation of the five-number summary of a dataset: minimum value, lower quartile (Q1), median, upper quartile\n",
    "(Q3), and maximum value.\n"
   ]
  },
  {
   "cell_type": "code",
   "execution_count": null,
   "id": "21308b50-0395-46d0-a1d2-81ef345d8a3f",
   "metadata": {},
   "outputs": [],
   "source": [
    "Q9. Describe the difference between descriptive and inferential statistics. Give an example of each\n",
    "type of statistics and explain how they are used."
   ]
  },
  {
   "cell_type": "code",
   "execution_count": null,
   "id": "23573d9e-b960-47b8-b29d-429ca2d8d154",
   "metadata": {},
   "outputs": [],
   "source": [
    "Descriptive statistics involves the collection, analysis, and presentation of data to describe and summarize the main features\n",
    "of a dataset. It focuses on describing the characteristics of a sample or population, such as measures of central tendency\n",
    "(mean, median, mode), measures of variability (range, variance, standard deviation), and graphical representations \n",
    "(histograms, scatterplots, etc.). Descriptive statistics are used to gain insights into the data and to communicate the \n",
    "findings to others. For example, calculating the mean and standard deviation of test scores in a class and presenting them in \n",
    "a histogram can provide a visual summary of the data distribution and help to identify any trends or outliers.\n",
    "Inferential statistics, on the other hand, involves using sample data to make generalizations or predictions about a larger \n",
    "population. It involves statistical hypothesis testing, estimation, and prediction based on probability theory. Inferential \n",
    "statistics allow researchers to draw conclusions about a population based on a sample of data. For example, a researcher may \n",
    "use inferential statistics to test whether there is a significant difference in test scores between two groups of students. \n",
    "This can help to identify whether the difference observed in the sample is likely to be a true difference or just due to \n",
    "chance.\n"
   ]
  },
  {
   "cell_type": "code",
   "execution_count": null,
   "id": "e964929b-04c2-449e-adee-9821fb5e6431",
   "metadata": {},
   "outputs": [],
   "source": [
    "Q10. What are some common measures of central tendency and variability used in statistics? Explain\n",
    "how each measure can be used to describe a dataset."
   ]
  },
  {
   "cell_type": "code",
   "execution_count": null,
   "id": "c8fd584e-4795-40bf-bf9d-aebf3e142338",
   "metadata": {},
   "outputs": [],
   "source": [
    "Measures of central tendency are used to identify a single value that represents the typical or central value of the dataset.\n",
    "The most common measures of central tendency include:\n",
    "\n",
    "1.Mean: The mean is the average of all the values in a dataset. It is calculated by adding up all the values and dividing by \n",
    "the total number of values. The mean is sensitive to extreme values or outliers in the dataset.\n",
    "For example, if we have a dataset of test scores for a class of students, we can calculate the mean to get an idea of the \n",
    "typical score for the class.\n",
    "\n",
    "2.Median: The median is the middle value in a dataset when it is arranged in order. It is less sensitive to extreme values \n",
    "than the mean.\n",
    "For example, if we have a dataset of salaries for a company, we can calculate the median to get an idea of the typical salary \n",
    "earned by employees in the company.\n",
    "\n",
    "3.Mode: The mode is the value that appears most frequently in a dataset. It is useful when the data has a clear peak or most \n",
    "common value.\n",
    "For example, if we have a dataset of colors of cars sold by a dealership, we can calculate the mode to identify the most \n",
    "popular color among customers.\n",
    "\n",
    "Measures of variability are used to describe the spread or dispersion of the data around the central value. The most common \n",
    "measures of variability include:\n",
    "\n",
    "1.Range: The range is the difference between the maximum and minimum values in a dataset. It gives a rough indication of how \n",
    "much the data is spread out.\n",
    "For example, if we have a dataset of heights of students in a class, we can calculate the range to get an idea of how much the\n",
    "heights vary.\n",
    "\n",
    "2.Variance: The variance is the average of the squared differences of each value from the mean. It gives a more precise \n",
    "measure of how spread out the data is.\n",
    "For example, if we have a dataset of weights of students in a class, we can calculate the variance to get an idea of how much\n",
    "the weights deviate from the mean.\n",
    "\n",
    "3.Standard deviation: The standard deviation is the square root of the variance. It is a commonly used measure of variability \n",
    "that gives an idea of how much the data deviates from the mean. It is often used in conjunction with the mean to describe the\n",
    "shape of a distribution.\n",
    "For example, if we have a dataset of ages of employees in a company, we can calculate the standard deviation to get an idea of\n",
    "how much the ages deviate from the mean age of employees.\n",
    " "
   ]
  }
 ],
 "metadata": {
  "kernelspec": {
   "display_name": "Python 3 (ipykernel)",
   "language": "python",
   "name": "python3"
  },
  "language_info": {
   "codemirror_mode": {
    "name": "ipython",
    "version": 3
   },
   "file_extension": ".py",
   "mimetype": "text/x-python",
   "name": "python",
   "nbconvert_exporter": "python",
   "pygments_lexer": "ipython3",
   "version": "3.10.8"
  }
 },
 "nbformat": 4,
 "nbformat_minor": 5
}
