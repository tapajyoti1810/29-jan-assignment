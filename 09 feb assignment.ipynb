{
 "cells": [
  {
   "cell_type": "code",
   "execution_count": null,
   "id": "92fcf5ce-8900-45ca-96d7-c4e2262a9b46",
   "metadata": {},
   "outputs": [],
   "source": [
    "Q1. Create a vehicle class with an init method having instance variable as name_of_vehicle,max_speed and\n",
    " average_of_vehicle."
   ]
  },
  {
   "cell_type": "code",
   "execution_count": 1,
   "id": "280b5225-fd2e-4758-a339-03cb7541034f",
   "metadata": {},
   "outputs": [],
   "source": [
    "class vehicle:\n",
    "    def __init__(self,name_of_vehicle,max_speed,average_of_vehicle):\n",
    "        self.name_of_vehicle=name_of_vehicle\n",
    "        self.max_speed=max_speed\n",
    "        self.average_of_vehicle=average_of_vehicle\n",
    "        \n",
    "    def return_vehicle_details(self):\n",
    "        return self.name_of_vehicle,self.max_speed,self.average_of_vehicle\n",
    "        "
   ]
  },
  {
   "cell_type": "code",
   "execution_count": 3,
   "id": "44ba3c99-2309-4b2b-b6dd-98f72a813ba9",
   "metadata": {},
   "outputs": [],
   "source": [
    "car=vehicle('maruti',130,20)"
   ]
  },
  {
   "cell_type": "code",
   "execution_count": 5,
   "id": "b10d447f-4a93-4bde-8fb6-b2a18590f5e9",
   "metadata": {},
   "outputs": [
    {
     "data": {
      "text/plain": [
       "('maruti', 130, 20)"
      ]
     },
     "execution_count": 5,
     "metadata": {},
     "output_type": "execute_result"
    }
   ],
   "source": [
    "car.return_vehicle_details()"
   ]
  },
  {
   "cell_type": "code",
   "execution_count": null,
   "id": "b0b48581-e1ea-45b6-af83-096199b2c4ff",
   "metadata": {},
   "outputs": [],
   "source": [
    "Q2. Create a child class car from the vehicle class created in Que 1, which will inherit the vehicle class.\n",
    " Create a method named seating_capacity which takes capacity as an argument and returns the name of the vehicle and\n",
    "  its seating capacity."
   ]
  },
  {
   "cell_type": "code",
   "execution_count": 13,
   "id": "7c475ee1-13bf-4d37-b392-414bc0919a5b",
   "metadata": {},
   "outputs": [],
   "source": [
    "class car(vehicle):\n",
    "    def __init__ (self,name_of_vehicle, max_speed, average_of_vehicle,seating_capacity):\n",
    "        super().__init__(name_of_vehicle, max_speed, average_of_vehicle) \n",
    "        self.seating_capacity=seating_capacity\n",
    "    def show_name_capacity(self):\n",
    "        return self.name_of_vehicle, self.seating_capacity\n"
   ]
  },
  {
   "cell_type": "code",
   "execution_count": 14,
   "id": "65e9d7f2-da7b-49f2-b512-23ca19b7fcae",
   "metadata": {},
   "outputs": [],
   "source": [
    "rounak=car('tata nexon',190,50,5)"
   ]
  },
  {
   "cell_type": "code",
   "execution_count": 15,
   "id": "5f40d891-f98a-480e-95e8-8691c733ab13",
   "metadata": {},
   "outputs": [
    {
     "data": {
      "text/plain": [
       "('tata nexon', 5)"
      ]
     },
     "execution_count": 15,
     "metadata": {},
     "output_type": "execute_result"
    }
   ],
   "source": [
    "rounak.show_name_capacity()"
   ]
  },
  {
   "cell_type": "code",
   "execution_count": null,
   "id": "8a6fca7b-d580-4ffb-b370-e58f8507dfa3",
   "metadata": {},
   "outputs": [],
   "source": [
    "Q3.  What is multiple inheritance? Write a python code to demonstrate multiple inheritance."
   ]
  },
  {
   "cell_type": "code",
   "execution_count": null,
   "id": "f86a541d-b692-4ef1-8d53-f63646768ab5",
   "metadata": {},
   "outputs": [],
   "source": [
    "*When 2 diffrent classes combined to create another class than the created new class is caled multiple inheritance"
   ]
  },
  {
   "cell_type": "code",
   "execution_count": 16,
   "id": "c4c66c4d-c643-4399-93fb-7965ce75fabc",
   "metadata": {},
   "outputs": [],
   "source": [
    "class car:\n",
    "    \n",
    "    def colour_car(self):\n",
    "        return \"the colour is red\""
   ]
  },
  {
   "cell_type": "code",
   "execution_count": 17,
   "id": "d96a11e0-e135-4b2a-8235-63dd7035ec4f",
   "metadata": {},
   "outputs": [],
   "source": [
    "class truck:\n",
    "    \n",
    "    def colour_truck(self):\n",
    "        return \"the colour is yellow\""
   ]
  },
  {
   "cell_type": "code",
   "execution_count": 18,
   "id": "4e56ea78-e806-4b2f-9b33-20550f849ebb",
   "metadata": {},
   "outputs": [],
   "source": [
    "class bike(car,truck):\n",
    "    pass"
   ]
  },
  {
   "cell_type": "code",
   "execution_count": 19,
   "id": "74e9f8f6-27c1-4ec5-8385-ec44513ee9e1",
   "metadata": {},
   "outputs": [],
   "source": [
    "rounak=bike()"
   ]
  },
  {
   "cell_type": "code",
   "execution_count": 22,
   "id": "29cf8a21-377d-4853-b0bd-12d878c285dc",
   "metadata": {},
   "outputs": [
    {
     "data": {
      "text/plain": [
       "'the colour is red'"
      ]
     },
     "execution_count": 22,
     "metadata": {},
     "output_type": "execute_result"
    }
   ],
   "source": [
    "rounak.colour_car()"
   ]
  },
  {
   "cell_type": "code",
   "execution_count": 23,
   "id": "69a1b65b-59d1-459b-93f7-914316a3e4a2",
   "metadata": {},
   "outputs": [
    {
     "data": {
      "text/plain": [
       "'the colour is yellow'"
      ]
     },
     "execution_count": 23,
     "metadata": {},
     "output_type": "execute_result"
    }
   ],
   "source": [
    "rounak.colour_truck()"
   ]
  },
  {
   "cell_type": "code",
   "execution_count": null,
   "id": "435110b8-8151-403a-961e-0ed56b076f6b",
   "metadata": {},
   "outputs": [],
   "source": [
    "Q4.  What are getter and setter in python? Create a class and create a getter and a setter method in this class."
   ]
  },
  {
   "cell_type": "code",
   "execution_count": null,
   "id": "3f7a5a4c-8410-4e48-a324-b78d17bfb678",
   "metadata": {},
   "outputs": [],
   "source": [
    "*getter-A method that allows you to access an attribute in a given class."
   ]
  },
  {
   "cell_type": "code",
   "execution_count": null,
   "id": "70e6a925-1ade-48f3-b8d3-7173d3ea67e8",
   "metadata": {},
   "outputs": [],
   "source": [
    "*setter-A method that allows you to set or mutate the value of an attribute in a class."
   ]
  },
  {
   "cell_type": "code",
   "execution_count": 5,
   "id": "7be782ba-695d-47c6-9758-8092216885a4",
   "metadata": {},
   "outputs": [],
   "source": [
    "class getter_setter:\n",
    "    def __init__(self,colour='blue'):\n",
    "        self._colour=colour\n",
    "        #using getter method\n",
    "    def get_colour(self):\n",
    "        return self._colour\n",
    "        #using setter method\n",
    "    def set_colour(self,a):\n",
    "        self._colour=a"
   ]
  },
  {
   "cell_type": "code",
   "execution_count": 6,
   "id": "a6adcf1d-4c27-41d7-bf2d-b883904fab60",
   "metadata": {},
   "outputs": [],
   "source": [
    "pw1=getter_setter()"
   ]
  },
  {
   "cell_type": "code",
   "execution_count": 13,
   "id": "344e3e41-850f-494f-912b-79b9dead54df",
   "metadata": {},
   "outputs": [],
   "source": [
    "#for the getter method"
   ]
  },
  {
   "cell_type": "code",
   "execution_count": 8,
   "id": "d63e913f-2c6b-44cf-9315-6b4b08b77992",
   "metadata": {},
   "outputs": [
    {
     "data": {
      "text/plain": [
       "'blue'"
      ]
     },
     "execution_count": 8,
     "metadata": {},
     "output_type": "execute_result"
    }
   ],
   "source": [
    "pw1.get_colour()"
   ]
  },
  {
   "cell_type": "code",
   "execution_count": 14,
   "id": "e987bf58-1f3e-4364-bacd-5af1c36b794a",
   "metadata": {},
   "outputs": [],
   "source": [
    "#for thr setter method"
   ]
  },
  {
   "cell_type": "code",
   "execution_count": 12,
   "id": "112be57d-9b02-4444-8884-c15600683d86",
   "metadata": {},
   "outputs": [
    {
     "data": {
      "text/plain": [
       "'blue'"
      ]
     },
     "execution_count": 12,
     "metadata": {},
     "output_type": "execute_result"
    }
   ],
   "source": [
    "pw1._colour"
   ]
  },
  {
   "cell_type": "code",
   "execution_count": null,
   "id": "f6041ef8-df84-4da0-bccd-03e1eac8a7e4",
   "metadata": {},
   "outputs": [],
   "source": [
    "Q5. .What is method overriding in python? Write a python code to demonstrate method overriding."
   ]
  },
  {
   "cell_type": "code",
   "execution_count": null,
   "id": "8f589ab4-36f0-4db7-939d-b50b8a29568e",
   "metadata": {},
   "outputs": [],
   "source": [
    "*The method overriding in Python means creating two methods with the same name but differ in the programming logic.\n",
    "The concept of Method overriding allows us to change or override the Parent Class function in the Child Class.\n"
   ]
  },
  {
   "cell_type": "code",
   "execution_count": 15,
   "id": "da5750c8-9005-4498-8772-e602c258e94e",
   "metadata": {},
   "outputs": [],
   "source": [
    "class boy1():\n",
    "    \n",
    "    #constructor\n",
    "    def __init__(self):\n",
    "        self.value='the boy1'\n",
    "        \n",
    "    #boy1's show mwthod\n",
    "    def show(self):\n",
    "        print(self.value)\n",
    "        \n",
    "class boy2(boy1):\n",
    "    \n",
    "    #constructor\n",
    "    def __init__(self):\n",
    "        self.value='the boy2'\n",
    "        \n",
    "    #boy2's show method\n",
    "    def show(self):\n",
    "        print(self.value)"
   ]
  },
  {
   "cell_type": "code",
   "execution_count": 16,
   "id": "e6d6b354-4eb3-4129-99f8-03e3635ca7cd",
   "metadata": {},
   "outputs": [],
   "source": [
    "obj1=boy1()\n",
    "obj2=boy2()"
   ]
  },
  {
   "cell_type": "code",
   "execution_count": null,
   "id": "c2e6e167-514d-4ff9-b6e2-5e825ebd31ec",
   "metadata": {},
   "outputs": [],
   "source": [
    "obj1."
   ]
  }
 ],
 "metadata": {
  "kernelspec": {
   "display_name": "Python 3 (ipykernel)",
   "language": "python",
   "name": "python3"
  },
  "language_info": {
   "codemirror_mode": {
    "name": "ipython",
    "version": 3
   },
   "file_extension": ".py",
   "mimetype": "text/x-python",
   "name": "python",
   "nbconvert_exporter": "python",
   "pygments_lexer": "ipython3",
   "version": "3.10.8"
  }
 },
 "nbformat": 4,
 "nbformat_minor": 5
}
