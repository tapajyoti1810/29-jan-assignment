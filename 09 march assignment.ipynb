{
 "cells": [
  {
   "cell_type": "code",
   "execution_count": null,
   "id": "82e43710-4a90-47ca-a0c1-e68b7e95f3a3",
   "metadata": {},
   "outputs": [],
   "source": [
    "Q1: What are the Probability Mass Function (PMF) and Probability Density Function (PDF)? Explain with\n",
    "an example."
   ]
  },
  {
   "cell_type": "code",
   "execution_count": null,
   "id": "4adc64b7-654a-469a-b8b7-3e0b5067b941",
   "metadata": {},
   "outputs": [],
   "source": [
    " The Probability Mass Function (PMF) and Probability Density Function (PDF) are both mathematical functions that describe the\n",
    "probability distribution of a random variable.\n",
    "\n",
    "A PMF is a function that maps each possible value of a discrete random variable to its probability of occurrence. It gives the\n",
    "probability of a discrete random variable taking on a specific value. For example, consider the roll of a fair six-sided die.\n",
    "The PMF for this random variable assigns a probability of 1/6 to each possible outcome of rolling the die (i.e., the values 1,\n",
    "2, 3, 4, 5, or 6). The PMF is defined as:\n",
    "\n",
    "    P(X = x) = 1/6, for x = 1, 2, 3, 4, 5, 6\n",
    "    \n",
    "Here, X is the random variable representing the outcome of a roll of the die, and x is one of the possible values that X can\n",
    "take.\n",
    "\n",
    "On the other hand, a PDF is a function that describes the probability distribution of a continuous random variable. It gives \n",
    "the probability density of a continuous random variable taking on a specific value. For example, consider the normal \n",
    "distribution with mean μ and standard deviation σ. The PDF for this random variable is given by the following formula:\n",
    "    \n",
    "      f(x) = (1 / (σ * √(2π))) * exp(-((x - μ)^2) / (2 * σ^2))\n",
    "        \n",
    "This formula gives the probability density of the normal distribution at any point x. Note that the PDF does not give the\n",
    "probability of the random variable taking on a specific value (since the probability of a continuous random variable taking on\n",
    "any specific value is zero). Rather, it gives the relative likelihood of the random variable being in a particular range of \n",
    "values.\n",
    "\n",
    "In summary, the PMF and PDF are both functions that describe the probability distribution of a random variable, but the PMF is\n",
    "used for discrete random variables, while the PDF is used for continuous random variables. The PMF gives the probability of \n",
    "the random variable taking on a specific value, while the PDF gives the probability density of the random variable at any \n",
    "point.\n",
    "  "
   ]
  },
  {
   "cell_type": "code",
   "execution_count": null,
   "id": "dbcebb4b-ceb9-454c-9685-2a021ec8d88e",
   "metadata": {},
   "outputs": [],
   "source": [
    "Q2: What is Cumulative Density Function (CDF)? Explain with an example. Why CDF is used?"
   ]
  },
  {
   "cell_type": "code",
   "execution_count": null,
   "id": "96f51613-1b2f-45d9-baec-0e3aadb0e381",
   "metadata": {},
   "outputs": [],
   "source": [
    " The Cumulative Density Function (CDF) is a mathematical function that describes the probability that a random variable takes \n",
    "    on a value less than or equal to a certain point. It gives the cumulative probability of the random variable up to a certain\n",
    "    \\point. In other words, the CDF is the integral of the PDF (or the sum of the PMF, in the discrete case) up to a certain \n",
    "    point.\n",
    "\n",
    "For example, let's consider the roll of a fair six-sided die. The PMF for this random variable is given by:\n",
    "\n",
    "       P(X = x) = 1/6, for x = 1, 2, 3, 4, 5, 6\n",
    "    \n",
    "The CDF for this random variable is given by:\n",
    "    \n",
    "    F(x) = P(X ≤ x) = ∑ P(X = i), for i = 1, 2, ..., x\n",
    "\n",
    "This formula gives the probability that the value of the random variable is less than or equal to a certain value x. For\n",
    "instance, the probability of rolling a number less than or equal to 3 on the die is:\n",
    "    \n",
    "    F(3) = P(X ≤ 3) = P(X = 1) + P(X = 2) + P(X = 3) = 1/6 + 1/6 + 1/6 = 1/2\n",
    "    \n",
    "Therefore, the CDF gives us information about the probability distribution of the random variable and allows us to calculate \n",
    "probabilities for specific events or ranges of values.\n",
    "\n",
    "The CDF is useful for several reasons. First, it provides a summary of the entire probability distribution of the random \n",
    "variable, not just at a specific point or range of values. Second, it allows us to calculate probabilities for any interval of\n",
    "values, not just for specific values like the PMF or PDF. Finally, the CDF can be used to calculate other useful measures of\n",
    "the probability distribution, such as the median or quartiles.\n",
    "    "
   ]
  },
  {
   "cell_type": "code",
   "execution_count": null,
   "id": "2eeda94d-373d-469d-8715-05eae220d14f",
   "metadata": {},
   "outputs": [],
   "source": [
    "Q3: What are some examples of situations where the normal distribution might be used as a model?\n",
    "Explain how the parameters of the normal distribution relate to the shape of the distribution."
   ]
  },
  {
   "cell_type": "code",
   "execution_count": null,
   "id": "48cacfe1-ceac-4feb-9068-28b3936555e6",
   "metadata": {},
   "outputs": [],
   "source": [
    " The normal distribution, also known as the Gaussian distribution, is one of the most commonly used probability distributions\n",
    "in statistics. It is a continuous distribution that is symmetric around its mean, with the majority of the data concentrated \n",
    "around the mean and decreasing towards the tails. Some examples of situations where the normal distribution might be used as a\n",
    "model are:\n",
    "\n",
    "1.Heights or weights of people in a population: These measurements are often normally distributed, with most people being \n",
    "around the average height or weight and fewer people being either very tall or very short, or very heavy or very light.\n",
    "\n",
    "2.Test scores: If a test is designed such that the scores are distributed normally, then the average score will be the mean of\n",
    "the distribution, and the standard deviation will determine how spread out the scores are.\n",
    "\n",
    "3.Errors in measurements: Any measurement is subject to errors, and if these errors are distributed normally, then the normal\n",
    "distribution can be used to model the errors.\n",
    "\n",
    "The normal distribution is characterized by two parameters: the mean (μ) and the standard deviation (σ). The mean is the \n",
    "center of the distribution, and determines the location of the peak. The standard deviation is a measure of the spread of the\n",
    "distribution, with larger values of σ resulting in flatter and more spread-out distributions, and smaller values of σ \n",
    "resulting in taller and more concentrated distributions.\n",
    "\n",
    "The shape of the normal distribution is also affected by the value of μ and σ. If μ is shifted to the right or left, then the\n",
    "distribution will be shifted accordingly. If σ is increased, the distribution will become flatter and more spread out. If σ is\n",
    "decreased, the distribution will become taller and more concentrated. \n"
   ]
  },
  {
   "cell_type": "code",
   "execution_count": null,
   "id": "6973ffe7-b389-4926-84de-5726e3c07639",
   "metadata": {},
   "outputs": [],
   "source": [
    "Q4: Explain the importance of Normal Distribution. Give a few real-life examples of Normal\n",
    "Distribution."
   ]
  },
  {
   "cell_type": "code",
   "execution_count": null,
   "id": "d13b1094-97fa-415d-879b-72245b767305",
   "metadata": {},
   "outputs": [],
   "source": [
    "    The normal distribution is an important concept in statistics and data analysis. It is used to model a wide range of \n",
    "phenomena in different fields, and its properties make it a useful tool for various applications. Some of the main reasons why\n",
    "the normal distribution is important are:\n",
    "\n",
    "1.Central Limit Theorem: One of the most important applications of the normal distribution is in the Central Limit Theorem,\n",
    "which states that the sample means of a large number of independent and identically distributed random variables will be \n",
    "approximately normally distributed, regardless of the underlying distribution. This theorem is important because it allows us \n",
    "to use normal distribution-based techniques to analyze a wide range of data.\n",
    "\n",
    "2.Data analysis and modeling: The normal distribution is commonly used to model a wide range of phenomena in different fields\n",
    "such as finance, physics, engineering, and social sciences. It provides a convenient way to describe the variability and \n",
    "distribution of data, and helps to identify patterns and trends.\n",
    "\n",
    "3.Hypothesis testing: The normal distribution is a key element in many statistical tests such as t-tests, ANOVA, and \n",
    "regression analysis. These tests rely on the assumption that the data is normally distributed, and they provide a way to test\n",
    "hypotheses and draw conclusions about population parameters based on the sample data.\n",
    "\n",
    "   Some real-life examples of normal distribution are:\n",
    "\n",
    "1.Heights of a population: The heights of a population tend to follow a normal distribution with a mean around 5 feet 7 inches\n",
    "(170 cm) for men and 5 feet 4 inches (163 cm) for women, and a standard deviation of about 3 inches (8 cm).\n",
    "\n",
    "2.IQ scores: IQ scores are standardized to have a normal distribution with a mean of 100 and a standard deviation of 15. This\n",
    "means that most people have an IQ score between 85 and 115.\n",
    "\n",
    "3.Body temperature: Body temperature in healthy individuals tends to follow a normal distribution with a mean of 98.6°F (37°C)\n",
    "and a standard deviation of 0.5°F (0.3°C).\n",
    "\n",
    "4.Stock prices: Stock prices can be modeled using a log-normal distribution, which is a transformation of the normal \n",
    "distribution. This allows us to estimate the probability of a particular stock price occurring, and to calculate various risk\n",
    "measures such as value at risk.\n",
    "\n",
    "5.Exam scores: Exam scores in a class tend to follow a normal distribution, which allows us to estimate the average score and\n",
    "the variability of the scores, and to identify students who may need additional help.\n"
   ]
  },
  {
   "cell_type": "code",
   "execution_count": null,
   "id": "4d1c91a8-2263-4971-865d-4e723ba546fc",
   "metadata": {},
   "outputs": [],
   "source": [
    "Q5: What is Bernaulli Distribution? Give an Example. What is the difference between Bernoulli\n",
    "Distribution and Binomial Distribution?"
   ]
  },
  {
   "cell_type": "code",
   "execution_count": null,
   "id": "446e5156-84d3-4e24-b85b-f23d7f1ddff3",
   "metadata": {},
   "outputs": [],
   "source": [
    "  The Bernoulli distribution is a probability distribution that models the outcomes of a single trial of a binary experiment\n",
    "(an experiment with two possible outcomes). The distribution has a probability parameter, usually denoted by p, which \n",
    "represents the probability of success in the trial (the probability of getting the favorable outcome).\n",
    "\n",
    "For example, consider the experiment of flipping a fair coin. The Bernoulli distribution can be used to model the outcome of a\n",
    "single flip, where success can be defined as getting heads (with probability p=0.5) and failure can be defined as getting \n",
    "tails (with probability 1-p=0.5). In this case, the Bernoulli distribution has only two possible outcomes: 1 for success and 0\n",
    "for failure.\n",
    "\n",
    "The main difference between the Bernoulli distribution and the binomial distribution is that the Bernoulli distribution models\n",
    "the outcome of a single trial, while the binomial distribution models the number of successes in a fixed number of independent \n",
    "and identically distributed Bernoulli trials.\n",
    "\n",
    "For example, consider the experiment of flipping a fair coin 10 times. The binomial distribution can be used to model the \n",
    "number of times heads appears, where each trial is a Bernoulli trial with probability of success p=0.5. In this case, the \n",
    "binomial distribution has 11 possible outcomes (0 to 10) and its probability mass function gives the probabilities of each \n",
    "outcome.\n",
    "\n",
    "To summarize, the Bernoulli distribution is a special case of the binomial distribution where there is only one trial.\n"
   ]
  },
  {
   "cell_type": "code",
   "execution_count": null,
   "id": "366d8267-479e-4170-83fc-06d17bb962b0",
   "metadata": {},
   "outputs": [],
   "source": [
    "Q6. Consider a dataset with a mean of 50 and a standard deviation of 10. If we assume that the dataset\n",
    "is normally distributed, what is the probability that a randomly selected observation will be greater\n",
    "than 60? Use the appropriate formula and show your calculations."
   ]
  },
  {
   "cell_type": "code",
   "execution_count": null,
   "id": "aa406101-57d1-48b3-916e-498e21a7468c",
   "metadata": {},
   "outputs": [],
   "source": [
    "  To calculate the probability that a randomly selected observation from a normally distributed dataset with a mean of 50 and \n",
    "    a standard deviation of 10 will be greater than 60, we need to use the standard normal distribution.\n",
    "\n",
    "First, we need to standardize the value of 60 using the formula:\n",
    "\n",
    "     z = (x - μ) / σ\n",
    "\n",
    "where x is the value of 60, μ is the mean of 50, and σ is the standard deviation of 10.\n",
    "\n",
    "     z = (60 - 50) / 10 = 1\n",
    "\n",
    "Next, we need to find the probability of a standard normal distribution being greater than 1. This can be done by looking up \n",
    "the area under the standard normal curve to the right of z = 1. We can use a table or a calculator to find this probability.\n",
    "Using a standard normal table, we find that the area to the right of z = 1 is approximately 0.1587.\n",
    "\n",
    "Therefore, the probability that a randomly selected observation from the given normally distributed dataset will be greater \n",
    "than 60 is approximately 0.1587 or 15.87%.\n"
   ]
  },
  {
   "cell_type": "code",
   "execution_count": null,
   "id": "ef3501f5-337b-4d19-a5ce-67224f61c94a",
   "metadata": {},
   "outputs": [],
   "source": [
    "Q7: Explain uniform Distribution with an example."
   ]
  },
  {
   "cell_type": "code",
   "execution_count": null,
   "id": "7452ee0a-3d55-4b0b-a680-173510d104a1",
   "metadata": {},
   "outputs": [],
   "source": [
    "   Uniform distribution is a probability distribution where each possible value of a variable has an equal chance of occurring.\n",
    "In other words, the probability density function of a uniform distribution is constant over a certain range and zero outside\n",
    "that range.\n",
    "\n",
    "For example, consider the experiment of rolling a fair six-sided die. The outcome of the experiment can be modeled using a \n",
    "uniform distribution since each of the six possible outcomes (1, 2, 3, 4, 5, or 6) has an equal chance of occurring. In this \n",
    "case, the probability density function of the uniform distribution is:\n",
    "\n",
    "      f(x) = 1/6 for x = 1, 2, 3, 4, 5, or 6\n",
    "\n",
    "This means that the probability of getting any of the six possible outcomes is the same, and the probability of getting any \n",
    "value outside this range is zero.\n",
    "\n",
    "Uniform distribution can also be used to model situations where there is no preference for any value within a given range.\n",
    "For example, the distribution of the arrival time of a bus at a stop during a certain period of time could be modeled using a\n",
    "uniform distribution, where any minute within that period has an equal chance of the bus arriving.\n"
   ]
  },
  {
   "cell_type": "code",
   "execution_count": null,
   "id": "112bd5be-e587-4f84-b078-205a94aa9f09",
   "metadata": {},
   "outputs": [],
   "source": [
    "Q8: What is the z score? State the importance of the z score."
   ]
  },
  {
   "cell_type": "code",
   "execution_count": null,
   "id": "235db497-5059-4dd3-a03a-64c0e0875595",
   "metadata": {},
   "outputs": [],
   "source": [
    "    The z-score, also known as the standard score, is a measure of how many standard deviations an observation or data point\n",
    "is away from the mean of a dataset. It is calculated by subtracting the mean from the observation and dividing the result by \n",
    "the standard deviation.\n",
    "\n",
    "The formula for calculating the z-score is:\n",
    "\n",
    "      z = (x - μ) / σ\n",
    "\n",
    "where x is the observation, μ is the mean of the dataset, and σ is the standard deviation of the dataset.\n",
    "\n",
    "The importance of the z-score lies in its ability to help standardize data across different scales and distributions. By \n",
    "transforming the data into z-scores, we can compare observations from different datasets that have different units and scales.\n",
    "Z-scores are also used to identify outliers and to calculate probabilities and percentiles based on standard normal \n",
    "distribution tables.\n",
    "\n",
    "For example, if we have a dataset of exam scores with a mean of 75 and a standard deviation of 10, we can use the z-score to \n",
    "find the proportion of students who scored above a certain value. If we want to find the proportion of students who scored \n",
    "above 85, we can calculate the z-score as:\n",
    "\n",
    "     z = (85 - 75) / 10 = 1\n",
    "\n",
    "We can then use a standard normal distribution table to find the proportion of students with a z-score greater than 1, which\n",
    "is approximately 0.1587. This means that about 15.87% of students scored above 85 on the exam.\n",
    "   "
   ]
  },
  {
   "cell_type": "code",
   "execution_count": null,
   "id": "650029d3-1e0e-41bb-b603-cb6c2b4339cc",
   "metadata": {},
   "outputs": [],
   "source": [
    "Q9: What is Central Limit Theorem? State the significance of the Central Limit Theorem."
   ]
  },
  {
   "cell_type": "code",
   "execution_count": null,
   "id": "9aaebac3-59c0-462a-9d13-328c4c55bed8",
   "metadata": {},
   "outputs": [],
   "source": [
    "The Central Limit Theorem (CLT) states that as the sample size of a random sample from any population increases, the \n",
    "distribution of the sample means approaches a normal distribution, regardless of the shape of the original population \n",
    "distribution. In other words, the distribution of the means of repeated samples taken from a population will approximate a \n",
    "normal distribution, regardless of the underlying distribution of the population.\n",
    "\n",
    "The significance of the Central Limit Theorem is that it provides a useful tool for statistical inference, allowing us to make\n",
    "inferences about population parameters from sample statistics. It allows us to use the normal distribution as an approximation \n",
    "for the sampling distribution of the sample mean, which enables us to make probabilistic statements about the population mean \n",
    "and construct confidence intervals and perform hypothesis testing.\n",
    "\n",
    "For example, let's say we want to estimate the mean height of all individuals in a population. We can take a random sample of\n",
    "100 individuals and calculate the sample mean height. Using the Central Limit Theorem, we can assume that the distribution of\n",
    "the sample means will be approximately normal, regardless of the shape of the population distribution. This enables us to make\n",
    "probabilistic statements about the population mean height, such as calculating a confidence interval or testing a hypothesis\n",
    "about the population mean height.\n"
   ]
  },
  {
   "cell_type": "code",
   "execution_count": null,
   "id": "ef84653f-e929-42e7-a306-5087d4167073",
   "metadata": {},
   "outputs": [],
   "source": [
    "Q10: State the assumptions of the Central Limit Theorem."
   ]
  },
  {
   "cell_type": "code",
   "execution_count": null,
   "id": "651013bf-6e27-47b2-a616-7e254c804fb2",
   "metadata": {},
   "outputs": [],
   "source": [
    "  The Central Limit Theorem (CLT) has some assumptions that need to be satisfied for it to be applicable:\n",
    "\n",
    "1.The samples are drawn randomly and independently from the population.\n",
    "2.The population has a finite mean and a finite variance.\n",
    "3.The sample size is sufficiently large. While there is no strict rule on what constitutes a large sample size, a commonly \n",
    "used rule of thumb is\n",
    "that the sample size should be greater than or equal to 30.\n",
    "4.The samples are identically distributed, meaning that they come from the same population.\n",
    "\n",
    "If these assumptions are satisfied, the Central Limit Theorem can be used to make inferences about population parameters from \n",
    "sample statistics."
   ]
  }
 ],
 "metadata": {
  "kernelspec": {
   "display_name": "Python 3 (ipykernel)",
   "language": "python",
   "name": "python3"
  },
  "language_info": {
   "codemirror_mode": {
    "name": "ipython",
    "version": 3
   },
   "file_extension": ".py",
   "mimetype": "text/x-python",
   "name": "python",
   "nbconvert_exporter": "python",
   "pygments_lexer": "ipython3",
   "version": "3.10.8"
  }
 },
 "nbformat": 4,
 "nbformat_minor": 5
}
