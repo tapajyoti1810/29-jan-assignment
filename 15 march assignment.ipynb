{
 "cells": [
  {
   "cell_type": "code",
   "execution_count": null,
   "id": "ff21f607-b652-4c3d-aa0c-5ade8919b962",
   "metadata": {},
   "outputs": [],
   "source": [
    "Q1- E=plain the following with an example?\n",
    "1) Artificial Intelligence\n",
    "2) MachinK Learning\n",
    "3) Deep LKarning\n"
   ]
  },
  {
   "cell_type": "code",
   "execution_count": null,
   "id": "935fb909-ad84-4d2f-b391-3d8a7d6bbbc9",
   "metadata": {},
   "outputs": [],
   "source": [
    "  A) Artificial Intelligence (AI) is a broad field of computer science that focuses on developing intelligent machines that\n",
    "    can perform tasks that typically require human-like intelligence, such as visual perception, speech recognition, \n",
    "    decision-making, and language translation.\n",
    "\n",
    "Example: An AI-powered virtual assistant like Siri or Alexa that can understand and respond to user voice commands, answer\n",
    "questions, play music, set reminders, and perform various other tasks.\n",
    "\n",
    "B) Machine Learning (ML) is a subset of AI that involves training machines to learn from data, recognize patterns, and make \n",
    "predictions or decisions without being explicitly programmed. ML algorithms use statistical techniques to identify patterns\n",
    "in large datasets and learn from them to improve their performance over time.\n",
    "\n",
    "Example: A machine learning model that predicts whether a customer will buy a product based on their browsing history, \n",
    "purchase history, demographics, and other relevant data.\n",
    "\n",
    "C) Deep Learning is a subset of machine learning that involves training neural networks with multiple layers to perform \n",
    "complex tasks such as image recognition, speech recognition, natural language processing, and decision-making. Deep learning \n",
    "algorithms use a hierarchical structure to learn and extract features from data and can achieve higher accuracy than \n",
    "traditional machine learning algorithms.\n",
    "\n",
    "Example: A deep learning model that can accurately recognize different breeds of dogs from images by analyzing patterns and \n",
    "features in the images.\n",
    "    "
   ]
  },
  {
   "cell_type": "code",
   "execution_count": null,
   "id": "7aa6511f-a5c8-40f0-839b-c031d2721153",
   "metadata": {},
   "outputs": [],
   "source": [
    "Q2- What is supervised learning? List some examples of supervised learning?"
   ]
  },
  {
   "cell_type": "code",
   "execution_count": null,
   "id": "c14149ce-a4bc-4732-81ca-d3422b27a17b",
   "metadata": {},
   "outputs": [],
   "source": [
    "    Supervised learning is a type of machine learning where the algorithm learns from labeled data, meaning data where the \n",
    "    input variables (features) are already tagged with the correct output variables (labels). The goal of supervised learning\n",
    "    is to learn a function that can map the input to the correct output.\n",
    "\n",
    "Some examples of supervised learning include:\n",
    "\n",
    "1.Classification problems: where the goal is to predict a categorical output, such as whether an email is spam or not.\n",
    "\n",
    "2.Regression problems: where the goal is to predict a continuous output, such as the price of a house based on its features.\n",
    "\n",
    "3.Natural Language Processing (NLP) problems: where the goal is to classify text data into different categories, such as \n",
    "sentiment analysis.\n",
    "\n",
    "Examples of supervised learning algorithms include linear regression, logistic regression, decision trees, support vector \n",
    "machines (SVMs), and artificial neural networks (ANNs).\n"
   ]
  },
  {
   "cell_type": "code",
   "execution_count": null,
   "id": "c9e67aba-8c35-473b-a7df-6f3d1dc27fd6",
   "metadata": {},
   "outputs": [],
   "source": [
    "Q3- GWhat is unsupervised learning? List some exmples of unsupervised learning."
   ]
  },
  {
   "cell_type": "code",
   "execution_count": null,
   "id": "ad9f3e6f-0619-4ff2-bb8c-43ccc2cdc178",
   "metadata": {},
   "outputs": [],
   "source": [
    " Unsupervised learning is a type of machine learning where the algorithm learns patterns and relationships in the data without\n",
    "any explicit labels or targets. The goal of unsupervised learning is often to identify clusters, patterns, or other hidden \n",
    "structures in the data. Some examples of unsupervised learning include:\n",
    "\n",
    "Clustering: Algorithms like k-means clustering or hierarchical clustering can group similar data points together based on \n",
    "their distance or similarity.\n",
    "\n",
    "Dimensionality reduction: Algorithms like principal component analysis (PCA) or t-SNE can reduce the number of features in the\n",
    "data while preserving its structure and variance.\n",
    "\n",
    "Anomaly detection: Algorithms like Isolation Forest or Local Outlier Factor can identify data points that deviate \n",
    "significantly from the norm.\n",
    "\n",
    "Association rule learning: Algorithms like Apriori or FP-Growth can identify rules and patterns in transactional data, such as\n",
    "which items tend to be purchased together in a grocery store.\n",
    "\n",
    "Generative models: Algorithms like autoencoders or generative adversarial networks (GANs) can learn to generate new data that\n",
    "is similar to the training data, such as generating realistic images of faces or landscapes.\n"
   ]
  },
  {
   "cell_type": "code",
   "execution_count": null,
   "id": "fb0238b7-7f52-4391-8dca-03e9a84f7cfe",
   "metadata": {},
   "outputs": [],
   "source": [
    "Q4- What is the difference between AI, ML, DL, and DS?"
   ]
  },
  {
   "cell_type": "code",
   "execution_count": null,
   "id": "540cde96-3e7e-4124-ae4c-5db297e4ba56",
   "metadata": {},
   "outputs": [],
   "source": [
    "   AI (Artificial Intelligence) refers to the broader field of creating machines that can perform tasks that typically require\n",
    "    human intelligence, such as problem-solving, learning, perception, and decision-making.\n",
    "\n",
    "ML (Machine Learning) is a subset of AI that involves training machines to learn from data without being explicitly programmed.\n",
    "The focus is on developing algorithms that can learn from and make predictions or decisions based on input data.\n",
    "\n",
    "DL (Deep Learning) is a subset of machine learning that uses neural networks with multiple layers to learn hierarchical \n",
    "representations of data. It involves training very large neural networks on massive amounts of data to make predictions or\n",
    "decisions.\n",
    "\n",
    "DS (Data Science) is an interdisciplinary field that involves extracting insights and knowledge from data. It includes a \n",
    "variety of techniques, including data analysis, statistics, machine learning, and visualization, to solve complex problems and\n",
    "make predictions or decisions based on data.\n",
    "\n",
    "In summary, AI is a broad field of study that includes ML and DL as subfields, while DS involves using various methods, \n",
    "including ML, to extract insights and knowledge from data.\n"
   ]
  },
  {
   "cell_type": "code",
   "execution_count": null,
   "id": "e99bdd82-55eb-4776-b1e1-75dcdd8b8433",
   "metadata": {},
   "outputs": [],
   "source": [
    "Q5- What are the main differnces between supervised, unsupervised, and semi-supervised learning?"
   ]
  },
  {
   "cell_type": "code",
   "execution_count": null,
   "id": "821ee76e-a4d5-46d4-b9b9-743c4bccc6d2",
   "metadata": {},
   "outputs": [],
   "source": [
    " The main differences between supervised, unsupervised, and semi-supervised learning are:\n",
    "\n",
    "1.Supervised Learning: In supervised learning, the machine learning algorithm learns from labeled data, where the input \n",
    "features and output labels are provided. The goal is to predict the output labels for new, unseen input data. Examples of \n",
    "supervised learning include image classification, sentiment analysis, and speech recognition.\n",
    "\n",
    "2.Unsupervised Learning: In unsupervised learning, the machine learning algorithm learns from unlabeled data, where only the \n",
    "input features are provided. The goal is to discover hidden patterns and structures in the data, such as clusters or \n",
    "associations. Examples of unsupervised learning include clustering, anomaly detection, and dimensionality reduction.\n",
    "\n",
    "3.Semi-Supervised Learning: In semi-supervised learning, the machine learning algorithm learns from a combination of labeled \n",
    "and unlabeled data. The goal is to improve the accuracy of the model by leveraging both the labeled and unlabeled data. \n",
    "Examples of semi-supervised learning include text classification and image recognition.\n",
    "\n",
    "In summary, the main difference between these types of learning is the type of data used to train the machine learning \n",
    "algorithm. Supervised learning uses labeled data, unsupervised learning uses unlabeled data, and semi-supervised learning uses \n",
    "a combination of labeled and unlabeled data.\n"
   ]
  },
  {
   "cell_type": "code",
   "execution_count": null,
   "id": "9f8f8adb-7b46-4e25-b61c-f0e9a3e806a8",
   "metadata": {},
   "outputs": [],
   "source": [
    "Q6- What is train, test and validation split? Explain the importance of each term."
   ]
  },
  {
   "cell_type": "code",
   "execution_count": null,
   "id": "217ccdad-700b-474d-a101-4cbebb2238d6",
   "metadata": {},
   "outputs": [],
   "source": [
    "  In machine learning, the dataset is divided into three subsets: training set, validation set, and test set. The purpose of\n",
    "    this split is to evaluate the performance of the machine learning model and to avoid overfitting.\n",
    "\n",
    "1.Training set: This is the subset of the dataset used to train the model. The model is trained on this set of data by \n",
    "adjusting its parameters to minimize the error or loss function.\n",
    "\n",
    "2.Validation set: This is the subset of the dataset used to tune the model's hyperparameters. Hyperparameters are the settings\n",
    "that are not learned by the model during training. The purpose of tuning these hyperparameters is to improve the model's \n",
    "performance on new data. The validation set is used to evaluate the model's performance during training and to prevent \n",
    "overfitting.\n",
    "\n",
    "3.Test set: This is the subset of the dataset used to evaluate the final performance of the trained model. The test set should\n",
    "be representative of the data the model will encounter in the real world. This set is only used once, after the model is\n",
    "trained, and it provides an unbiased estimate of the model's performance on new, unseen data.\n",
    "\n",
    "The importance of each term:\n",
    "\n",
    "Training set: used to train the model by adjusting its parameters to minimize the error or loss function.\n",
    "Validation set: used to tune the model's hyperparameters to improve its performance on new data and to prevent overfitting.\n",
    "\n",
    "Test set: used to evaluate the final performance of the trained model on new, unseen data.\n",
    "\n",
    "Proper splitting of the dataset into these three subsets ensures that the model is not overfitting or underfitting, and that \n",
    "its performance is optimized for new data.\n"
   ]
  },
  {
   "cell_type": "code",
   "execution_count": null,
   "id": "98b4d563-3d01-4e61-b49d-db0ea1a8006b",
   "metadata": {},
   "outputs": [],
   "source": [
    "Q7- How can unsupervised learing be used in anomaly detection?"
   ]
  },
  {
   "cell_type": "code",
   "execution_count": null,
   "id": "6da9c242-c95e-434d-8d7e-467e7250e8eb",
   "metadata": {},
   "outputs": [],
   "source": [
    "Unsupervised learning can be used in anomaly detection by training a model on a dataset without labels and identifying any \n",
    "data points that deviate significantly from the learned patterns as anomalies. In unsupervised anomaly detection, the model \n",
    "learns the underlying distribution of the data and identifies points that do not conform to this distribution as anomalies.\n",
    "\n",
    "One common unsupervised technique for anomaly detection is clustering, where the data is divided into groups based on \n",
    "similarity. Anomalies are then identified as data points that do not belong to any of the established clusters.\n",
    "\n",
    "Another technique is density-based anomaly detection, where the model learns the density distribution of the data and\n",
    "identifies anomalies as data points that fall outside of high-density regions.\n",
    "\n",
    "Overall, unsupervised learning can be a powerful tool for anomaly detection, especially in cases where labeled data is scarce\n",
    "or unavailable."
   ]
  },
  {
   "cell_type": "code",
   "execution_count": null,
   "id": "dddc394e-c926-4f54-a20f-b1ac7a0d7317",
   "metadata": {},
   "outputs": [],
   "source": [
    "Q8- List down some commonly used supervised learning algorithms and unsupervised learning algorithms."
   ]
  },
  {
   "cell_type": "code",
   "execution_count": null,
   "id": "0b401abb-99b8-4724-b8bf-34e8abd81343",
   "metadata": {},
   "outputs": [],
   "source": [
    "  Some commonly used supervised learning algorithms are:\n",
    "\n",
    "1.Linear Regression\n",
    "2.Logistic Regression\n",
    "3.Decision Tree\n",
    "4.Random Forest\n",
    "5.Naive Bayes\n",
    "6.K-Nearest Neighbors\n",
    "7.Support Vector Machines (SVM)\n",
    "8.Gradient Boosting\n",
    "\n",
    "Some commonly used unsupervised learning algorithms are:\n",
    "\n",
    "1.K-Means Clustering\n",
    "2.Hierarchical Clustering\n",
    "3.Principal Component Analysis (PCA)\n",
    "4.t-Distributed Stochastic Neighbor Embedding (t-SNE)\n",
    "5.Autoencoders\n",
    "6.Generative Adversarial Networks (GANs)\n",
    "7.Self-Organizing Maps (SOMs)"
   ]
  }
 ],
 "metadata": {
  "kernelspec": {
   "display_name": "Python 3 (ipykernel)",
   "language": "python",
   "name": "python3"
  },
  "language_info": {
   "codemirror_mode": {
    "name": "ipython",
    "version": 3
   },
   "file_extension": ".py",
   "mimetype": "text/x-python",
   "name": "python",
   "nbconvert_exporter": "python",
   "pygments_lexer": "ipython3",
   "version": "3.10.8"
  }
 },
 "nbformat": 4,
 "nbformat_minor": 5
}
