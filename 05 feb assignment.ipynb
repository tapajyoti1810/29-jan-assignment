{
 "cells": [
  {
   "cell_type": "code",
   "execution_count": null,
   "id": "2cce884b-156d-40a0-a23a-bb1a090b7a10",
   "metadata": {},
   "outputs": [],
   "source": [
    "Q1. EXPLAIN CLASS AND OBJECT WITH RESPECT TO OBJECT-ORIENTED PROGRAMMING .GIVE A SUITABLE EXAMPLE:"
   ]
  },
  {
   "cell_type": "code",
   "execution_count": null,
   "id": "9fc8ffe4-afbe-4790-9db1-0c25dbef0928",
   "metadata": {},
   "outputs": [],
   "source": [
    "class is the generator of objects."
   ]
  },
  {
   "cell_type": "code",
   "execution_count": 2,
   "id": "5a2d68f8-cdd8-4b97-95b0-526f493e081f",
   "metadata": {},
   "outputs": [],
   "source": [
    "class pwskills:\n",
    "    \n",
    "    def welcome_note(self):\n",
    "        print('welcome to pwskills')\n",
    "    "
   ]
  },
  {
   "cell_type": "code",
   "execution_count": 3,
   "id": "00a4b797-b554-4b2c-9501-755d5471c6f1",
   "metadata": {},
   "outputs": [],
   "source": [
    "#object"
   ]
  },
  {
   "cell_type": "code",
   "execution_count": 4,
   "id": "39feaf85-69b3-4658-9eea-ee968b65c4d7",
   "metadata": {},
   "outputs": [
    {
     "name": "stdout",
     "output_type": "stream",
     "text": [
      "welcome to pwskills\n"
     ]
    }
   ],
   "source": [
    "rounak=pwskills()\n",
    "rounak.welcome_note()"
   ]
  },
  {
   "cell_type": "code",
   "execution_count": null,
   "id": "3726ad9f-c9c2-4129-bf33-3d218f1c5c4e",
   "metadata": {},
   "outputs": [],
   "source": [
    "Q2. NAME THE FOUR PILLERS OF OPPS."
   ]
  },
  {
   "cell_type": "code",
   "execution_count": 6,
   "id": "e90db21b-66e5-4d80-81d1-74860684c65b",
   "metadata": {},
   "outputs": [],
   "source": [
    " #four pillers of OPPS are"
   ]
  },
  {
   "cell_type": "code",
   "execution_count": null,
   "id": "d1639818-64e3-4a29-8368-97afd53668d6",
   "metadata": {},
   "outputs": [],
   "source": [
    "*encapsulation."
   ]
  },
  {
   "cell_type": "code",
   "execution_count": null,
   "id": "926a839e-8f2b-41d3-a55b-705399934a92",
   "metadata": {},
   "outputs": [],
   "source": [
    "*abstraction."
   ]
  },
  {
   "cell_type": "code",
   "execution_count": null,
   "id": "9db882fa-a10e-4cff-8dfa-f7919074e080",
   "metadata": {},
   "outputs": [],
   "source": [
    "*inheritance."
   ]
  },
  {
   "cell_type": "code",
   "execution_count": null,
   "id": "b8c0893a-c3c9-4ea6-bd2b-fd5fd629b307",
   "metadata": {},
   "outputs": [],
   "source": [
    "*polymorphism."
   ]
  },
  {
   "cell_type": "code",
   "execution_count": null,
   "id": "0dcc5591-aa6f-4237-b6d9-a189a559790c",
   "metadata": {},
   "outputs": [],
   "source": [
    "Q3. EXPLAIN WHY THE __init__() FUNCTION IS USED. GIVE AN SUITABLE EXAMPLE."
   ]
  },
  {
   "cell_type": "code",
   "execution_count": null,
   "id": "12e901e5-dcf6-411a-90ff-ef441edf0d44",
   "metadata": {},
   "outputs": [],
   "source": [
    "the __init__() function is used becouse it is the special methods of a class which is automatically\n",
    "called when the object of a class is created."
   ]
  },
  {
   "cell_type": "code",
   "execution_count": 7,
   "id": "3d35e5f6-1e25-464b-a3b8-55c2f2000567",
   "metadata": {},
   "outputs": [],
   "source": [
    "class pwskills1:\n",
    "    def __init__(self ,phone_number,email_id,student_id):\n",
    "        self.phone_number=phone_number\n",
    "        self.email_id=email_id\n",
    "        self.student_id=student_id\n",
    "        \n",
    "    def return_student_details(self):\n",
    "        return self.student_id,self.phone_number,self.email_id"
   ]
  },
  {
   "cell_type": "code",
   "execution_count": 8,
   "id": "09865801-a4af-4a03-bff8-5dc42f57a043",
   "metadata": {},
   "outputs": [],
   "source": [
    "rohan=pwskills1(122232432342,'rohan@gmail.com',101)"
   ]
  },
  {
   "cell_type": "code",
   "execution_count": 9,
   "id": "840a60eb-27ad-4e6e-ab02-1f33e021df0b",
   "metadata": {},
   "outputs": [
    {
     "data": {
      "text/plain": [
       "122232432342"
      ]
     },
     "execution_count": 9,
     "metadata": {},
     "output_type": "execute_result"
    }
   ],
   "source": [
    "rohan.phone_number"
   ]
  },
  {
   "cell_type": "code",
   "execution_count": 10,
   "id": "4d7c9b3b-4977-4ec4-92a9-4f8f2d1d0c37",
   "metadata": {},
   "outputs": [
    {
     "data": {
      "text/plain": [
       "'rohan@gmail.com'"
      ]
     },
     "execution_count": 10,
     "metadata": {},
     "output_type": "execute_result"
    }
   ],
   "source": [
    "rohan.email_id"
   ]
  },
  {
   "cell_type": "code",
   "execution_count": 11,
   "id": "95391bff-c392-4367-b992-96c22e116986",
   "metadata": {},
   "outputs": [
    {
     "data": {
      "text/plain": [
       "101"
      ]
     },
     "execution_count": 11,
     "metadata": {},
     "output_type": "execute_result"
    }
   ],
   "source": [
    "rohan.student_id"
   ]
  },
  {
   "cell_type": "code",
   "execution_count": 13,
   "id": "e3d053a2-1c43-48d7-8991-64c70abacf62",
   "metadata": {},
   "outputs": [
    {
     "data": {
      "text/plain": [
       "(101, 122232432342, 'rohan@gmail.com')"
      ]
     },
     "execution_count": 13,
     "metadata": {},
     "output_type": "execute_result"
    }
   ],
   "source": [
    "rohan.return_student_details()"
   ]
  },
  {
   "cell_type": "code",
   "execution_count": null,
   "id": "187d0ff4-a19a-4225-8eea-55d86e3ba29a",
   "metadata": {},
   "outputs": [],
   "source": [
    "Q4. WHY SELF IS USED IN OPPS."
   ]
  },
  {
   "cell_type": "code",
   "execution_count": null,
   "id": "d856238e-049e-4351-9515-53678f48f3e9",
   "metadata": {},
   "outputs": [],
   "source": [
    "The self variable is used to represent the instance of the class which is often used in object-oriented programming.\n",
    "It works as a reference to the object."
   ]
  },
  {
   "cell_type": "code",
   "execution_count": null,
   "id": "310bbb5b-91a7-4831-8e45-76cd4b9e43b7",
   "metadata": {},
   "outputs": [],
   "source": [
    "Q5. WHAT IS INHERITANCE. GIVE AN EXAMPLE FOR EACH TYPE OF INHERITANCE."
   ]
  },
  {
   "cell_type": "code",
   "execution_count": 14,
   "id": "6a6e10d0-5dc9-4030-a32c-5ce6560fbf4b",
   "metadata": {},
   "outputs": [],
   "source": [
    "#inheritence"
   ]
  },
  {
   "cell_type": "code",
   "execution_count": null,
   "id": "53d8bab7-8745-4acd-9781-673433974f57",
   "metadata": {},
   "outputs": [],
   "source": [
    "using the features of one class into another class is concept of inheritence."
   ]
  },
  {
   "cell_type": "code",
   "execution_count": 5,
   "id": "6ad04882-b6b3-46f8-8be4-daa321c17007",
   "metadata": {},
   "outputs": [],
   "source": [
    "#example\n",
    "\n",
    "class class1:\n",
    "    \n",
    "    def test_class1(self):\n",
    "        return 'this is my method from class1'"
   ]
  },
  {
   "cell_type": "code",
   "execution_count": 7,
   "id": "51bafb00-b60e-4681-8980-1c282cbddde0",
   "metadata": {},
   "outputs": [],
   "source": [
    "class class2(class1):\n",
    "    \n",
    "    def test_class2(self):\n",
    "        return 'this is my method from class2'"
   ]
  },
  {
   "cell_type": "code",
   "execution_count": 8,
   "id": "40671d59-b9a8-4442-b042-e9fb71122fe4",
   "metadata": {},
   "outputs": [],
   "source": [
    "class class3(class2):\n",
    "    pass"
   ]
  },
  {
   "cell_type": "code",
   "execution_count": 9,
   "id": "36ecafb3-1090-4729-bd82-ea7edad80c3d",
   "metadata": {},
   "outputs": [],
   "source": [
    "obj_class3=class3()"
   ]
  },
  {
   "cell_type": "code",
   "execution_count": 11,
   "id": "d568d0a4-9a15-46ae-b4a9-d4a9c81fa57c",
   "metadata": {},
   "outputs": [
    {
     "data": {
      "text/plain": [
       "'this is my method from class1'"
      ]
     },
     "execution_count": 11,
     "metadata": {},
     "output_type": "execute_result"
    }
   ],
   "source": [
    "obj_class3.test_class1()"
   ]
  },
  {
   "cell_type": "code",
   "execution_count": 12,
   "id": "6212eacd-c979-4181-8914-65226864d3eb",
   "metadata": {},
   "outputs": [
    {
     "data": {
      "text/plain": [
       "'this is my method from class2'"
      ]
     },
     "execution_count": 12,
     "metadata": {},
     "output_type": "execute_result"
    }
   ],
   "source": [
    "obj_class3.test_class2()"
   ]
  },
  {
   "cell_type": "code",
   "execution_count": 13,
   "id": "8c4fbb8c-48c8-4c16-8a85-5ebdb04782b3",
   "metadata": {},
   "outputs": [],
   "source": [
    "#example #multiple inheritance\n",
    "\n",
    "class class1:\n",
    "    \n",
    "    def test_class1(self):\n",
    "        return 'this is class1'"
   ]
  },
  {
   "cell_type": "code",
   "execution_count": 14,
   "id": "f0f936cf-44e9-4bde-9be6-9a34f7dee7a8",
   "metadata": {},
   "outputs": [],
   "source": [
    "class class2:\n",
    "    \n",
    "    def test_class2(self):\n",
    "        return 'this is class2'"
   ]
  },
  {
   "cell_type": "code",
   "execution_count": 15,
   "id": "54089350-cc58-4e14-8412-0f73994cf312",
   "metadata": {},
   "outputs": [],
   "source": [
    "class class3(class1,class2):\n",
    "    pass"
   ]
  },
  {
   "cell_type": "code",
   "execution_count": 16,
   "id": "4e9d8f60-f375-4fe9-ae91-eccfae998af5",
   "metadata": {},
   "outputs": [],
   "source": [
    "obj_class3=class3()"
   ]
  },
  {
   "cell_type": "code",
   "execution_count": 18,
   "id": "705c33bb-56ca-4dcc-9027-5154a4b2318b",
   "metadata": {},
   "outputs": [
    {
     "data": {
      "text/plain": [
       "'this is class1'"
      ]
     },
     "execution_count": 18,
     "metadata": {},
     "output_type": "execute_result"
    }
   ],
   "source": [
    "obj_class3.test_class1()"
   ]
  },
  {
   "cell_type": "code",
   "execution_count": 19,
   "id": "cfa874f4-04fa-4856-8b14-c8a08aa981ec",
   "metadata": {},
   "outputs": [
    {
     "data": {
      "text/plain": [
       "'this is class2'"
      ]
     },
     "execution_count": 19,
     "metadata": {},
     "output_type": "execute_result"
    }
   ],
   "source": [
    "obj_class3.test_class2()"
   ]
  },
  {
   "cell_type": "code",
   "execution_count": null,
   "id": "ebe22e4a-35e2-463e-be78-caf7acec413c",
   "metadata": {},
   "outputs": [],
   "source": []
  }
 ],
 "metadata": {
  "kernelspec": {
   "display_name": "Python 3 (ipykernel)",
   "language": "python",
   "name": "python3"
  },
  "language_info": {
   "codemirror_mode": {
    "name": "ipython",
    "version": 3
   },
   "file_extension": ".py",
   "mimetype": "text/x-python",
   "name": "python",
   "nbconvert_exporter": "python",
   "pygments_lexer": "ipython3",
   "version": "3.10.8"
  }
 },
 "nbformat": 4,
 "nbformat_minor": 5
}
