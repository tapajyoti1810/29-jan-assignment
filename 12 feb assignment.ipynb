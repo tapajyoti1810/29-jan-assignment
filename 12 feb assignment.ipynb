{
 "cells": [
  {
   "cell_type": "code",
   "execution_count": null,
   "id": "29da7774-0c41-4de4-99cc-ce922647ac3e",
   "metadata": {},
   "outputs": [],
   "source": [
    "Q1. .what is Exception in python? Write the difference between Exceptions and Syntax errors."
   ]
  },
  {
   "cell_type": "code",
   "execution_count": null,
   "id": "52e7b80a-34be-4201-a970-df69ac2d39ff",
   "metadata": {},
   "outputs": [],
   "source": [
    " Exceptions are raised when the program is syntactically correct, but the code resulted in an error.\n",
    "This error does not stop the execution of the program, however, it changes the normal flow of the program."
   ]
  },
  {
   "cell_type": "code",
   "execution_count": null,
   "id": "52a70071-d2fc-4374-acab-4bcc650ab4b5",
   "metadata": {},
   "outputs": [],
   "source": [
    "Syntax Error: As the name suggests this error is caused by the wrong syntax in the code. It leads to the termination of\n",
    "the program."
   ]
  },
  {
   "cell_type": "code",
   "execution_count": null,
   "id": "053ce1ef-2ba2-4b14-87e3-dc80f9cb3495",
   "metadata": {},
   "outputs": [],
   "source": [
    "Syntax Error is an absolute error by the developer where as Exception can work in developer system but not in user system"
   ]
  },
  {
   "cell_type": "code",
   "execution_count": null,
   "id": "45533bf5-fe19-4c46-941f-cfe3bcb7150d",
   "metadata": {},
   "outputs": [],
   "source": [
    "Q2..What happens when an exception is not handled? Explain with an example ?"
   ]
  },
  {
   "cell_type": "code",
   "execution_count": null,
   "id": "562623cf-4ff6-475f-9ac7-8d1e995f1aab",
   "metadata": {},
   "outputs": [],
   "source": [
    " It will cause the program to terminate abruptly and display message to the user,which can lead to data loss or other \n",
    "    consequences.\n",
    "    \n",
    "      The exception is raised after the finally clause has been executed."
   ]
  },
  {
   "cell_type": "code",
   "execution_count": 11,
   "id": "5dc09ef0-2c40-4a07-9302-20ea8dda039d",
   "metadata": {},
   "outputs": [
    {
     "name": "stdout",
     "output_type": "stream",
     "text": [
      "division by zero\n"
     ]
    }
   ],
   "source": [
    "try:\n",
    "    a=10/0\n",
    "except ZeroDivisionError as e:\n",
    "    print(e)"
   ]
  },
  {
   "cell_type": "code",
   "execution_count": null,
   "id": "698de886-cf46-4461-bc78-a5d770911b42",
   "metadata": {},
   "outputs": [],
   "source": [
    "Q3.Which python statements are used to catch and handle exceptions? Explain with an example."
   ]
  },
  {
   "cell_type": "code",
   "execution_count": null,
   "id": "83fc3236-1cd2-4067-a2fb-126aca57ad49",
   "metadata": {},
   "outputs": [],
   "source": [
    "In python,'try-except'statements are used to catch and handle exceptions.The 'try' block contains the code that might raise\n",
    "an exception,and the 'except'block contains the code that is executed if an exception is raised.\n",
    "    "
   ]
  },
  {
   "cell_type": "code",
   "execution_count": null,
   "id": "c6f9164a-1ef4-4388-adff-381e0a9c43aa",
   "metadata": {},
   "outputs": [],
   "source": [
    "                  x = 10/0\n",
    "        except ZeroDivisionError:\n",
    "            print(\"Cannot divide by zero\")\n"
   ]
  },
  {
   "cell_type": "code",
   "execution_count": null,
   "id": "9f95d462-ecec-4eed-890c-b3465832bd18",
   "metadata": {},
   "outputs": [],
   "source": [
    "Q4.Explain with an Example:\n",
    "    a. try and else\n",
    "    b. finally\n",
    "    c. raise"
   ]
  },
  {
   "cell_type": "code",
   "execution_count": 12,
   "id": "7a69a755-4cac-4f55-99a7-b51d5b733f61",
   "metadata": {},
   "outputs": [
    {
     "name": "stdout",
     "output_type": "stream",
     "text": [
      "division by zero\n"
     ]
    }
   ],
   "source": [
    "#try\n",
    "try:\n",
    "    a=1/0\n",
    "except ZeroDivisionError as e:\n",
    "    print(e)"
   ]
  },
  {
   "cell_type": "code",
   "execution_count": 13,
   "id": "79b41d9d-d96d-4793-9e8b-805e001eb453",
   "metadata": {},
   "outputs": [
    {
     "name": "stdout",
     "output_type": "stream",
     "text": [
      "this will be executed once your try will execute without error\n"
     ]
    }
   ],
   "source": [
    "#else\n",
    "try:\n",
    "    f=open('test.txt','w')\n",
    "    f.write('write into my file')\n",
    "except Exception as e:\n",
    "    print('this is my except block',e)\n",
    "else:\n",
    "    f.close()\n",
    "    print('this will be executed once your try will execute without error')\n",
    "    "
   ]
  },
  {
   "cell_type": "code",
   "execution_count": 14,
   "id": "45177508-c3da-400c-855b-56b2ee7d49e4",
   "metadata": {},
   "outputs": [
    {
     "name": "stdout",
     "output_type": "stream",
     "text": [
      "finally will execute itself in any situation\n"
     ]
    }
   ],
   "source": [
    "#finally\n",
    "try:\n",
    "    f=open('test2.txt','w')\n",
    "    f.write('write something')\n",
    "finally:\n",
    "    print('finally will execute itself in any situation')"
   ]
  },
  {
   "cell_type": "code",
   "execution_count": null,
   "id": "de98d22b-3040-43e1-aad4-429518692aa2",
   "metadata": {},
   "outputs": [],
   "source": [
    "Q5..What are custom Exception in python? Why do need custom Exceptions?Explain with an example."
   ]
  },
  {
   "cell_type": "code",
   "execution_count": null,
   "id": "7c41c4c8-3dee-4832-94b9-f4d88dcf11b7",
   "metadata": {},
   "outputs": [],
   "source": [
    "Some time we need to raise custome msg for exception when system does not have the exception msg or the exception itself"
   ]
  },
  {
   "cell_type": "code",
   "execution_count": null,
   "id": "456fca25-ac90-4fce-afb3-788f89c3b58a",
   "metadata": {},
   "outputs": [],
   "source": [
    "For those exception which system does not count as an exception we need to raise customized msg in this time we need \n",
    "customised exception handelling."
   ]
  },
  {
   "cell_type": "code",
   "execution_count": 15,
   "id": "01ea2561-009c-467f-a224-757632c6d008",
   "metadata": {},
   "outputs": [
    {
     "name": "stdin",
     "output_type": "stream",
     "text": [
      "enter your age -32\n"
     ]
    },
    {
     "name": "stdout",
     "output_type": "stream",
     "text": [
      "-32\n"
     ]
    }
   ],
   "source": [
    "age=int(input('enter your age'))\n",
    "print(age)"
   ]
  },
  {
   "cell_type": "code",
   "execution_count": null,
   "id": "55e00015-1349-496d-9143-7704480d2e21",
   "metadata": {},
   "outputs": [],
   "source": [
    "Q6.Create a custom exception class.Use this class to handle an exception."
   ]
  },
  {
   "cell_type": "code",
   "execution_count": 19,
   "id": "b51bb71d-0ec4-48fa-a64a-9d2905111812",
   "metadata": {},
   "outputs": [],
   "source": [
    "class validateage(Exception):\n",
    "    \n",
    "    def __init__(self,messege):\n",
    "        self.messege=messege"
   ]
  },
  {
   "cell_type": "code",
   "execution_count": 20,
   "id": "09fa2b4e-9902-4d4d-a6fb-d68df4cb946c",
   "metadata": {},
   "outputs": [],
   "source": [
    "def validateage(age):\n",
    "    if age<0:\n",
    "        raise validateage('entered age is negative')\n",
    "    elif age>75:\n",
    "        raise validateage('entered age is high')\n",
    "    else:\n",
    "        print('age is valid')"
   ]
  },
  {
   "cell_type": "code",
   "execution_count": 21,
   "id": "097717ca-adda-4ff6-9334-604c55bef985",
   "metadata": {},
   "outputs": [
    {
     "name": "stdin",
     "output_type": "stream",
     "text": [
      "enter your age 33\n"
     ]
    },
    {
     "name": "stdout",
     "output_type": "stream",
     "text": [
      "age is valid\n"
     ]
    }
   ],
   "source": [
    "try:\n",
    "    age=int(input('enter your age'))\n",
    "    validateage(age)\n",
    "except validateage as m:\n",
    "    print(m)"
   ]
  },
  {
   "cell_type": "code",
   "execution_count": 25,
   "id": "b4a938ce-fc07-44cf-b976-f9d6dde32ec6",
   "metadata": {},
   "outputs": [
    {
     "name": "stdin",
     "output_type": "stream",
     "text": [
      "enter your age -22\n"
     ]
    },
    {
     "ename": "TypeError",
     "evalue": "catching classes that do not inherit from BaseException is not allowed",
     "output_type": "error",
     "traceback": [
      "\u001b[0;31m---------------------------------------------------------------------------\u001b[0m",
      "\u001b[0;31mTypeError\u001b[0m                                 Traceback (most recent call last)",
      "Cell \u001b[0;32mIn[25], line 3\u001b[0m\n\u001b[1;32m      2\u001b[0m     age\u001b[38;5;241m=\u001b[39m\u001b[38;5;28mint\u001b[39m(\u001b[38;5;28minput\u001b[39m(\u001b[38;5;124m'\u001b[39m\u001b[38;5;124menter your age\u001b[39m\u001b[38;5;124m'\u001b[39m))\n\u001b[0;32m----> 3\u001b[0m     \u001b[43mvalidateage\u001b[49m\u001b[43m(\u001b[49m\u001b[43mage\u001b[49m\u001b[43m)\u001b[49m\n\u001b[1;32m      4\u001b[0m \u001b[38;5;28;01mexcept\u001b[39;00m validateage \u001b[38;5;28;01mas\u001b[39;00m m:\n",
      "Cell \u001b[0;32mIn[20], line 3\u001b[0m, in \u001b[0;36mvalidateage\u001b[0;34m(age)\u001b[0m\n\u001b[1;32m      2\u001b[0m \u001b[38;5;28;01mif\u001b[39;00m age\u001b[38;5;241m<\u001b[39m\u001b[38;5;241m0\u001b[39m:\n\u001b[0;32m----> 3\u001b[0m     \u001b[38;5;28;01mraise\u001b[39;00m \u001b[43mvalidateage\u001b[49m\u001b[43m(\u001b[49m\u001b[38;5;124;43m'\u001b[39;49m\u001b[38;5;124;43mentered age is negative\u001b[39;49m\u001b[38;5;124;43m'\u001b[39;49m\u001b[43m)\u001b[49m\n\u001b[1;32m      4\u001b[0m \u001b[38;5;28;01melif\u001b[39;00m age\u001b[38;5;241m>\u001b[39m\u001b[38;5;241m75\u001b[39m:\n",
      "Cell \u001b[0;32mIn[20], line 2\u001b[0m, in \u001b[0;36mvalidateage\u001b[0;34m(age)\u001b[0m\n\u001b[1;32m      1\u001b[0m \u001b[38;5;28;01mdef\u001b[39;00m \u001b[38;5;21mvalidateage\u001b[39m(age):\n\u001b[0;32m----> 2\u001b[0m     \u001b[38;5;28;01mif\u001b[39;00m \u001b[43mage\u001b[49m\u001b[38;5;241;43m<\u001b[39;49m\u001b[38;5;241;43m0\u001b[39;49m:\n\u001b[1;32m      3\u001b[0m         \u001b[38;5;28;01mraise\u001b[39;00m validateage(\u001b[38;5;124m'\u001b[39m\u001b[38;5;124mentered age is negative\u001b[39m\u001b[38;5;124m'\u001b[39m)\n",
      "\u001b[0;31mTypeError\u001b[0m: '<' not supported between instances of 'str' and 'int'",
      "\nDuring handling of the above exception, another exception occurred:\n",
      "\u001b[0;31mTypeError\u001b[0m                                 Traceback (most recent call last)",
      "Cell \u001b[0;32mIn[25], line 4\u001b[0m\n\u001b[1;32m      2\u001b[0m     age\u001b[38;5;241m=\u001b[39m\u001b[38;5;28mint\u001b[39m(\u001b[38;5;28minput\u001b[39m(\u001b[38;5;124m'\u001b[39m\u001b[38;5;124menter your age\u001b[39m\u001b[38;5;124m'\u001b[39m))\n\u001b[1;32m      3\u001b[0m     validateage(age)\n\u001b[0;32m----> 4\u001b[0m \u001b[38;5;28;01mexcept\u001b[39;00m validateage \u001b[38;5;28;01mas\u001b[39;00m m:\n\u001b[1;32m      5\u001b[0m     \u001b[38;5;28mprint\u001b[39m(m)\n",
      "\u001b[0;31mTypeError\u001b[0m: catching classes that do not inherit from BaseException is not allowed"
     ]
    }
   ],
   "source": [
    "try:\n",
    "    age=int(input('enter your age'))\n",
    "    validateage(age)\n",
    "except validateage as m:\n",
    "    print(m)"
   ]
  },
  {
   "cell_type": "code",
   "execution_count": null,
   "id": "7f248830-fa06-4a5b-ab22-b8400bc2be13",
   "metadata": {},
   "outputs": [],
   "source": []
  }
 ],
 "metadata": {
  "kernelspec": {
   "display_name": "Python 3 (ipykernel)",
   "language": "python",
   "name": "python3"
  },
  "language_info": {
   "codemirror_mode": {
    "name": "ipython",
    "version": 3
   },
   "file_extension": ".py",
   "mimetype": "text/x-python",
   "name": "python",
   "nbconvert_exporter": "python",
   "pygments_lexer": "ipython3",
   "version": "3.10.8"
  }
 },
 "nbformat": 4,
 "nbformat_minor": 5
}
