{
 "cells": [
  {
   "cell_type": "code",
   "execution_count": null,
   "id": "3ff65114-2306-4d3d-87ff-9b03bdc13d12",
   "metadata": {},
   "outputs": [],
   "source": [
    "Q1. WHICH KEYWORD IS USED TO CREATE A FUNCTION? CREATE A FUNCTION TO RETURN A LIST OF ODD NUMBERS IN THE RANGE OF 1 TO 25:"
   ]
  },
  {
   "cell_type": "code",
   "execution_count": null,
   "id": "aebdba7e-9086-49de-98f2-1d3ba69cd86e",
   "metadata": {},
   "outputs": [],
   "source": [
    "def keyword is used to create a function."
   ]
  },
  {
   "cell_type": "code",
   "execution_count": 2,
   "id": "17a4cfb4-6180-4d04-88fd-3e88e7e478c7",
   "metadata": {},
   "outputs": [],
   "source": [
    "def test_odd(n):\n",
    "    l1=[]\n",
    "    for i in range(n):\n",
    "        if i%2!=0:\n",
    "            l1.append(i)\n",
    "    return l1        \n",
    "          "
   ]
  },
  {
   "cell_type": "code",
   "execution_count": 3,
   "id": "351e9ac6-ecc6-4bf0-a703-e7e066de7658",
   "metadata": {},
   "outputs": [
    {
     "data": {
      "text/plain": [
       "[1, 3, 5, 7, 9, 11, 13, 15, 17, 19, 21, 23, 25]"
      ]
     },
     "execution_count": 3,
     "metadata": {},
     "output_type": "execute_result"
    }
   ],
   "source": [
    "test_odd(26)"
   ]
  },
  {
   "cell_type": "code",
   "execution_count": null,
   "id": "217f59d5-0d4f-44c0-a40f-733bd547a930",
   "metadata": {},
   "outputs": [],
   "source": [
    "Q2. WHY *ARGS AND **KWARGS IS USED IN SOME FUNCTIONS? CREATE A FUNCTION EACH FOR\n",
    "*ARGS AND **KWARGS TO DEMONSTRATE THEIR USE:"
   ]
  },
  {
   "cell_type": "code",
   "execution_count": null,
   "id": "19efd473-746a-457a-ad65-156f795bad40",
   "metadata": {},
   "outputs": [],
   "source": [
    "in *args function, we use an asterisk * before the parameter name to pass variable length arguments.\n",
    "The arguments are passed as a tuple and these passed arguments make tuple inside the function with same\n",
    "name as the parameter excluding asterisk.\n"
   ]
  },
  {
   "cell_type": "code",
   "execution_count": 4,
   "id": "e810e3a7-f5cb-46a2-b6ce-226944911821",
   "metadata": {},
   "outputs": [],
   "source": [
    "def test(*args):\n",
    "    return args"
   ]
  },
  {
   "cell_type": "code",
   "execution_count": 5,
   "id": "5cd65b5a-8b7d-465c-923e-25e6c79ff25a",
   "metadata": {},
   "outputs": [
    {
     "data": {
      "text/plain": [
       "(1, 2, 3, 4, 'sudh', 'rounak', [1, 5, 6, 4])"
      ]
     },
     "execution_count": 5,
     "metadata": {},
     "output_type": "execute_result"
    }
   ],
   "source": [
    "test(1,2,3,4,'sudh','rounak',[1,5,6,4])"
   ]
  },
  {
   "cell_type": "code",
   "execution_count": null,
   "id": "9beda750-f0e2-4737-a45c-0579fcd48eb7",
   "metadata": {},
   "outputs": [],
   "source": [
    "in **kwargs function, we use the double asterisk ** before the parameter name to denote this type of argument.\n"
   ]
  },
  {
   "cell_type": "code",
   "execution_count": 15,
   "id": "5e610a9e-285c-4b61-9075-00990b98da5c",
   "metadata": {},
   "outputs": [],
   "source": [
    "def test1(**kwargs):\n",
    "    return kwargs"
   ]
  },
  {
   "cell_type": "code",
   "execution_count": 16,
   "id": "35f66c51-2dcc-4af9-9610-9973584f5072",
   "metadata": {},
   "outputs": [
    {
     "data": {
      "text/plain": [
       "{'a': [1, 2, 5, 6], 'b': 'rounak', 'c': 23.5}"
      ]
     },
     "execution_count": 16,
     "metadata": {},
     "output_type": "execute_result"
    }
   ],
   "source": [
    "test1(a=[1,2,5,6],b=\"rounak\",c=23.5)\n"
   ]
  },
  {
   "cell_type": "code",
   "execution_count": null,
   "id": "b9a9e21b-bb61-45ff-b179-96ede38d5e43",
   "metadata": {},
   "outputs": [],
   "source": [
    "Q3. WHAT IS AN ITERATOR IN PYTHON? NAME THE METHOD USED TO INITIALISE THE ITERATOR OBJECT AND\n",
    "THE METHOD USED FOR ITERATOR. USE THESE METHODS TO PRINT THE FIRST FIVE ELEMENTS OF GIVEN THE LIST\n",
    "[2,4,6,8,10,12,14,16,18,20]:"
   ]
  },
  {
   "cell_type": "code",
   "execution_count": 17,
   "id": "8b936c6b-0357-40b5-8e9f-8fb1cc990e9c",
   "metadata": {},
   "outputs": [],
   "source": [
    "##Iterator in Python is an object that is used to iterate over iterable objects like lists, tuples, dicts, and sets.\n",
    "##The iterator object is initialized using the iter() method. It uses the next() method for iteration."
   ]
  },
  {
   "cell_type": "code",
   "execution_count": 18,
   "id": "4dd0a07e-6a5b-4d20-a56e-2d35d09ae648",
   "metadata": {},
   "outputs": [
    {
     "name": "stdout",
     "output_type": "stream",
     "text": [
      "2\n",
      "4\n",
      "6\n",
      "8\n",
      "10\n"
     ]
    }
   ],
   "source": [
    "list=[2,4,6,8,10,12,14,16,18,20]\n",
    "list_1=iter(list)\n",
    "\n",
    "for i in range(5):\n",
    "    print(next(list_1))\n",
    "\n"
   ]
  },
  {
   "cell_type": "code",
   "execution_count": null,
   "id": "c13dd0b7-ae25-4c8a-bb80-a4326d534e40",
   "metadata": {},
   "outputs": [],
   "source": [
    "Q4. WHAT IS THE GENERATOR FUNCTION IN PYTHON? WHY YIELD KEYWORD IS USED?\n",
    "GIVE AN EXAMPLE OF A GENERATOR FUNCTION:"
   ]
  },
  {
   "cell_type": "code",
   "execution_count": 19,
   "id": "3344f8a3-193b-4eff-8789-6819876d7d03",
   "metadata": {},
   "outputs": [],
   "source": [
    " ##generator function in Python is a special kind of function that returns an iterable generator object"
   ]
  },
  {
   "cell_type": "code",
   "execution_count": 22,
   "id": "6424ba0d-8b4b-40c6-a6b9-3e52e6bef195",
   "metadata": {},
   "outputs": [],
   "source": [
    "##The \"yield\" keyword is used because it allows the generator function to produce a sequence of values over time,instead\n",
    "of computing them all at once.\n"
   ]
  },
  {
   "cell_type": "code",
   "execution_count": 23,
   "id": "0ff2acc3-04d3-45fe-94c0-174dbbb4ff35",
   "metadata": {},
   "outputs": [],
   "source": [
    "def test(n):\n",
    "    i=0\n",
    "    for i in range(n):\n",
    "        yield i\n",
    "        "
   ]
  },
  {
   "cell_type": "code",
   "execution_count": 24,
   "id": "69ade434-20fa-4dc7-adf2-7ad56464daf4",
   "metadata": {},
   "outputs": [
    {
     "name": "stdout",
     "output_type": "stream",
     "text": [
      "0\n",
      "1\n",
      "2\n",
      "3\n",
      "4\n",
      "5\n",
      "6\n",
      "7\n",
      "8\n",
      "9\n"
     ]
    }
   ],
   "source": [
    "for i in test(10):\n",
    "    print(i)"
   ]
  },
  {
   "cell_type": "code",
   "execution_count": null,
   "id": "d2444df8-d647-4ba7-9ed8-72173d53f068",
   "metadata": {},
   "outputs": [],
   "source": [
    "Q5. CREATE A GENERATOR FUNCTION FOR PRIME NUMBERS LESS THAN 1000.USE THE NEXT() METHOD TO\n",
    "PRINT THE FIRST 20 PRIME NUMBERS:"
   ]
  },
  {
   "cell_type": "code",
   "execution_count": 1,
   "id": "298bf0ee-c118-4cc2-aba9-c7cb740c7e1b",
   "metadata": {},
   "outputs": [
    {
     "name": "stdout",
     "output_type": "stream",
     "text": [
      "2\n",
      "3\n",
      "5\n",
      "7\n",
      "11\n",
      "13\n",
      "17\n",
      "19\n",
      "23\n",
      "29\n",
      "31\n",
      "37\n",
      "41\n",
      "43\n",
      "47\n",
      "53\n",
      "59\n",
      "61\n",
      "67\n",
      "71\n"
     ]
    }
   ],
   "source": [
    "def get_primes():\n",
    "    primes=[]\n",
    "    for num in range(2,1000):\n",
    "        for prime in primes:\n",
    "            if num %prime==0:\n",
    "                break\n",
    "        else:\n",
    "            primes.append(num)\n",
    "            yield num\n",
    "            \n",
    "prime_generator=get_primes()\n",
    "for i in range(20):\n",
    "    print(next(prime_generator))\n",
    "            \n",
    "                \n",
    "    "
   ]
  },
  {
   "cell_type": "code",
   "execution_count": null,
   "id": "28b696d6-5371-4b40-9859-aa5bb9dba842",
   "metadata": {},
   "outputs": [],
   "source": [
    "Q6. WRITE A PYTHON PROGGRAM TO PRINT THE FIRST 10 FIBONACCI NUMBERS USING A WHILE LOOP:"
   ]
  },
  {
   "cell_type": "code",
   "execution_count": 3,
   "id": "4401ea61-67aa-4b65-9c21-bb3f644efdc8",
   "metadata": {},
   "outputs": [],
   "source": [
    "def fib():\n",
    "    a,b=0,1\n",
    "    while True:\n",
    "        yield a\n",
    "        a,b=a,a+b\n",
    "    "
   ]
  },
  {
   "cell_type": "code",
   "execution_count": 4,
   "id": "73a17804-90dd-4fe8-ac69-0ef33fe2ef72",
   "metadata": {},
   "outputs": [
    {
     "name": "stdout",
     "output_type": "stream",
     "text": [
      "0\n",
      "1\n",
      "2\n",
      "3\n",
      "4\n",
      "5\n",
      "6\n",
      "7\n",
      "8\n",
      "9\n"
     ]
    }
   ],
   "source": [
    "for i in range(10):\n",
    "    print(i)"
   ]
  },
  {
   "cell_type": "code",
   "execution_count": null,
   "id": "ee3a9b6b-85b2-478f-a42d-fbd2a6d2a97d",
   "metadata": {},
   "outputs": [],
   "source": [
    "Q7. WRITE A LIST COMPREHENSION TO ITERATE THROUGH THE GIVEN STRING:'pwskills'.\n",
    "ESPECTED OUTPUT: ['p','w','s','k','i','l','l','s']"
   ]
  },
  {
   "cell_type": "code",
   "execution_count": 5,
   "id": "ea45232d-eb29-40f0-8199-fd2e9e398de6",
   "metadata": {},
   "outputs": [
    {
     "data": {
      "text/plain": [
       "['p', 'w', 's', 'k', 'i', 'l', 'l', 's']"
      ]
     },
     "execution_count": 5,
     "metadata": {},
     "output_type": "execute_result"
    }
   ],
   "source": [
    "l='pwskills'\n",
    "[i for i in l]"
   ]
  },
  {
   "cell_type": "code",
   "execution_count": null,
   "id": "0f407fb2-2863-4b74-b0ff-907ec9d1fa8e",
   "metadata": {},
   "outputs": [],
   "source": [
    "Q8. WRITE A PYTHON PROGRAM TO CHECK WHETHER A GIVEN NUMBER IS PALINDROME OR NOT USING A WHILE LOOP:"
   ]
  },
  {
   "cell_type": "code",
   "execution_count": 8,
   "id": "c4e01858-8bce-4652-b0bb-2e9e4e473400",
   "metadata": {},
   "outputs": [
    {
     "name": "stdout",
     "output_type": "stream",
     "text": [
      "8\n",
      "The number is not a palindrome\n"
     ]
    }
   ],
   "source": [
    "def ronl1(num):\n",
    "    st = str(num)\n",
    "    l = len(st)\n",
    "    c = int(l/2)\n",
    "    print(l)\n",
    "    i = 0\n",
    "    flag = 1\n",
    "    while (c):\n",
    "        if (st[i] == st[l-i-1]):\n",
    "            flag = 0\n",
    "        else:\n",
    "            flag = 1\n",
    "        c -= 1\n",
    "        i += 1\n",
    "    return flag\n",
    "\n",
    "\n",
    "if (ronl1(12546325)):\n",
    "    print(\"The number is not a palindrome\")\n",
    "else:\n",
    "    print(\"The number is a palindrome\")"
   ]
  },
  {
   "cell_type": "code",
   "execution_count": null,
   "id": "39dc435e-df12-4f24-8b50-d45593183380",
   "metadata": {},
   "outputs": [],
   "source": [
    "Q9. WRITE A CODE TO PRINT ODD NUMBERS FROM 1 TO 100 USING LIST COMPREHENSION:"
   ]
  },
  {
   "cell_type": "code",
   "execution_count": 6,
   "id": "261f888a-451c-40d6-9d45-bc5996e52b32",
   "metadata": {},
   "outputs": [
    {
     "name": "stdout",
     "output_type": "stream",
     "text": [
      "[1, 3, 5, 7, 9, 11, 13, 15, 17, 19, 21, 23, 25, 27, 29, 31, 33, 35, 37, 39, 41, 43, 45, 47, 49, 51, 53, 55, 57, 59, 61, 63, 65, 67, 69, 71, 73, 75, 77, 79, 81, 83, 85, 87, 89, 91, 93, 95, 97, 99]\n"
     ]
    }
   ],
   "source": [
    "number=[i for i in range(1,100)]\n",
    "odd_number=[i for i in number if i%2!=0]\n",
    "\n",
    "print(odd_number)"
   ]
  },
  {
   "cell_type": "code",
   "execution_count": null,
   "id": "5afd8e2d-5d0d-4dbe-aff9-5039a0eac615",
   "metadata": {},
   "outputs": [],
   "source": []
  }
 ],
 "metadata": {
  "kernelspec": {
   "display_name": "Python 3 (ipykernel)",
   "language": "python",
   "name": "python3"
  },
  "language_info": {
   "codemirror_mode": {
    "name": "ipython",
    "version": 3
   },
   "file_extension": ".py",
   "mimetype": "text/x-python",
   "name": "python",
   "nbconvert_exporter": "python",
   "pygments_lexer": "ipython3",
   "version": "3.10.8"
  }
 },
 "nbformat": 4,
 "nbformat_minor": 5
}
