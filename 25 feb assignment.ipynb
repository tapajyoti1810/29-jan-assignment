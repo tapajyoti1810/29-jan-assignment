{
 "cells": [
  {
   "cell_type": "code",
   "execution_count": null,
   "id": "b762b8ce-97c4-4b8a-a8e1-4ea7e7534d39",
   "metadata": {},
   "outputs": [],
   "source": [
    "Consider following code to answer further questions:\n",
    "import pandas as pd\n",
    "course_name = [‘Data Science’, ‘Machine Learning’, ‘Big Data’, ‘Data Engineer’]\n",
    "duration = [2,3,6,4]\n",
    "df = pd.DataFrame(data = {‘course_name’ : course_name, ‘duration’ : duration})\n",
    "Q1. Write a code to print the data present in the second row of the dataframe, df."
   ]
  },
  {
   "cell_type": "code",
   "execution_count": 1,
   "id": "d3a3a790-bc36-48ed-92bc-040cf8a78508",
   "metadata": {},
   "outputs": [
    {
     "data": {
      "text/plain": [
       "course_name    Machine Learning\n",
       "duration                      3\n",
       "Name: 1, dtype: object"
      ]
     },
     "execution_count": 1,
     "metadata": {},
     "output_type": "execute_result"
    }
   ],
   "source": [
    "import pandas as pd\n",
    "course_name = ['Data Science', 'Machine Learning', 'Big Data', 'Data Engineer']\n",
    "duration = [2,3,6,4]\n",
    "df = pd.DataFrame(data = {'course_name' : course_name, 'duration' : duration})\n",
    "df.iloc[1]"
   ]
  },
  {
   "cell_type": "code",
   "execution_count": null,
   "id": "0df94e39-bf1e-4219-80b5-f98c821f2f37",
   "metadata": {},
   "outputs": [],
   "source": [
    "Q2. What is the difference between the functions loc and iloc in pandas.DataFrame?"
   ]
  },
  {
   "cell_type": "code",
   "execution_count": null,
   "id": "882250ab-088e-42ba-bc66-e93d908c5dfd",
   "metadata": {},
   "outputs": [],
   "source": [
    "Both loc and iloc are methods used to select rows and columns from a pandas DataFrame, but they have a slight difference in\n",
    "how they handle indexing and selection of data.\n",
    "\n",
    "loc stands for \"location\" and is used to select data based on the labels of rows or columns. The loc method takes two \n",
    "parameters: the label(s) for the row(s) and the label(s) for the column(s). The labels can be either a single value or a list\n",
    "of values. For example, df.loc[2, 'duration'] selects the value in the 'duration' column of the row with label 2.\n",
    "\n",
    "iloc stands for \"integer location\" and is used to select data based on the integer position of rows or columns. The iloc \n",
    "method takes two parameters: the integer position(s) for the row(s) and the integer position(s) for the column(s). The \n",
    "positions start from 0 for the first row/column. For example, df.iloc[1, 0] selects the value in the first column (column 0) \n",
    "of the second row (row 1).\n"
   ]
  },
  {
   "cell_type": "code",
   "execution_count": null,
   "id": "f770160a-f8cf-490e-8f94-a987be92a269",
   "metadata": {},
   "outputs": [],
   "source": [
    "Q3. Reindex the given dataframe using a variable, reindex = [3,0,1,2] and store it in the variable, new_df\n",
    "then find the output for both new_df.loc[2] and new_df.iloc[2]."
   ]
  },
  {
   "cell_type": "code",
   "execution_count": 2,
   "id": "e6fac7b3-b732-49fe-a882-0495a83eb923",
   "metadata": {},
   "outputs": [
    {
     "ename": "SyntaxError",
     "evalue": "invalid syntax (1209250059.py, line 34)",
     "output_type": "error",
     "traceback": [
      "\u001b[0;36m  Cell \u001b[0;32mIn[2], line 34\u001b[0;36m\u001b[0m\n\u001b[0;31m    new_df.loc[2] returns the row with the index label 2, which is Big Data, while new_df.iloc[2] returns the row with the integer\u001b[0m\n\u001b[0m                  ^\u001b[0m\n\u001b[0;31mSyntaxError\u001b[0m\u001b[0;31m:\u001b[0m invalid syntax\n"
     ]
    }
   ],
   "source": [
    "import pandas as pd\n",
    "\n",
    "course_name = ['Data Science', 'Machine Learning', 'Big Data', 'Data Engineer']\n",
    "duration = [2,3,6,4]\n",
    "df = pd.DataFrame(data = {'course_name': course_name, 'duration': duration})\n",
    "\n",
    "reindex = [3, 0, 1, 2]\n",
    "new_df = df.reindex(reindex)\n",
    "\n",
    "print(new_df)\n",
    "\n",
    "# Output:\n",
    "#        course_name  duration\n",
    "# 3     Data Engineer         4\n",
    "# 0      Data Science         2\n",
    "# 1  Machine Learning         3\n",
    "# 2           Big Data         6\n",
    "\n",
    "# Retrieve row with index 2 using loc\n",
    "print(new_df.loc[2])\n",
    "\n",
    "# Output:\n",
    "# course_name    Big Data\n",
    "# duration              6\n",
    "# Name: 2, dtype: object\n",
    "\n",
    "# Retrieve row with index 2 using iloc\n",
    "print(new_df.iloc[2])\n",
    "\n",
    "# Output:\n",
    "# course_name    Machine Learning\n",
    "# duration                      3\n",
    "# Name: 1, dtype: object\n",
    "new_df.loc[2] returns the row with the index label 2, which is Big Data, while new_df.iloc[2] returns the row with the integer\n",
    "index 2, which is Machine Learning.\n",
    "        "
   ]
  },
  {
   "cell_type": "code",
   "execution_count": null,
   "id": "8a463266-4d27-458c-8390-8cc84796aeac",
   "metadata": {},
   "outputs": [],
   "source": [
    "Q4. Write a code to find the following statistical measurements for the above dataframe df1:\n",
    "(i) mean of each and every column present in the dataframe.\n",
    "(ii) standard deviation of column, ‘column_2’"
   ]
  },
  {
   "cell_type": "code",
   "execution_count": 3,
   "id": "bfdf9392-5b78-41e9-97ab-c97b26b955ad",
   "metadata": {},
   "outputs": [
    {
     "name": "stdout",
     "output_type": "stream",
     "text": [
      "mean of df1 is: column_1    0.521462\n",
      "column_2    0.463407\n",
      "column_3    0.616387\n",
      "column_4    0.633685\n",
      "column_5    0.346976\n",
      "column_6    0.366713\n",
      "dtype: float64\n",
      "standard deviation of column 2 is: 0.3263146326862344\n"
     ]
    }
   ],
   "source": [
    "import pandas as pd\n",
    "import numpy as np\n",
    "columns = ['column_1', 'column_2', 'column_3', 'column_4', 'column_5', 'column_6']\n",
    "indices = [1,2,3,4,5,6]\n",
    "#Creating a dataframe:\n",
    "df1 = pd.DataFrame(np.random.rand(6,6), columns = columns, index = indices)\n",
    "#extracting mean from df1\n",
    "print(\"mean of df1 is:\",df1.mean())\n",
    "#extracting std from column2\n",
    "print(\"standard deviation of column 2 is:\",df1['column_2'].std())"
   ]
  },
  {
   "cell_type": "code",
   "execution_count": null,
   "id": "5442c566-9bf7-433e-922c-934b99e87271",
   "metadata": {},
   "outputs": [],
   "source": [
    "Q5. Replace the data present in the second row of column, ‘column_2’ by a string variable then find the\n",
    "mean of column, column_2.\n",
    "If you are getting errors in executing it then explain why."
   ]
  },
  {
   "cell_type": "code",
   "execution_count": null,
   "id": "af83381c-4d95-4be5-b758-5f7b8a766cdc",
   "metadata": {},
   "outputs": [],
   "source": [
    "import pandas as pd\n",
    "import numpy as np\n",
    "\n",
    "columns = ['column_1', 'column_2', 'column_3', 'column_4', 'column_5', 'column_6']\n",
    "indices = [1, 2, 3, 4, 5, 6]\n",
    "# Creating a dataframe:\n",
    "df1 = pd.DataFrame(np.random.rand(6, 6), columns=columns, index=indices)\n",
    "\n",
    "# Replace the data in the second row of column 'column_2' with a string variable\n",
    "df1.at[2, 'column_2'] = 'string'\n",
    "\n",
    "# Calculate the mean of column 'column_2'\n",
    "mean_col2 = df1['column_2'].mean()\n",
    "\n",
    "print(\"Mean of column 'column_2' after replacing data in the second row with a string variable:\", mean_col2)\n",
    "#we will get an error in calculating the mean of column 'column_2' after replacing the data in the second row with a string \n",
    "#variable. The reason is that the mean calculation is a mathematical operation that requires numerical data, and a string \n",
    "#variable cannot be included in such operations. As a result, Pandas will return a nan (not a number) value as the output.\n"
   ]
  },
  {
   "cell_type": "code",
   "execution_count": null,
   "id": "70533abb-ed65-4594-a8eb-860ed3221e9e",
   "metadata": {},
   "outputs": [],
   "source": [
    "Q6. What do you understand about the windows function in pandas and list the types of windows\n",
    "functions?"
   ]
  },
  {
   "cell_type": "code",
   "execution_count": null,
   "id": "08d5cf30-184d-4bd5-888c-04f1f97fadb2",
   "metadata": {},
   "outputs": [],
   "source": [
    "In Pandas, a window function is a way to perform calculations on a moving window of data. It can help us to analyze trends,\n",
    "patterns, and relationships in time-series or other types of data. The window function works by taking a window of a fixed \n",
    "size and then applying a function to that window. The window can move by a fixed amount or be centered on each data point.\n",
    "\n",
    "Pandas provides a variety of window functions that we can use for different purposes, such as computing rolling averages, \n",
    "cumulative sums, exponential moving averages, and more. Here are some common types of window functions in Pandas:\n",
    "\n",
    "1.Rolling window function: It applies a function to a moving window of data of a fixed size. We can specify the window size \n",
    "and the offset at which the window should move.\n",
    "\n",
    "2.Expanding window function: It applies a function to all the data points up to the current point. It is useful for \n",
    "calculating cumulative statistics such as cumulative sums, products, or percentages.\n",
    "\n",
    "3.Exponentially weighted window function: It applies a function to a window of data, giving more weight to recent data points\n",
    "and less weight to older data points. It is useful for smoothing out noisy data or detecting trends.\n",
    "\n",
    "4.Cumulative window function: It applies a function to all the data points up to and including the current point. It is useful\n",
    "for calculating cumulative statistics such as cumulative sums, products, or percentages.\n"
   ]
  },
  {
   "cell_type": "code",
   "execution_count": null,
   "id": "82a0b252-fba2-478c-a768-db0eae027a40",
   "metadata": {},
   "outputs": [],
   "source": [
    "Q7. Write a code to print only the current month and year at the time of answering this question."
   ]
  },
  {
   "cell_type": "code",
   "execution_count": 5,
   "id": "7060c74d-7151-4f9e-8dea-dc4272e46dc5",
   "metadata": {},
   "outputs": [
    {
     "name": "stdout",
     "output_type": "stream",
     "text": [
      "Current month and year: March 2023\n"
     ]
    }
   ],
   "source": [
    "import datetime\n",
    "\n",
    "# Get current month and year\n",
    "now = datetime.datetime.now()\n",
    "current_month = now.strftime(\"%B\")\n",
    "current_year = now.year\n",
    "\n",
    "# Print current month and year\n",
    "print(\"Current month and year:\", current_month, current_year)"
   ]
  },
  {
   "cell_type": "code",
   "execution_count": null,
   "id": "dcd79870-13d3-4bb3-9a26-46ea2b33b826",
   "metadata": {},
   "outputs": [],
   "source": [
    "Q8. Write a Python program that takes in two dates as input (in the format YYYY-MM-DD) and\n",
    "calculates the difference between them in days, hours, and minutes using Pandas time delta. The\n",
    "program should prompt the user to enter the dates and display the result."
   ]
  },
  {
   "cell_type": "code",
   "execution_count": 6,
   "id": "5340e94d-8bdb-4313-8295-c0c756181f6f",
   "metadata": {},
   "outputs": [
    {
     "name": "stdin",
     "output_type": "stream",
     "text": [
      "Enter the first date (YYYY-MM-DD):  2010-10-18\n",
      "Enter the second date (YYYY-MM-DD):  2010-11-18\n"
     ]
    },
    {
     "name": "stdout",
     "output_type": "stream",
     "text": [
      "The difference between 2010-10-18 and 2010-11-18 is:\n",
      "31 days, 0 hours, and 0 minutes.\n"
     ]
    }
   ],
   "source": [
    "import pandas as pd\n",
    "\n",
    "# Get input dates from user\n",
    "date1 = input(\"Enter the first date (YYYY-MM-DD): \")\n",
    "date2 = input(\"Enter the second date (YYYY-MM-DD): \")\n",
    "\n",
    "# Convert input strings to datetime objects\n",
    "date1 = pd.to_datetime(date1)\n",
    "date2 = pd.to_datetime(date2)\n",
    "\n",
    "# Calculate time delta between the two dates\n",
    "delta = date2 - date1\n",
    "\n",
    "# Extract number of days, hours, and minutes from time delta\n",
    "days = delta.days\n",
    "hours = delta.seconds // 3600\n",
    "minutes = (delta.seconds % 3600) // 60\n",
    "\n",
    "# Print the result\n",
    "print(\"The difference between\", date1.date(), \"and\", date2.date(), \"is:\")\n",
    "print(days, \"days,\", hours, \"hours, and\", minutes, \"minutes.\")"
   ]
  },
  {
   "cell_type": "code",
   "execution_count": null,
   "id": "4fa0ca3b-ec8d-4458-a795-44433b73cd1b",
   "metadata": {},
   "outputs": [],
   "source": [
    "Q9. Write a Python program that reads a CSV file containing categorical data and converts a specified\n",
    "column to a categorical data type. The program should prompt the user to enter the file path, column\n",
    "name, and category order, and then display the sorted data."
   ]
  },
  {
   "cell_type": "code",
   "execution_count": null,
   "id": "9352c62f-d9af-496e-8846-6bccb3091446",
   "metadata": {},
   "outputs": [],
   "source": [
    "import pandas as pd\n",
    "\n",
    "# Get file path from user\n",
    "file_path = input(\"Enter the file path: \")\n",
    "\n",
    "# Read CSV file into a DataFrame\n",
    "df = pd.read_csv(file_path)\n",
    "\n",
    "# Get column name and category order from user\n",
    "col_name = input(\"Enter the column name: \")\n",
    "cat_order = input(\"Enter the category order (comma-separated): \").split(\",\")\n",
    "\n",
    "# Convert specified column to categorical data type\n",
    "cat_dtype = pd.CategoricalDtype(categories=cat_order, ordered=True)\n",
    "df[col_name] = df[col_name].astype(cat_dtype)\n",
    "\n",
    "# Sort the DataFrame by the specified column\n",
    "df = df.sort_values(col_name)\n",
    "\n",
    "# Print the sorted data\n",
    "print(df)"
   ]
  },
  {
   "cell_type": "code",
   "execution_count": null,
   "id": "89421f40-1e3f-41f4-92fb-704cdb6cbbb1",
   "metadata": {},
   "outputs": [],
   "source": [
    "Q10. Write a Python program that reads a CSV file containing sales data for different products and\n",
    "visualizes the data using a stacked bar chart to show the sales of each product category over time. The\n",
    "program should prompt the user to enter the file path and display the chart."
   ]
  },
  {
   "cell_type": "code",
   "execution_count": null,
   "id": "74f724ef-ded7-4634-8d23-abebb8250d8e",
   "metadata": {},
   "outputs": [],
   "source": [
    "import pandas as pd\n",
    "import matplotlib.pyplot as plt\n",
    "\n",
    "# Get file path from user\n",
    "file_path = input(\"Enter the file path: \")\n",
    "\n",
    "# Read CSV file into a DataFrame\n",
    "\n",
    "df = pd.read_csv(file_path)\n",
    "\n",
    "# Convert date column to datetime data type\n",
    "df['Date'] = pd.to_datetime(df['Date'])\n",
    "\n",
    "# Create a pivot table to aggregate sales by product category and date\n",
    "sales_pivot = pd.pivot_table(df, values='Sales', index='Date', columns='Product Category', aggfunc='sum')\n",
    "\n",
    "# Create a stacked bar chart of sales by product category over time\n",
    "sales_pivot.plot(kind='bar', stacked=True, figsize=(10,6))\n",
    "plt.xlabel('Date')\n",
    "plt.ylabel('Sales')\n",
    "plt.title('Sales by Product Category over Time')\n",
    "plt.show()"
   ]
  },
  {
   "cell_type": "code",
   "execution_count": null,
   "id": "c4d7aeff-2574-4eb5-92a6-e43bb1dcccc4",
   "metadata": {},
   "outputs": [],
   "source": [
    "Q11. You are given a CSV file containing student data that includes the student ID and their test score. Write\n",
    "a Python program that reads the CSV file, calculates the mean, median, and mode of the test scores, and\n",
    "displays the results in a table."
   ]
  },
  {
   "cell_type": "code",
   "execution_count": null,
   "id": "df15c44b-6b3c-4b38-a0da-7aa88dfffd91",
   "metadata": {},
   "outputs": [],
   "source": [
    "import pandas as pd\n",
    "\n",
    "# Prompt the user to enter the file path of the CSV file containing the student data\n",
    "file_path = input(\"Enter the file path of the CSV file containing the student data: \")\n",
    "\n",
    "# Read the CSV file into a Pandas DataFrame\n",
    "df = pd.read_csv(file_path)\n",
    "\n",
    "# Calculate the mean, median, and mode of the test scores using Pandas tools\n",
    "mean_score = df['Test Score'].mean()\n",
    "median_score = df['Test Score'].median()\n",
    "mode_score = df['Test Score'].mode()\n",
    "\n",
    "# Display the mean, median, and mode in a table\n",
    "print(\"+-----------+--------+\")\n",
    "print(\"| Statistic | Value  |\")\n",
    "print(\"+-----------+--------+\")\n",
    "print(\"| Mean      | {:.1f}  |\".format(mean_score))\n",
    "print(\"| Median    | {}    |\".format(int(median_score)))\n",
    "print(\"| Mode      | \", end=\"\")\n",
    "for score in mode_score:\n",
    "    print(\"{}, \".format(int(score)), end=\"\")\n",
    "print(\"\\b\\b  |\")\n",
    "print(\"+-----------+--------+\")"
   ]
  },
  {
   "cell_type": "code",
   "execution_count": null,
   "id": "00552675-38bc-4461-b7ba-fb82bedfbcdd",
   "metadata": {},
   "outputs": [],
   "source": []
  },
  {
   "cell_type": "code",
   "execution_count": null,
   "id": "4d904caf-c42b-4e65-9253-0b341667a201",
   "metadata": {},
   "outputs": [],
   "source": []
  }
 ],
 "metadata": {
  "kernelspec": {
   "display_name": "Python 3 (ipykernel)",
   "language": "python",
   "name": "python3"
  },
  "language_info": {
   "codemirror_mode": {
    "name": "ipython",
    "version": 3
   },
   "file_extension": ".py",
   "mimetype": "text/x-python",
   "name": "python",
   "nbconvert_exporter": "python",
   "pygments_lexer": "ipython3",
   "version": "3.10.8"
  }
 },
 "nbformat": 4,
 "nbformat_minor": 5
}
