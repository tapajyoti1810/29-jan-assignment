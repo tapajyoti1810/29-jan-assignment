{
 "cells": [
  {
   "cell_type": "code",
   "execution_count": null,
   "id": "08674efe-85db-44d8-bcc6-b22b5d2a7e4b",
   "metadata": {},
   "outputs": [],
   "source": [
    "Q1. CREATE A PYTHON PROGRAM TO SORT THE GIVEN LIST OF TUPLES BASED ON INTEGER VALUE USING A\n",
    "LAMBDA FUNCTION.\n",
    "\n",
    "[('sachin tendulkar',34357),('ricky ponting',27483),('jack kallis',25534),('virat kohli',24936)]"
   ]
  },
  {
   "cell_type": "code",
   "execution_count": 1,
   "id": "2b7c2c85-eb93-4eaa-91c6-40a8723861f8",
   "metadata": {},
   "outputs": [
    {
     "name": "stdout",
     "output_type": "stream",
     "text": [
      "[('Virat Kohli', 24936), ('Jack Kallis', 25534), ('Ricky Ponting', 27483), ('Sachin Tendulkar', 34357)]\n"
     ]
    }
   ],
   "source": [
    "l = [('Sachin Tendulkar', 34357), ('Ricky Ponting', 27483), ('Jack Kallis', 25534), ('Virat Kohli', 24936)]\n",
    "sorted_l = sorted(l, key=lambda x: x[1])\n",
    "print(sorted_l)"
   ]
  },
  {
   "cell_type": "code",
   "execution_count": null,
   "id": "2ff35345-848e-4820-8f64-10e747da7665",
   "metadata": {},
   "outputs": [],
   "source": [
    "Q2. WRITE A PYTHON PROGRAM TO FIND THE SQUARES OF ALL THE NUMBERS IN THE GIVEN LIST OF INTEGERS\n",
    "USING LAMBDA AND MAP FUNCTION.\n",
    "\n",
    "[1,2,3,4,5,6,7,8,9,10]"
   ]
  },
  {
   "cell_type": "code",
   "execution_count": 4,
   "id": "b0d23695-44a1-47f2-a38b-ca15c1dfed15",
   "metadata": {},
   "outputs": [
    {
     "data": {
      "text/plain": [
       "[1, 4, 9, 16, 25, 36, 49, 64, 81, 100]"
      ]
     },
     "execution_count": 4,
     "metadata": {},
     "output_type": "execute_result"
    }
   ],
   "source": [
    "l=[1,2,3,4,5,6,7,8,9,10]\n",
    "list(map(lambda x:x**2,l))\n"
   ]
  },
  {
   "cell_type": "code",
   "execution_count": null,
   "id": "caa6bf57-3387-4527-b3c8-6a047b3bb7ca",
   "metadata": {},
   "outputs": [],
   "source": [
    "Q3. WRITE A PYTHON PROGRAM TO CONVERT THE GIVEN LIST OF INTEGERS INTO A TUPLE OF STRINGS.\n",
    "USE MAP AND LAMBDA FUNCTIONS.\n",
    "\n",
    "GIVEN STRING:[1,2,3,4,5,6,7,8,9,10]\n",
    "EXPECTED OUTPUT:['1','2','3','4','5','6','7','8','9','10']"
   ]
  },
  {
   "cell_type": "code",
   "execution_count": 5,
   "id": "284eef90-53b9-47c9-8268-7fd4f7ffcc55",
   "metadata": {},
   "outputs": [
    {
     "data": {
      "text/plain": [
       "('1', '2', '3', '4', '5', '6', '7', '8', '9', '10')"
      ]
     },
     "execution_count": 5,
     "metadata": {},
     "output_type": "execute_result"
    }
   ],
   "source": [
    "L=[1,2,3,4,5,6,7,8,9,10]\n",
    "tuple(map(lambda x:str(x),l))"
   ]
  },
  {
   "cell_type": "code",
   "execution_count": null,
   "id": "822a89bc-b371-4061-a647-c2990cd836bd",
   "metadata": {},
   "outputs": [],
   "source": [
    "Q4. WRITE A PYTHON PROGRAM USING REDUCE FUNCTION TO COMPUTE THE PRODUCT OF A LIST CONTAINING NUMBERS\n",
    "FROM 1 TO 25."
   ]
  },
  {
   "cell_type": "code",
   "execution_count": 6,
   "id": "0d71b0f9-a2a7-4484-bce8-17d85a655867",
   "metadata": {},
   "outputs": [],
   "source": [
    "from functools import reduce"
   ]
  },
  {
   "cell_type": "code",
   "execution_count": 9,
   "id": "fcc51187-4480-4461-b03d-c5f64224f10f",
   "metadata": {},
   "outputs": [],
   "source": [
    "l=[i for i in range(1,26)]"
   ]
  },
  {
   "cell_type": "code",
   "execution_count": 10,
   "id": "fb4cf63e-1ab4-44f0-8db6-89fd5da6fb69",
   "metadata": {},
   "outputs": [
    {
     "data": {
      "text/plain": [
       "15511210043330985984000000"
      ]
     },
     "execution_count": 10,
     "metadata": {},
     "output_type": "execute_result"
    }
   ],
   "source": [
    "reduce(lambda x,y:x*y,l)"
   ]
  },
  {
   "cell_type": "code",
   "execution_count": null,
   "id": "32bd5f3c-0433-4f2b-a15d-8f5560753cc5",
   "metadata": {},
   "outputs": [],
   "source": [
    "Q5.WRITE A PYTHON PROGRAM TO FILTER THE NUMBERS IN A GIVEN LIST ARE DIVISIBLE BY 2 AND 3 USING THE \n",
    "FILTER FUNCTION.\n",
    "\n",
    "[2,3,6,9,27,60,90,120,55,46]"
   ]
  },
  {
   "cell_type": "code",
   "execution_count": 11,
   "id": "9f8e5ef8-2c07-4630-b958-569835566495",
   "metadata": {},
   "outputs": [
    {
     "data": {
      "text/plain": [
       "[6, 60, 90, 120]"
      ]
     },
     "execution_count": 11,
     "metadata": {},
     "output_type": "execute_result"
    }
   ],
   "source": [
    "l=[2,3,6,9,27,60,90,120,55,46]\n",
    "list(filter(lambda x:x%2==0 and x%3==0,l))"
   ]
  },
  {
   "cell_type": "code",
   "execution_count": null,
   "id": "f926598e-5928-4e1a-9e10-ea620dd21371",
   "metadata": {},
   "outputs": [],
   "source": [
    "Q6. WRITE A PYTHON PROGRAM TO FIND PALINDROMES IN THE GIVEN LIST OF STRINGS USING LAMBDA AND \n",
    "FILTER FUNCTIONS.\n",
    "\n",
    "['python','php','aba','radar','level']"
   ]
  },
  {
   "cell_type": "code",
   "execution_count": 17,
   "id": "24766d84-85b8-4737-9f0a-406bcaff3952",
   "metadata": {},
   "outputs": [
    {
     "data": {
      "text/plain": [
       "['php', 'aba', 'radar', 'level']"
      ]
     },
     "execution_count": 17,
     "metadata": {},
     "output_type": "execute_result"
    }
   ],
   "source": [
    "l=['python','php','aba','radar','level']\n",
    "list(filter(lambda s:(s ==''.join(reversed(s))),l))"
   ]
  },
  {
   "cell_type": "code",
   "execution_count": null,
   "id": "cb5493b8-ff73-4018-a728-4339e3d75a84",
   "metadata": {},
   "outputs": [],
   "source": []
  }
 ],
 "metadata": {
  "kernelspec": {
   "display_name": "Python 3 (ipykernel)",
   "language": "python",
   "name": "python3"
  },
  "language_info": {
   "codemirror_mode": {
    "name": "ipython",
    "version": 3
   },
   "file_extension": ".py",
   "mimetype": "text/x-python",
   "name": "python",
   "nbconvert_exporter": "python",
   "pygments_lexer": "ipython3",
   "version": "3.10.8"
  },
  "toc-autonumbering": false
 },
 "nbformat": 4,
 "nbformat_minor": 5
}
