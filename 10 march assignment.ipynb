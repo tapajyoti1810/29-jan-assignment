{
 "cells": [
  {
   "cell_type": "code",
   "execution_count": null,
   "id": "0fff66f1-e722-4d59-bfe8-325df1d1b5d3",
   "metadata": {},
   "outputs": [],
   "source": [
    "Q1: What is Estimation Statistics? Explain point estimate and interval estimate."
   ]
  },
  {
   "cell_type": "code",
   "execution_count": null,
   "id": "4aeb4da8-cb68-4901-bbc7-1cd38b3c20de",
   "metadata": {},
   "outputs": [],
   "source": [
    "  Estimation statistics is a branch of statistics that deals with the estimation of unknown population parameters based on \n",
    "sample data. The goal of estimation statistics is to provide an estimate of the true value of a population parameter using the\n",
    "information obtained from a sample.\n",
    "\n",
    "There are two types of estimates in estimation statistics: point estimates and interval estimates.\n",
    "\n",
    "1.Point Estimate: A point estimate is a single value that is used to estimate an unknown population parameter. Point estimates\n",
    "are based on sample statistics and provide an estimate of the population parameter value. For example, the sample mean is a\n",
    "point estimate of the population mean.\n",
    "\n",
    "2.Interval Estimate: An interval estimate is a range of values that is likely to contain the true value of a population \n",
    "parameter with a certain level of confidence. Interval estimates are based on a range of values and provide a more accurate \n",
    "estimate of the population parameter than point estimates. For example, a 95% confidence interval for the population mean is\n",
    "an interval estimate that provides a range of values likely to contain the true value of the population mean with a 95% level\n",
    "of confidence.\n",
    "\n",
    "In summary, point estimates provide a single value as an estimate of the population parameter, while interval estimates \n",
    "provide a range of values likely to contain the true value of the population parameter with a certain level of confidence.\n"
   ]
  },
  {
   "cell_type": "code",
   "execution_count": null,
   "id": "6c6d6aee-e4f4-434f-8278-8dfdd28bc266",
   "metadata": {},
   "outputs": [],
   "source": [
    "Q2. Write a Python function to estimate the population mean using a sample mean and standard\n",
    "deviation."
   ]
  },
  {
   "cell_type": "code",
   "execution_count": null,
   "id": "bd273c3c-0935-4bda-baa9-997f6f0fb76c",
   "metadata": {},
   "outputs": [],
   "source": [
    " import math\n",
    "\n",
    "def estimate_population_mean(sample_mean, sample_std_dev, sample_size, confidence_level=0.95):\n",
    "    \"\"\"\n",
    "    Estimate the population mean using a sample mean and standard deviation.\n",
    "\n",
    "    Args:\n",
    "    sample_mean (float): The sample mean.\n",
    "    sample_std_dev (float): The sample standard deviation.\n",
    "    sample_size (int): The sample size.\n",
    "    confidence_level (float): The confidence level for the interval estimate (default 0.95).\n",
    "\n",
    "    Returns:\n",
    "    float: An estimate of the population mean.\n",
    "    \"\"\"\n",
    "    # Calculate the t-value for the given confidence level and degrees of freedom\n",
    "    dof = sample_size - 1\n",
    "    t_value = abs(stats.t.ppf((1 - confidence_level) / 2, dof))\n",
    "\n",
    "    # Calculate the margin of error\n",
    "    margin_of_error = t_value * (sample_std_dev / math.sqrt(sample_size))\n",
    "\n",
    "    # Calculate the lower and upper bounds of the confidence interval\n",
    "    lower_bound = sample_mean - margin_of_error\n",
    "    upper_bound = sample_mean + margin_of_error\n",
    "\n",
    "    # Return the estimated population mean\n",
    "    return (lower_bound + upper_bound) / 2\n",
    "\n",
    "\n",
    "This function uses the t-distribution to calculate the margin of error for a confidence interval estimate of the population \n",
    "mean. The confidence_level argument is optional and defaults to 0.95, which corresponds to a 95% confidence interval.\n"
   ]
  },
  {
   "cell_type": "code",
   "execution_count": null,
   "id": "8caa6a9f-b7cd-4c24-bb90-935e882f5da4",
   "metadata": {},
   "outputs": [],
   "source": [
    "Q3: What is Hypothesis testing? Why is it used? State the importance of Hypothesis testing."
   ]
  },
  {
   "cell_type": "code",
   "execution_count": null,
   "id": "40379f26-273f-4bca-b9f2-040f230929ee",
   "metadata": {},
   "outputs": [],
   "source": [
    " Hypothesis testing is a statistical method that is used to determine whether there is enough evidence in a sample of data to\n",
    "infer conclusions about a population. It involves the formulation of two competing hypotheses: a null hypothesis and an \n",
    "alternative hypothesis. The null hypothesis states that there is no significant difference between the population parameter\n",
    "and the observed sample statistic, while the alternative hypothesis states that there is a significant difference.\n",
    "\n",
    "Hypothesis testing is used to determine whether the difference between the observed sample data and the expected population\n",
    "data is statistically significant. It is used to make decisions about a population parameter, such as the mean or the \n",
    "proportion, based on sample data. The goal of hypothesis testing is to make a decision about whether to reject or fail to \n",
    "reject the null hypothesis, based on the evidence provided by the sample data.\n",
    "\n",
    "The importance of hypothesis testing lies in its ability to help researchers and decision-makers draw valid conclusions from \n",
    "sample data. Hypothesis testing provides a framework for making statistical decisions and can help reduce the risk of making \n",
    "incorrect conclusions based on random chance. It is a valuable tool for assessing the effectiveness of interventions,\n",
    "evaluating the accuracy of data, and making informed decisions based on data.\n",
    "\n",
    "In summary, hypothesis testing is an essential statistical method used to make decisions about population parameters based on \n",
    "sample data. It helps researchers and decision-makers draw valid conclusions and reduces the risk of making incorrect\n",
    "decisions based on random chance.\n"
   ]
  },
  {
   "cell_type": "code",
   "execution_count": null,
   "id": "368dcffa-6c32-4eb7-a62e-59f0aca8075f",
   "metadata": {},
   "outputs": [],
   "source": [
    "Q4. Create a hypothesis that states whether the average weight of male college students is greater than\n",
    "the average weight of female college students."
   ]
  },
  {
   "cell_type": "code",
   "execution_count": null,
   "id": "3d83fc34-d62f-4a1e-91f0-51b57a4f6a8d",
   "metadata": {},
   "outputs": [],
   "source": [
    "   The null hypothesis for this hypothesis test would be:\n",
    "\n",
    "H0: The average weight of male college students is equal to or less than the average weight of female college students.\n",
    "\n",
    "The alternative hypothesis would be:\n",
    "\n",
    "H1: The average weight of male college students is greater than the average weight of female college students.\n",
    "\n",
    "We would then collect a sample of male and female college students, record their weights, and perform statistical analysis to\n",
    "determine whether there is enough evidence to reject the null hypothesis and accept the alternative hypothesis.\n"
   ]
  },
  {
   "cell_type": "code",
   "execution_count": null,
   "id": "116d1742-fe9e-4fd8-b06e-9ed3ae3b3933",
   "metadata": {},
   "outputs": [],
   "source": [
    "Q5. Write a Python script to conduct a hypothesis test on the difference between two population means,\n",
    "given a sample from each population."
   ]
  },
  {
   "cell_type": "code",
   "execution_count": 1,
   "id": "79f635f8-9a08-47b7-afca-5bc86b14e18f",
   "metadata": {},
   "outputs": [
    {
     "name": "stdout",
     "output_type": "stream",
     "text": [
      "Fail to reject the null hypothesis\n"
     ]
    }
   ],
   "source": [
    "import numpy as np\n",
    "from scipy import stats\n",
    "\n",
    "# Set the significance level and sample data for two populations\n",
    "alpha = 0.05\n",
    "sample1 = np.array([83, 75, 82, 79, 88, 80, 75, 86, 78, 85])\n",
    "sample2 = np.array([80, 78, 81, 76, 85, 77, 82, 87, 79, 84])\n",
    "\n",
    "# Calculate the sample means and variances\n",
    "mean1 = np.mean(sample1)\n",
    "mean2 = np.mean(sample2)\n",
    "var1 = np.var(sample1, ddof=1)\n",
    "var2 = np.var(sample2, ddof=1)\n",
    "n1 = len(sample1)\n",
    "n2 = len(sample2)\n",
    "\n",
    "# Calculate the pooled variance\n",
    "s_pooled = np.sqrt(((n1 - 1) * var1 + (n2 - 1) * var2) / (n1 + n2 - 2))\n",
    "\n",
    "# Calculate the t-statistic\n",
    "t_statistic = (mean1 - mean2) / (s_pooled * np.sqrt(1/n1 + 1/n2))\n",
    "\n",
    "# Calculate the degrees of freedom\n",
    "dof = n1 + n2 - 2\n",
    "\n",
    "# Calculate the critical t-value for a two-tailed test\n",
    "t_crit = abs(stats.t.ppf(alpha/2, dof))\n",
    "\n",
    "# Determine whether to reject the null hypothesis\n",
    "if abs(t_statistic) > t_crit:\n",
    "    print(\"Reject the null hypothesis\")\n",
    "else:\n",
    "    print(\"Fail to reject the null hypothesis\")\n",
    "    "
   ]
  },
  {
   "cell_type": "code",
   "execution_count": null,
   "id": "05c0ad6d-b435-40a7-a8ab-0dc28d045051",
   "metadata": {},
   "outputs": [],
   "source": [
    "In this example, we have two samples of weights for two different populations (presumably male and female college students).\n",
    "We calculate the sample means and variances, the pooled variance, and the t-statistic using the formula for a two-sample \n",
    "t-test with equal variances. We then calculate the critical t-value for a two-tailed test with the given significance level \n",
    "and degrees of freedom, and compare it to the absolute value of the t-statistic to determine whether to reject or fail to\n",
    "reject the null hypothesis that the means of the two populations are equal.\n"
   ]
  },
  {
   "cell_type": "code",
   "execution_count": null,
   "id": "8042773c-1fbf-4fb2-a3fa-c66e88cbe0d2",
   "metadata": {},
   "outputs": [],
   "source": [
    "Q6: What is a null and alternative hypothesis? Give some examples."
   ]
  },
  {
   "cell_type": "code",
   "execution_count": null,
   "id": "489415a0-5338-4633-be34-879d3285868c",
   "metadata": {},
   "outputs": [],
   "source": [
    "   A null hypothesis is a statement that assumes there is no significant difference between two or more populations or samples.\n",
    "It is often denoted as H0 and serves as a starting point for statistical testing. The alternative hypothesis, denoted as H1 or\n",
    "Ha, is a statement that contradicts the null hypothesis by asserting that there is a significant difference between the \n",
    "populations or samples being compared.\n",
    "\n",
    "Here are some examples of null and alternative hypotheses:\n",
    "\n",
    "Example 1:\n",
    "Null hypothesis: There is no significant difference in the average test scores of students who study for 2 hours a day versus \n",
    "those who study for 4 hours a day.\n",
    "Alternative hypothesis: Students who study for 4 hours a day have significantly higher average test scores than students who \n",
    "study for 2 hours a day.\n",
    "\n",
    "Example 2:\n",
    "Null hypothesis: There is no significant difference in the average number of hours slept per night between people who exercise\n",
    "regularly and those who do not.\n",
    "Alternative hypothesis: People who exercise regularly sleep significantly more hours per night than those who do not.\n",
    "\n",
    "Example 3:\n",
    "Null hypothesis: There is no significant difference in the average number of miles per gallon (MPG) between cars that use \n",
    "regular gasoline and those that use premium gasoline.\n",
    "Alternative hypothesis: Cars that use premium gasoline have significantly higher average MPG than those that use regular \n",
    "gasoline.\n",
    "\n",
    "These examples illustrate how the null hypothesis assumes that there is no significant difference between the populations or\n",
    "samples being compared, while the alternative hypothesis asserts that there is a significant difference. The choice of which\n",
    "hypothesis to test depends on the research question and the nature of the data being analyzed.\n"
   ]
  },
  {
   "cell_type": "code",
   "execution_count": null,
   "id": "fea5a05c-c8b6-411b-98f3-8e13d891fcb9",
   "metadata": {},
   "outputs": [],
   "source": [
    "Q7: Write down the steps involved in hypothesis testing."
   ]
  },
  {
   "cell_type": "code",
   "execution_count": null,
   "id": "b35fb61d-0c1d-44cc-8e99-d921766ce8ce",
   "metadata": {},
   "outputs": [],
   "source": [
    "  Hypothesis testing is a statistical procedure used to determine if there is enough evidence in a sample of data to infer \n",
    "that a certain condition or hypothesis about the population from which the sample was drawn is true or false. Here are the \n",
    "steps involved in hypothesis testing:\n",
    "\n",
    "1.State the null hypothesis (H0) and the alternative hypothesis (Ha):\n",
    "\n",
    "The null hypothesis is the default position that there is no significant difference between two groups or variables.\n",
    "The alternative hypothesis is the statement that you want to test, which suggests that there is a significant difference \n",
    "between the two groups or variables.\n",
    "\n",
    "2.Choose a level of significance (alpha level) for your test:\n",
    "\n",
    "The alpha level determines how much evidence against the null hypothesis is required before you reject it. It is typically\n",
    "set to 0.05, which means that there is a 5% chance of rejecting the null hypothesis when it is actually true.\n",
    "\n",
    "3.Determine the test statistic and its distribution:\n",
    "\n",
    "The test statistic is a measure of the difference between the sample data and the null hypothesis. Its distribution depends on\n",
    "the sample size, the population parameters, and the type of test used.\n",
    "Calculate the p-value:\n",
    "\n",
    "The p-value is the probability of obtaining a test statistic as extreme or more extreme than the observed value, assuming the\n",
    "null hypothesis is true. A small p-value (usually less than 0.05) suggests that the null hypothesis should be rejected.\n",
    "\n",
    "4.Make a decision:\n",
    "\n",
    "If the p-value is less than the alpha level, reject the null hypothesis and accept the alternative hypothesis.\n",
    "If the p-value is greater than the alpha level, fail to reject the null hypothesis and conclude that there is not enough \n",
    "evidence to support the alternative hypothesis.\n",
    "\n",
    "5.Interpret the results:\n",
    "\n",
    "If you reject the null hypothesis, interpret the results in terms of the alternative hypothesis and the practical significance\n",
    "of the findings.\n",
    "If you fail to reject the null hypothesis, interpret the results in terms of the limitations of the study and the possibility\n",
    "of type II error (i.e., incorrectly accepting the null hypothesis when it is false).\n"
   ]
  },
  {
   "cell_type": "code",
   "execution_count": null,
   "id": "80a6c205-bad0-44a7-9036-08c91f648228",
   "metadata": {},
   "outputs": [],
   "source": [
    "Q8. Define p-value and explain its significance in hypothesis testing."
   ]
  },
  {
   "cell_type": "code",
   "execution_count": null,
   "id": "2bf855ea-9f32-4767-84f5-f3ec0b4f972b",
   "metadata": {},
   "outputs": [],
   "source": [
    "The p-value is a measure of the strength of evidence against the null hypothesis in hypothesis testing. It is defined as the\n",
    " probability of obtaining a test statistic as extreme or more extreme than the observed value, assuming the null hypothesis is\n",
    "true. In other words, the p-value indicates the likelihood of observing the data we have, or something more extreme, if the \n",
    "null hypothesis is actually true.\n",
    "\n",
    "The significance of the p-value lies in its ability to inform our decision-making process in hypothesis testing. Specifically,\n",
    "if the p-value is small (usually less than 0.05), it suggests that the observed data is unlikely to have occurred by chance \n",
    "alone, assuming that the null hypothesis is true. This provides evidence in favor of the alternative hypothesis and leads to \n",
    "rejection of the null hypothesis.\n",
    "\n",
    "On the other hand, if the p-value is large (usually greater than 0.05), it suggests that the observed data is consistent with\n",
    "the null hypothesis and that we do not have sufficient evidence to reject it. This does not necessarily mean that the null \n",
    "hypothesis is true, but rather that we do not have enough evidence to conclude otherwise.\n",
    "\n",
    "Overall, the p-value is a critical component of hypothesis testing as it helps us make decisions about whether to accept or \n",
    "reject the null hypothesis based on the strength of evidence provided by the observed data.\n"
   ]
  },
  {
   "cell_type": "code",
   "execution_count": null,
   "id": "854e54cd-b025-441c-b01f-4abe1664160f",
   "metadata": {},
   "outputs": [],
   "source": [
    "Q9. Generate a Student's t-distribution plot using Python's matplotlib library, with the degrees of freedom\n",
    "parameter set to 10."
   ]
  },
  {
   "cell_type": "code",
   "execution_count": 2,
   "id": "a601b08f-8831-4a38-bcbf-ec9c04db120f",
   "metadata": {},
   "outputs": [
    {
     "data": {
      "image/png": "[encoded data removed]",
      "text/plain": [
       "<Figure size 640x480 with 1 Axes>"
      ]
     },
     "metadata": {},
     "output_type": "display_data"
    }
   ],
   "source": [
    "import matplotlib.pyplot as plt\n",
    "import numpy as np\n",
    "from scipy.stats import t\n",
    "\n",
    "df = 10  # degrees of freedom\n",
    "x = np.linspace(t.ppf(0.001, df), t.ppf(0.999, df), 100)  # generate x-values for t-distribution\n",
    "y = t.pdf(x, df)  # generate y-values for t-distribution\n",
    "\n",
    "fig, ax = plt.subplots()\n",
    "ax.plot(x, y, 'r-', lw=2, label='t pdf')\n",
    "ax.legend(loc='best', frameon=False)\n",
    "plt.show()"
   ]
  },
  {
   "cell_type": "code",
   "execution_count": null,
   "id": "ab2f3e8b-64e8-4365-b7d1-c49543fdb453",
   "metadata": {},
   "outputs": [],
   "source": [
    "This code generates a plot of the Student's t-distribution with degrees of freedom set to 10. The t.ppf function is used to \n",
    "generate the x-values for the distribution, and the t.pdf function is used to generate the y-values. Finally, the plot \n",
    "function is used to create the plot and the legend function is used to label the plot.\n"
   ]
  },
  {
   "cell_type": "code",
   "execution_count": null,
   "id": "b0ea9a70-80ab-4e33-8a7a-b946ad7399c0",
   "metadata": {},
   "outputs": [],
   "source": [
    "Q10. Write a Python program to calculate the two-sample t-test for independent samples, given two\n",
    "random samples of equal size and a null hypothesis that the population means are equal."
   ]
  },
  {
   "cell_type": "code",
   "execution_count": 3,
   "id": "60f81fe7-a073-4ab8-a7ca-f8ac8675c9d4",
   "metadata": {},
   "outputs": [
    {
     "name": "stdout",
     "output_type": "stream",
     "text": [
      "t-statistic: -4.286289549791642\n",
      "p-value: 4.253969093386438e-05\n"
     ]
    }
   ],
   "source": [
    "import numpy as np\n",
    "from scipy.stats import ttest_ind\n",
    "\n",
    "# generate two random samples\n",
    "sample1 = np.random.normal(10, 2, 50)\n",
    "sample2 = np.random.normal(12, 2, 50)\n",
    "\n",
    "# calculate the t-test and print the results\n",
    "t_stat, p_value = ttest_ind(sample1, sample2)\n",
    "print(\"t-statistic:\", t_stat)\n",
    "print(\"p-value:\", p_value)"
   ]
  },
  {
   "cell_type": "code",
   "execution_count": null,
   "id": "7fde4493-6436-4496-82af-6f52d4325487",
   "metadata": {},
   "outputs": [],
   "source": [
    "In this program, we first generate two random samples using the numpy library's random.normal function. We generate two normal\n",
    "distributions with mean 10 and standard deviation 2 for the first sample, and mean 12 and standard deviation 2 for the second \n",
    "sample. Both samples have a size of 50.\n",
    "\n",
    "Next, we use the scipy.stats library's ttest_ind function to perform the two-sample t-test. This function takes two arrays as \n",
    "input, representing the two samples, and returns the t-statistic and p-value for the test. We store these values in the t_stat\n",
    "and p_value variables.\n",
    "\n",
    "Finally, we print the results of the t-test by printing the t-statistic and p-value. The t-statistic measures the difference\n",
    "between the means of the two samples, while the p-value indicates the probability of obtaining such a difference by chance if\n",
    "the null hypothesis (that the population means are equal) is true. If the p-value is less than the significance level\n",
    "(usually 0.05), we reject the null hypothesis and conclude that the population means are significantly different.\n"
   ]
  },
  {
   "cell_type": "code",
   "execution_count": null,
   "id": "b90cf038-8066-434c-a3ff-5f874c04530c",
   "metadata": {},
   "outputs": [],
   "source": [
    "Q11: What is Student’s t distribution? When to use the t-Distribution."
   ]
  },
  {
   "cell_type": "code",
   "execution_count": null,
   "id": "fa86f651-96fa-4dbf-9cec-345fe9708005",
   "metadata": {},
   "outputs": [],
   "source": [
    "   Student's t-distribution, also known as the t-distribution, is a probability distribution that is used to model the\n",
    "sampling distribution of a statistic when the sample size is small and the population standard deviation is unknown. It was\n",
    "first introduced by William Gosset, who published under the pseudonym \"Student\" in 1908.\n",
    "\n",
    "The t-distribution is similar to the standard normal distribution, but it has heavier tails and a lower peak. Its shape \n",
    "depends on the degrees of freedom, which is equal to the sample size minus one. As the degrees of freedom increase, the\n",
    "t-distribution approaches the standard normal distribution.\n",
    "\n",
    "The t-distribution is commonly used in statistical inference when the sample size is small and the population standard \n",
    "deviation is unknown. Specifically, it is used to test hypotheses about population means, where the sample size is less than \n",
    "30 and the population standard deviation is unknown. In these situations, the t-distribution provides a more accurate \n",
    "estimation of the standard error of the sample mean than the standard normal distribution.\n",
    "\n",
    "In addition to hypothesis testing, the t-distribution is also used for constructing confidence intervals for population means\n",
    "and for conducting regression analysis when the errors are normally distributed.\n",
    "\n",
    "In summary, the t-distribution is a probability distribution used to model the sampling distribution of a statistic when the \n",
    "sample size is small and the population standard deviation is unknown. It is commonly used for testing hypotheses about\n",
    "population means and for constructing confidence intervals, especially when the sample size is less than 30.\n"
   ]
  },
  {
   "cell_type": "code",
   "execution_count": null,
   "id": "c0e51c61-47bd-4b12-a751-add6526decb3",
   "metadata": {},
   "outputs": [],
   "source": [
    "Q12: What is t-statistic? State the formula for t-statistic."
   ]
  },
  {
   "cell_type": "code",
   "execution_count": null,
   "id": "cbaace31-05b6-4e3c-a7d8-c603fe7f67f8",
   "metadata": {},
   "outputs": [],
   "source": [
    "The t-statistic is a measure of the difference between two sample means in relation to the variation within the samples. It is\n",
    "used in hypothesis testing to determine whether the difference between two groups is statistically significant or just due to\n",
    "chance.\n",
    "\n",
    "The formula for the t-statistic is:\n",
    "\n",
    "t = (x̄1 - x̄2) / (s√(1/n1 + 1/n2))\n",
    "\n",
    "Where:\n",
    "\n",
    "x̄1 and x̄2 are the sample means of the two groups being compared\n",
    "s is the pooled standard deviation of the two samples\n",
    "n1 and n2 are the sample sizes of the two groups\n",
    "The t-statistic is compared to a critical value based on the degrees of freedom (df), which is determined by the sample sizes\n",
    "and the assumption of equal variances between the two groups. The critical value can be found in a t-distribution table or \n",
    "calculated using statistical software. If the calculated t-statistic is greater than the critical value, then the difference\n",
    "between the two groups is considered statistically significant.\n"
   ]
  },
  {
   "cell_type": "code",
   "execution_count": null,
   "id": "786312d0-7168-4a3e-82bc-1b5d202f25f5",
   "metadata": {},
   "outputs": [],
   "source": [
    "Q13. A coffee shop owner wants to estimate the average daily revenue for their shop. They take a random\n",
    "sample of 50 days and find the sample mean revenue to be $500 with a standard deviation of $50.\n",
    "Estimate the population mean revenue with a 95% confidence interval."
   ]
  },
  {
   "cell_type": "code",
   "execution_count": null,
   "id": "946673d5-ad83-44b8-9c87-07cf99b90ae9",
   "metadata": {},
   "outputs": [],
   "source": [
    " To estimate the population mean revenue with a 95% confidence interval, we can use the following formula:\n",
    "\n",
    "CI = x̄ ± t*(s/√n)\n",
    "\n",
    "Where:\n",
    "\n",
    "x̄ is the sample mean revenue ($500 in this case)\n",
    "s is the sample standard deviation ($50 in this case)\n",
    "n is the sample size (50 in this case)\n",
    "t is the t-value from the t-distribution table with (n-1) degrees of freedom and a 95% confidence level (two-tailed test)\n",
    "First, we need to find the t-value. Since our sample size is 50, our degrees of freedom are 49. Using a t-distribution table\n",
    "or statistical software, we can find that the t-value for a two-tailed test with 49 degrees of freedom and a 95% confidence \n",
    "level is approximately 2.009.\n",
    "\n",
    "Plugging in the values, we get:\n",
    "\n",
    "CI = 500 ± 2.009*(50/√50)\n",
    "CI = 500 ± 14.14\n",
    "\n",
    "Therefore, the 95% confidence interval for the population mean revenue is $485.86 to $514.14. We can be 95% confident that the\n",
    "true population mean revenue falls within this interval.\n"
   ]
  },
  {
   "cell_type": "code",
   "execution_count": null,
   "id": "649a58d5-0809-4adf-b3cb-069eca613229",
   "metadata": {},
   "outputs": [],
   "source": [
    "Q14. A researcher hypothesizes that a new drug will decrease blood pressure by 10 mmHg. They conduct a\n",
    "clinical trial with 100 patients and find that the sample mean decrease in blood pressure is 8 mmHg with a\n",
    "standard deviation of 3 mmHg. Test the hypothesis with a significance level of 0.05."
   ]
  },
  {
   "cell_type": "code",
   "execution_count": null,
   "id": "92bdf2c5-7f31-4cd8-a4d7-f2ac0ce7c68e",
   "metadata": {},
   "outputs": [],
   "source": [
    "  To test the hypothesis that the new drug will decrease blood pressure by 10 mmHg, we can perform a one-sample t-test with \n",
    "    the following null and alternative hypotheses:\n",
    "\n",
    "H0: μ = 10\n",
    "Ha: μ < 10\n",
    "\n",
    "Where:\n",
    "\n",
    "H0 is the null hypothesis that the true mean decrease in blood pressure is 10 mmHg\n",
    "Ha is the alternative hypothesis that the true mean decrease in blood pressure is less than 10 mmHg\n",
    "μ is the population mean decrease in blood pressure\n",
    "We can use the following formula to calculate the t-statistic:\n",
    "\n",
    "t = (x̄ - μ) / (s/√n)\n",
    "\n",
    "Where:\n",
    "\n",
    "x̄ is the sample mean decrease in blood pressure (8 mmHg in this case)\n",
    "μ is the hypothesized population mean decrease in blood pressure (10 mmHg in this case)\n",
    "s is the sample standard deviation (3 mmHg in this case)\n",
    "n is the sample size (100 in this case)\n",
    "Plugging in the values, we get:\n",
    "\n",
    "t = (8 - 10) / (3/√100)\n",
    "t = -2.82\n",
    "\n",
    "The degrees of freedom for this test are (n-1) = 99. Using a t-distribution table or statistical software, we can find the \n",
    "p-value associated with this t-statistic to be approximately 0.003. This p-value is the probability of observing a t-statistic\n",
    "as extreme as -2.82 or more extreme, assuming that the null hypothesis is true.\n",
    "\n",
    "Since the significance level is 0.05, we reject the null hypothesis if the p-value is less than 0.05. In this case, the\n",
    "p-value is less than 0.05, so we reject the null hypothesis. This means that we have sufficient evidence to conclude that the \n",
    "new drug does decrease blood pressure by less than 10 mmHg.\n"
   ]
  },
  {
   "cell_type": "code",
   "execution_count": null,
   "id": "8ddffb50-9c8a-49ce-9bfd-f2dae3bcfb78",
   "metadata": {},
   "outputs": [],
   "source": [
    "Q15. An electronics company produces a certain type of product with a mean weight of 5 pounds and a\n",
    "standard deviation of 0.5 pounds. A random sample of 25 products is taken, and the sample mean weight\n",
    "is found to be 4.8 pounds. Test the hypothesis that the true mean weight of the products is less than 5\n",
    "pounds with a significance level of 0.01."
   ]
  },
  {
   "cell_type": "code",
   "execution_count": null,
   "id": "3874c532-785f-4479-818d-30500a086593",
   "metadata": {},
   "outputs": [],
   "source": [
    "    To test the hypothesis that the true mean weight of the products is less than 5 pounds, we can perform a one-sample t-test\n",
    "    with the following null and alternative hypotheses:\n",
    "\n",
    "H0: μ = 5\n",
    "Ha: μ < 5\n",
    "\n",
    "Where:\n",
    "\n",
    "H0 is the null hypothesis that the true mean weight of the products is 5 pounds\n",
    "Ha is the alternative hypothesis that the true mean weight of the products is less than 5 pounds\n",
    "μ is the population mean weight of the products\n",
    "We can use the following formula to calculate the t-statistic:\n",
    "\n",
    "t = (x̄ - μ) / (s/√n)\n",
    "\n",
    "Where:\n",
    "\n",
    "x̄ is the sample mean weight of the products (4.8 pounds in this case)\n",
    "μ is the hypothesized population mean weight of the products (5 pounds in this case)\n",
    "s is the sample standard deviation (0.5 pounds in this case)\n",
    "n is the sample size (25 in this case)\n",
    "Plugging in the values, we get:\n",
    "\n",
    "t = (4.8 - 5) / (0.5/√25)\n",
    "t = -2\n",
    "\n",
    "The degrees of freedom for this test are (n-1) = 24. Using a t-distribution table or statistical software, we can find the \n",
    "p-value associated with this t-statistic to be approximately 0.028. This p-value is the probability of observing a t-statistic\n",
    "as extreme as -2 or more extreme, assuming that the null hypothesis is true.\n",
    "\n",
    "Since the significance level is 0.01, we reject the null hypothesis if the p-value is less than 0.01. In this case, the\n",
    "p-value is greater than 0.01, so we fail to reject the null hypothesis. This means that we do not have sufficient evidence to \n",
    "conclude that the true mean weight of the products is less than 5 pounds at a significance level of 0.01.\n"
   ]
  },
  {
   "cell_type": "code",
   "execution_count": null,
   "id": "87537e0b-bbd0-4d8a-ae0e-ee170b368efb",
   "metadata": {},
   "outputs": [],
   "source": [
    "Q16. Two groups of students are given different study materials to prepare for a test. The first group (n1 =\n",
    "30) has a mean score of 80 with a standard deviation of 10, and the second group (n2 = 40) has a mean\n",
    "score of 75 with a standard deviation of 8. Test the hypothesis that the population means for the two\n",
    "groups are equal with a significance level of 0.01."
   ]
  },
  {
   "cell_type": "code",
   "execution_count": null,
   "id": "34fc07d3-b3cb-4371-9e27-4403351077c6",
   "metadata": {},
   "outputs": [],
   "source": [
    "  To test the hypothesis that the population means for the two groups are equal, we can perform a two-sample t-test with the \n",
    "    following null and alternative hypotheses:\n",
    "\n",
    "H0: μ1 - μ2 = 0\n",
    "Ha: μ1 - μ2 ≠ 0\n",
    "\n",
    "Where:\n",
    "\n",
    "H0 is the null hypothesis that the population means for the two groups are equal\n",
    "Ha is the alternative hypothesis that the population means for the two groups are not equal\n",
    "μ1 is the population mean score of the first group\n",
    "μ2 is the population mean score of the second group\n",
    "We can use the following formula to calculate the t-statistic:\n",
    "\n",
    "t = (x̄1 - x̄2) / √[s1^2/n1 + s2^2/n2]\n",
    "\n",
    "Where:\n",
    "\n",
    "x̄1 is the sample mean score of the first group (80 in this case)\n",
    "x̄2 is the sample mean score of the second group (75 in this case)\n",
    "s1 is the sample standard deviation of the first group (10 in this case)\n",
    "s2 is the sample standard deviation of the second group (8 in this case)\n",
    "n1 is the sample size of the first group (30 in this case)\n",
    "n2 is the sample size of the second group (40 in this case)\n",
    "Plugging in the values, we get:\n",
    "\n",
    "t = (80 - 75) / √[(10^2/30) + (8^2/40)]\n",
    "t = 2.11\n",
    "\n",
    "The degrees of freedom for this test are (n1 + n2 - 2) = 68. Using a t-distribution table or statistical software, we can find\n",
    "the two-tailed p-value associated with this t-statistic to be approximately 0.038. This p-value is the probability of \n",
    "observing a t-statistic as extreme as 2.11 or more extreme, assuming that the null hypothesis is true.\n",
    "\n",
    "Since the significance level is 0.01, we reject the null hypothesis if the p-value is less than 0.01/2 = 0.005 \n",
    "(two-tailed test). In this case, the p-value is greater than 0.005, so we fail to reject the null hypothesis. This means that\n",
    "we do not have sufficient evidence to conclude that the population means for the two groups are different at a significance\n",
    "level of 0.01.\n"
   ]
  },
  {
   "cell_type": "code",
   "execution_count": null,
   "id": "3ff32af4-c139-42e6-9a0c-7e4fc4304fb5",
   "metadata": {},
   "outputs": [],
   "source": [
    "Q17. A marketing company wants to estimate the average number of ads watched by viewers during a TV\n",
    "program. They take a random sample of 50 viewers and find that the sample mean is 4 with a standard\n",
    "deviation of 1.5. Estimate the population mean with a 99% confidence interval."
   ]
  },
  {
   "cell_type": "code",
   "execution_count": null,
   "id": "5c6906cc-b56a-4644-9916-fd5c9b857c4b",
   "metadata": {},
   "outputs": [],
   "source": [
    " To estimate the population mean with a 99% confidence interval, we can use the following formula:\n",
    "\n",
    "        Confidence interval = sample mean ± z*(standard error)\n",
    "\n",
    "where z is the critical value from the standard normal distribution corresponding to the desired confidence level, and the \n",
    "standard error is given by:\n",
    "\n",
    "Standard error = standard deviation / sqrt(sample size)\n",
    "\n",
    "Plugging in the given values, we get:\n",
    "\n",
    "    Standard error = 1.5 / sqrt(50) = 0.2121\n",
    "\n",
    "The critical value corresponding to a 99% confidence level is obtained from the standard normal distribution as:\n",
    "\n",
    "    z = 2.576\n",
    "\n",
    "Therefore, the 99% confidence interval is:\n",
    "\n",
    "    4 ± 2.576*0.2121\n",
    "\n",
    "    = (3.445, 4.555)\n",
    "\n",
    "So, we can say with 99% confidence that the true population mean number of ads watched by viewers during a TV program lies \n",
    "between 3.445 and 4.555."
   ]
  }
 ],
 "metadata": {
  "kernelspec": {
   "display_name": "Python 3 (ipykernel)",
   "language": "python",
   "name": "python3"
  },
  "language_info": {
   "codemirror_mode": {
    "name": "ipython",
    "version": 3
   },
   "file_extension": ".py",
   "mimetype": "text/x-python",
   "name": "python",
   "nbconvert_exporter": "python",
   "pygments_lexer": "ipython3",
   "version": "3.10.8"
  }
 },
 "nbformat": 4,
 "nbformat_minor": 5
}
