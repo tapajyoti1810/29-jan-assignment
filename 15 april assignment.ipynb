{
 "cells": [
  {
   "cell_type": "code",
   "execution_count": null,
   "id": "f8cf06cb-ba0c-43f0-975f-ed6afc1bd262",
   "metadata": {},
   "outputs": [],
   "source": [
    "Q1. Ans-\n",
    "\n",
    "from sklearn.compose import ColumnTransformer\n",
    "from sklearn.pipeline import Pipeline\n",
    "from sklearn.impute import SimpleImputer\n",
    "from sklearn.preprocessing import StandardScaler, OneHotEncoder\n",
    "from sklearn.ensemble import RandomForestClassifier\n",
    "from sklearn.feature_selection import SelectFromModel\n",
    "\n",
    "# Define the column transformer for numerical and categorical features\n",
    "numerical_transformer = Pipeline(steps=[\n",
    "    ('imputer', SimpleImputer(strategy='mean')),\n",
    "    ('scaler', StandardScaler())\n",
    "])\n",
    "\n",
    "categorical_transformer = Pipeline(steps=[\n",
    "    ('imputer', SimpleImputer(strategy='most_frequent')),\n",
    "    ('onehot', OneHotEncoder(handle_unknown='ignore'))\n",
    "])\n",
    "\n",
    "preprocessor = ColumnTransformer(\n",
    "    transformers=[\n",
    "        ('num', numerical_transformer, numerical_features),\n",
    "        ('cat', categorical_transformer, categorical_features)\n",
    "    ])\n",
    "\n",
    "# Use a feature selection method to identify important features\n",
    "selector = SelectFromModel(RandomForestClassifier())\n",
    "\n",
    "# Define the final pipeline with preprocessor, feature selector, and classifier\n",
    "rf_pipeline = Pipeline(steps=[\n",
    "    ('preprocessor', preprocessor),\n",
    "    ('selector', selector),\n",
    "    ('classifier', RandomForestClassifier())\n",
    "])\n",
    "\n",
    "# Train the model on the training data\n",
    "rf_pipeline.fit(X_train, y_train)\n",
    "\n",
    "# Evaluate the accuracy of the model on the test data\n",
    "accuracy = rf_pipeline.score(X_test, y_test)\n",
    "print(\"Accuracy:\", accuracy)\n",
    "In this pipeline, we first define a ColumnTransformer to handle the numerical and categorical features separately. The numerical features are\n",
    "imputed using the mean of the column values and then scaled using standardization. The categorical features are imputed using the most frequent\n",
    "value of the column and then one-hot encoded.\n",
    "\n",
    "Next, we use a SelectFromModel feature selection method with a RandomForestClassifier to identify important features.\n",
    "\n",
    "Finally, we define the final pipeline with the preprocessor, feature selector, and a RandomForestClassifier as the final classifier.\n",
    "\n",
    "We train the model on the training data and evaluate its accuracy on the test data.\n",
    "\n",
    "To improve the pipeline, we could try different feature selection methods or hyperparameters for the classifier. We could also try different \n",
    "imputation strategies for missing values or different scaling methods for the numerical features."
   ]
  },
  {
   "cell_type": "code",
   "execution_count": null,
   "id": "e074cc15-5227-4d53-bb39-f09194ccc101",
   "metadata": {},
   "outputs": [],
   "source": [
    "Q2. Ans-\n",
    "\n",
    "from sklearn.pipeline import Pipeline\n",
    "from sklearn.ensemble import RandomForestClassifier\n",
    "from sklearn.linear_model import LogisticRegression \n",
    "from sklearn.ensemble import VotingClassifier\n"
   ]
  },
  {
   "cell_type": "markdown",
   "id": "b97503d7-4d5f-4e36-a0de-6aa2e5dc2976",
   "metadata": {},
   "source": [
    "# Create pipelines for the individual classifiers"
   ]
  },
  {
   "cell_type": "code",
   "execution_count": null,
   "id": "3aa600b6-f78e-4e54-a550-aa0fa44502e8",
   "metadata": {},
   "outputs": [],
   "source": [
    "rf_pipeline = Pipeline([ ('imputer', SimpleImputer(strategy='mean')), ('scaler', StandardScaler()), ('rf', RandomForestClassifier()) ])\n",
    "\n",
    "lr_pipeline = Pipeline([ ('imputer', SimpleImputer(strategy='most_frequent')), ('onehot', OneHotEncoder()), \n",
    "                        ('scaler', StandardScaler(with_mean=False)), ('lr', LogisticRegression()) ])"
   ]
  },
  {
   "cell_type": "markdown",
   "id": "bddeafc2-e87e-48de-b942-424757c043c8",
   "metadata": {},
   "source": [
    "# Create the voting classifier"
   ]
  },
  {
   "cell_type": "code",
   "execution_count": null,
   "id": "1daab6f3-87fd-4af5-a003-5c5f5224fd3c",
   "metadata": {},
   "outputs": [],
   "source": [
    "voting_classifier = VotingClassifier( estimators=[('rf', rf_pipeline), ('lr', lr_pipeline)], voting='soft' )"
   ]
  },
  {
   "cell_type": "markdown",
   "id": "748f4b26-a0d9-4c3c-b03b-79aafe03f3ae",
   "metadata": {},
   "source": [
    "# Train the pipeline on the data"
   ]
  },
  {
   "cell_type": "code",
   "execution_count": null,
   "id": "5f778f37-351e-46ea-a1e8-9593808fdca2",
   "metadata": {},
   "outputs": [],
   "source": [
    "voting_classifier.fit(X_train, y_train)"
   ]
  },
  {
   "cell_type": "markdown",
   "id": "5a1aef5e-9995-4f5a-ae51-75d6e5e6044f",
   "metadata": {},
   "source": [
    "# Evaluate the accuracy on the test set"
   ]
  },
  {
   "cell_type": "code",
   "execution_count": null,
   "id": "ab74e815-fd33-4055-948a-a20463ab2ad2",
   "metadata": {},
   "outputs": [],
   "source": [
    "accuracy = voting_classifier.score(X_test, y_test) print(\"Accuracy:\", accuracy) In this example, we create separate pipelines for the Random\n",
    "Forest Classifier and the Logistic Regression Classifier, each including any necessary preprocessing steps such as imputation, scaling, and \n",
    "one-hot encoding. We then create a Voting Classifier that combines the predictions of these two classifiers using a soft voting strategy, \n",
    "which takes the predicted probabilities and averages them to make a final prediction.\n",
    "\n",
    "We train the entire pipeline on the training data and evaluate its accuracy on the test set. The final accuracy score can be used to assess \n",
    "the performance of the ensemble classifier."
   ]
  }
 ],
 "metadata": {
  "kernelspec": {
   "display_name": "Python 3 (ipykernel)",
   "language": "python",
   "name": "python3"
  },
  "language_info": {
   "codemirror_mode": {
    "name": "ipython",
    "version": 3
   },
   "file_extension": ".py",
   "mimetype": "text/x-python",
   "name": "python",
   "nbconvert_exporter": "python",
   "pygments_lexer": "ipython3",
   "version": "3.10.8"
  }
 },
 "nbformat": 4,
 "nbformat_minor": 5
}
