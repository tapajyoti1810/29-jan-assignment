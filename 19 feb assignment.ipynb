{
 "cells": [
  {
   "cell_type": "code",
   "execution_count": null,
   "id": "9dff5ff6-b725-4d97-b5ae-e33d6d416367",
   "metadata": {},
   "outputs": [],
   "source": [
    "Q1. What is Flask Framework? What are the advantages of Flask Framework?"
   ]
  },
  {
   "cell_type": "code",
   "execution_count": null,
   "id": "02686452-aeee-4be5-8a28-5669d6d0227c",
   "metadata": {},
   "outputs": [],
   "source": [
    " Flask is a popular web application framework for Python. It is designed to be lightweight, flexible, and easy to use,\n",
    "    making it a popular choice for building small to medium-sized web applications, APIs, and prototypes. Flask is based\n",
    "    on the Werkzeug WSGI toolkit and the Jinja2 template engine, and it provides developers with a simple and intuitive \n",
    "    API for building web applications.\n",
    "    \n",
    "    Some of the advantages of using Flask include:\n",
    "\n",
    "1.Lightweight and Flexible: Flask is a lightweight and flexible framework that provides developers with the freedom to \n",
    "choose the components they need for their application.\n",
    "\n",
    "2.Easy to Get Started: Flask has a simple and intuitive API that is easy to learn and use. It requires minimal \n",
    "boilerplate code and setup, making it a great choice for developers who want to quickly build web applications.\n",
    "\n",
    "3.Customizable: Flask is highly customizable, which means that developers can build applications that meet their specific\n",
    "requirements. It allows for modular design, making it easy to integrate with other tools and libraries.\n",
    "\n",
    "4.Fast: Flask is fast and efficient, which makes it a great choice for building web applications that require high \n",
    "performance.\n",
    "\n",
    "5.Extensible: Flask is highly extensible, which means that developers can use it to build a wide range of applications, \n",
    "from simple websites to complex web applications and APIs.\n",
    "\n",
    "6.Large Community: Flask has a large and active community of developers and users, which means that there are plenty of \n",
    "resources and tools available to help developers build applications.\n",
    "\n",
    "Overall, Flask is a great choice for developers who want a lightweight, flexible, and easy-to-use web application \n",
    "framework that can be customized to meet their specific needs."
   ]
  },
  {
   "cell_type": "code",
   "execution_count": null,
   "id": "b6efe780-771b-4c6d-af28-b2be349ca32f",
   "metadata": {},
   "outputs": [],
   "source": [
    "Q2. Create a simple Flask application to display ‘Hello World!!’. Attach the screenshot of the output in\n",
    "Jupyter Notebook."
   ]
  },
  {
   "cell_type": "code",
   "execution_count": null,
   "id": "37aa836e-a309-453a-870f-a85592757172",
   "metadata": {},
   "outputs": [],
   "source": [
    "import Flask from flask\n",
    "app =Flask(__name__)\n",
    "        @app.route('/')\n",
    "        def hello_world():\n",
    "            return 'Hello World!!'\n",
    "        \n",
    "        if __name__ == '__main__':\n",
    "            app.run()\n",
    "To run this application, you can save it to a file called app.py and then run it from the command line using the command\n",
    "python app.py. This will start the Flask development server and the application will be available at\n",
    "'http://127.0.0.1:5000/'.   \n"
   ]
  },
  {
   "cell_type": "code",
   "execution_count": null,
   "id": "d85fab85-8d79-4926-a031-f9faf7949b52",
   "metadata": {},
   "outputs": [],
   "source": [
    "Q3. What is App routing in Flask? Why do we use app routes?"
   ]
  },
  {
   "cell_type": "code",
   "execution_count": null,
   "id": "5e26ca02-6ef5-47f5-9f1e-d381e1f3f40d",
   "metadata": {},
   "outputs": [],
   "source": [
    "   App routing is a key feature of Flask, which allows you to map URLs to view functions in your Flask application. It is\n",
    "the process of mapping URLs to Python functions in a Flask application. When a user requests a specific URL, Flask will\n",
    "invoke the corresponding view function that is associated with that URL.\n",
    "\n",
    "App routes are used in Flask to define the behavior of the application when a user requests a particular URL. It allows\n",
    "you to define different views for different URLs and HTTP methods (such as GET, POST, etc.) based on the URL rules you \n",
    "have defined.\n",
    "\n",
    "App routes in Flask provide a way to handle the various requests and responses of a web application. By using app routes,\n",
    "you can create URLs that are user-friendly, easy to read and remember, and provide an organized and structured way to \n",
    "handle the different requests and responses of a web application. App routes allow for a modular design that can be \n",
    "easily modified, extended, and tested.\n",
    "\n",
    "Overall, app routing in Flask is a key feature that helps to make web application development simple, organized, and easy\n",
    "to maintain. It provides a flexible and powerful way to handle the various requests and responses of a web application,\n",
    "and it is an essential part of any Flask application.\n"
   ]
  },
  {
   "cell_type": "code",
   "execution_count": null,
   "id": "aab4d46c-5c3a-4743-aa4a-3a151ff19e65",
   "metadata": {},
   "outputs": [],
   "source": [
    "Q4. Create a “/welcome” route to display the welcome message “Welcome to ABC Corporation” and a “/”\n",
    "route to show the following details:\n",
    "Company Name: ABC Corporation\n",
    "Location: India\n",
    "Contact Detail: 999-999-9999\n"
   ]
  },
  {
   "cell_type": "code",
   "execution_count": null,
   "id": "d17d955d-f01e-4ca1-a7ef-27d1f6ed5ce0",
   "metadata": {},
   "outputs": [],
   "source": [
    "import Flask from flask\n",
    "app = Flask(__name__)\n",
    "\n",
    "     @app.route('/welcome')\n",
    "     def welcome():\n",
    "        return 'Welcome to ABC Corporation'\n",
    "        \n",
    "        @app.route('/')\n",
    "        def company_details():\n",
    "            return 'Company Name: ABC Corporation<br>Location: India<br>Contact Detail: 999-999-9999'\n",
    "        \n",
    "        if __name__== '__main__':\n",
    "            app.run()\n",
    "            \n",
    "Output:  Comapny Name: ABC Corporation\n",
    "         Location: India\n",
    "         Contact Detail: 999-999-9999\n",
    "    "
   ]
  },
  {
   "cell_type": "code",
   "execution_count": null,
   "id": "eca7e5f0-80b3-4596-9c7c-486c5c210d54",
   "metadata": {},
   "outputs": [],
   "source": [
    "Q5. What function is used in Flask for URL Building? Write a Python code to demonstrate the working of the\n",
    "url_for() function."
   ]
  },
  {
   "cell_type": "code",
   "execution_count": null,
   "id": "88e4f500-9a8f-4173-b206-3d4ab9505eb5",
   "metadata": {},
   "outputs": [],
   "source": [
    "The url_for() function in Flask is used for URL building. It generates a URL to the specified endpoint with the given \n",
    "arguments.\n",
    "\n",
    "Here is an example Python code to demonstrate the working of the url_for() function in Flask:\n",
    "\n",
    "import Flask from flask ,url_for\n",
    "app =Flask(__name__)\n",
    "\n",
    "@app.route('/')\n",
    "def home():\n",
    "    return 'Welcome to the home page'\n",
    "\n",
    "@app.route('/user/<username>')\n",
    "def profile(username):\n",
    "    return 'Welcome to the profile {username}'\n",
    "\n",
    "@app.route('/login')\n",
    "def login():\n",
    "    return 'Welcome to the login page'\n",
    "\n",
    "if __name__== '__main__'\n",
    "with app.test_request_context():\n",
    "    print(url_for('home'))\n",
    "    print(url_for('profile' ,username= 'tapajyoti bairagya'))\n",
    "    print(url_for('login'))"
   ]
  }
 ],
 "metadata": {
  "kernelspec": {
   "display_name": "Python 3 (ipykernel)",
   "language": "python",
   "name": "python3"
  },
  "language_info": {
   "codemirror_mode": {
    "name": "ipython",
    "version": 3
   },
   "file_extension": ".py",
   "mimetype": "text/x-python",
   "name": "python",
   "nbconvert_exporter": "python",
   "pygments_lexer": "ipython3",
   "version": "3.10.8"
  }
 },
 "nbformat": 4,
 "nbformat_minor": 5
}
