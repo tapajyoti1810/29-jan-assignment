{
 "cells": [
  {
   "cell_type": "code",
   "execution_count": null,
   "id": "55b37ba8-d2fc-4ea9-a42b-4e510bd0469b",
   "metadata": {},
   "outputs": [],
   "source": [
    "Q1. What are the three measures of central tendency?"
   ]
  },
  {
   "cell_type": "code",
   "execution_count": null,
   "id": "3cfd029f-34a7-4433-9ba9-591e36ed775a",
   "metadata": {},
   "outputs": [],
   "source": [
    "  The three measures of central tendency are:\n",
    "\n",
    "Mean: The mean is the average of all the values in a dataset. It is calculated by adding up all the values and dividing the \n",
    "sum by the total number of values.\n",
    "\n",
    "Median: The median is the middle value of a dataset when it is arranged in order. If there are an odd number of values in the\n",
    "dataset, the median is the middle value. If there are an even number of values, the median is the average of the two middle\n",
    "values.\n",
    "\n",
    "Mode: The mode is the value that appears most frequently in a dataset. A dataset can have more than one mode if there are two\n",
    "or more values that appear with the same frequency.\n"
   ]
  },
  {
   "cell_type": "code",
   "execution_count": null,
   "id": "b140bb80-1e8d-432a-99f3-fc2071abff8c",
   "metadata": {},
   "outputs": [],
   "source": [
    "Q2. What is the difference between the mean, median, and mode? How are they used to measure the\n",
    "central tendency of a dataset?"
   ]
  },
  {
   "cell_type": "code",
   "execution_count": null,
   "id": "2037ef7b-9a5e-41a2-836a-fc24abbbf34b",
   "metadata": {},
   "outputs": [],
   "source": [
    " The mean, median, and mode are different ways to measure the central tendency of a dataset. The main differences between \n",
    "these measures are as follows:\n",
    "\n",
    "1.Mean: The mean is calculated by adding up all the values in a dataset and dividing the sum by the total number of values. It\n",
    "is sensitive to outliers or extreme values in the data set. In other words, if there are some values that are very different \n",
    "from the rest of the data, the mean will be affected by these values. The mean is often used when the data set has a normal or\n",
    "symmetrical distribution.\n",
    "\n",
    "2.Median: The median is the middle value of a dataset when it is arranged in order. It is less sensitive to outliers or extreme\n",
    "values in the data set compared to the mean. The median is often used when the data set has a skewed distribution.\n",
    "\n",
    "3.Mode: The mode is the value that appears most frequently in a dataset. It is used when we want to know which value occurs \n",
    "most often in a data set. The mode is often used in categorical data or data that can only take certain values.\n",
    "\n",
    "In general, the choice of central tendency measure to use depends on the nature of the data and the research question being \n",
    "asked. If the data is normally distributed, the mean is usually the best measure of central tendency. If the data is skewed, \n",
    "the median may be a better choice. If the data is categorical, the mode may be the most appropriate measure of central tendency.\n"
   ]
  },
  {
   "cell_type": "code",
   "execution_count": null,
   "id": "30f270c4-a319-4198-afff-54a1e4e2c9d9",
   "metadata": {},
   "outputs": [],
   "source": [
    "Q3. Measure the three measures of central tendency for the given height data:\n",
    "[178,177,176,177,178.2,178,175,179,180,175,178.9,176.2,177,172.5,178,176.5]"
   ]
  },
  {
   "cell_type": "code",
   "execution_count": null,
   "id": "2d78aa41-da57-4654-9e9c-47aa2534801b",
   "metadata": {},
   "outputs": [],
   "source": [
    " To calculate the measures of central tendency for the given height data, we can use the following formulas:\n",
    "\n",
    "1.Mean: The mean is calculated by adding up all the values and dividing the sum by the total number of values.\n",
    "\n",
    "mean = (178 + 177 + 176 + 177 + 178.2 + 178 + 175 + 179 + 180 + 175 + 178.9 + 176.2 + 177 + 172.5 + 178 + 176.5) / 16\n",
    "\n",
    "Output:\n",
    "  = 177.3875\n",
    "Therefore, the mean height is approximately 177.4 cm.\n",
    "\n",
    "2.Median: To find the median, we first need to arrange the values in ascending order:\n",
    "\n",
    "172.5, 175, 175, 176, 176.2, 176.5, 177, 177, 178, 178, 178, 178.2, 178.9, 179, 180\n",
    "\n",
    "As there are an even number of values in the dataset, we take the average of the two middle values:\n",
    "\n",
    "median = (177 + 178) / 2\n",
    "\n",
    "Output:\n",
    "    = 177.5\n",
    "Therefore, the median height is 177.5 cm.\n",
    "\n",
    "3.Mode: The mode is the value that appears most frequently in the dataset. In this case, there are two values that appear most\n",
    "frequently, 177 and 178. Therefore, we can say that the dataset has two modes: 177 cm and 178 cm.\n",
    "\n",
    "Therefore, the measures of central tendency for the given height data are:\n",
    "\n",
    "Mean: 177.4 cm\n",
    "Median: 177.5 cm\n",
    "Mode: 177 cm and 178 cm"
   ]
  },
  {
   "cell_type": "code",
   "execution_count": null,
   "id": "60413bc2-8271-4472-a4cf-623799f5d84c",
   "metadata": {},
   "outputs": [],
   "source": [
    "Q4. Find the standard deviation for the given data:\n",
    "[178,177,176,177,178.2,178,175,179,180,175,178.9,176.2,177,172.5,178,176.5]"
   ]
  },
  {
   "cell_type": "code",
   "execution_count": null,
   "id": "655f4f4f-69f7-4624-a1ca-8dfac2ac2fe7",
   "metadata": {},
   "outputs": [],
   "source": [
    "To find the standard deviation of the given data, we can use the following formula:\n",
    "\n",
    "Standard deviation = sqrt(sum((x - mean)^2) / (n - 1))\n",
    "\n",
    "where x is each data point, mean is the average of the data, and n is the number of data points.\n",
    "\n",
    "First, we need to find the mean of the data:\n",
    "\n",
    "mean = (178 + 177 + 176 + 177 + 178.2 + 178 + 175 + 179 + 180 + 175 + 178.9 + 176.2 + 177 + 172.5 + 178 + 176.5) / 16\n",
    "= 176.8125  \n",
    "\n",
    "Next, we calculate the sum of the squared differences between each data point and the mean:\n",
    "\n",
    "sum((x - mean)^2) = (178 - 176.8125)^2 + (177 - 176.8125)^2 + (176 - 176.8125)^2 + ... + (176.5 - 176.8125)^2\n",
    "= 22.7769\n",
    "\n",
    "Then, we plug the values into the formula to get the standard deviation:\n",
    "\n",
    "Standard deviation = sqrt(sum((x - mean)^2) / (n - 1))\n",
    "= sqrt(22.7769 / 15)\n",
    "= 0.9285 (rounded to four decimal places)\n",
    "\n",
    "Therefore, the standard deviation of the given data is approximately 0.9285"
   ]
  },
  {
   "cell_type": "code",
   "execution_count": null,
   "id": "9ea20d71-94a5-4e8e-b58a-7e9c6b03bd6c",
   "metadata": {},
   "outputs": [],
   "source": [
    "Q5. How are measures of dispersion such as range, variance, and standard deviation used to describe\n",
    "the spread of a dataset? Provide an example."
   ]
  },
  {
   "cell_type": "code",
   "execution_count": null,
   "id": "250001f1-46f9-410b-bc7b-0f7418a356ab",
   "metadata": {},
   "outputs": [],
   "source": [
    " Measures of dispersion such as range, variance, and standard deviation are used to describe the spread of a dataset by \n",
    "quantifying how much the data values deviate from the central tendency of the data (i.e., the mean, median, or mode). A higher\n",
    "value of dispersion measures indicates that the data values are more spread out from the central tendency, while a lower value\n",
    "indicates that the data values are more closely clustered around the central tendency.\n",
    "\n",
    "For example, consider two datasets:\n",
    "\n",
    "Dataset 1: [5, 10, 15, 20, 25]\n",
    "Dataset 2: [5, 5, 15, 25, 25]\n",
    "\n",
    "Both datasets have the same mean of 15, but they have different measures of dispersion.\n",
    "\n",
    "Range is the difference between the maximum and minimum values of the dataset. For Dataset 1, the range is 20 (25 - 5), while \n",
    "for Dataset 2, the range is 20 (25 - 5). Therefore, the range does not distinguish between the two datasets in terms of spread.\n",
    "\n",
    "Variance measures the average squared deviation of each data point from the mean. For Dataset 1, the variance is 50, while for\n",
    "Dataset 2, the variance is 100/3 ≈ 33.33. The larger variance for Dataset 2 indicates that the data values are more spread out\n",
    "from the mean compared to Dataset 1.\n",
    "\n",
    "Standard deviation is the square root of the variance and is a more commonly used measure of dispersion. For Dataset 1, the \n",
    "standard deviation is 5.48, while for Dataset 2, the standard deviation is 5.77. Again, the larger standard deviation for \n",
    "Dataset 2 indicates that the data values are more spread out from the mean compared to Dataset 1.\n",
    "\n",
    "In summary, measures of dispersion such as range, variance, and standard deviation provide a quantitative way of describing \n",
    "the spread of a dataset and help to distinguish between datasets with the same central tendency but different distributions."
   ]
  },
  {
   "cell_type": "code",
   "execution_count": null,
   "id": "9a6bc6bf-9e7b-4ace-80e8-ed0d8dc5c65e",
   "metadata": {},
   "outputs": [],
   "source": [
    "Q6. What is a Venn diagram?"
   ]
  },
  {
   "cell_type": "code",
   "execution_count": null,
   "id": "60e860bd-be0a-47af-a3b1-371da7860815",
   "metadata": {},
   "outputs": [],
   "source": [
    "   A Venn diagram is a visual representation of sets using overlapping circles or other shapes. Each circle represents a set,\n",
    "and the overlap between the circles shows the intersection of those sets. The diagram is named after the British mathematician\n",
    "John Venn, who first introduced the concept in the late 1800s.\n",
    "\n",
    "Venn diagrams are often used to illustrate the relationships between sets, such as the overlap between different categories of\n",
    "data. The sets are usually represented as circles, with each circle containing the elements of that set. The overlap between \n",
    "the circles shows the elements that belong to both sets.\n",
    "\n",
    "For example, suppose we have two sets: Set A, which contains the numbers {1, 2, 3, 4}, and Set B, which contains the numbers \n",
    "{3, 4, 5, 6}. We can use a Venn diagram to illustrate the relationship between the sets as follows:\n",
    "\n",
    "Draw two overlapping circles, one for each set.\n",
    "Write the elements of Set A in the left circle, and the elements of Set B in the right circle.\n",
    "Write the elements that are common to both sets in the overlapping area of the circles.\n",
    "The resulting Venn diagram would show that Set A contains the numbers {1, 2, 3, 4}, Set B contains the numbers {3, 4, 5, 6}, \n",
    "and the overlapping area contains the numbers {3, 4}.\n",
    "\n",
    "Venn diagrams can also be used to represent more than two sets, in which case the circles would overlap in more complex ways \n",
    "to show the relationships between the sets.\n"
   ]
  },
  {
   "cell_type": "code",
   "execution_count": null,
   "id": "cc3f525f-a682-4259-b12c-f9df69315b34",
   "metadata": {},
   "outputs": [],
   "source": [
    "Q7. For the two given sets A = (2,3,4,5,6,7) & B = (0,2,6,8,10). Find:\n",
    "(i) A ⋂ B\n",
    "(ii) A ⋃ B"
   ]
  },
  {
   "cell_type": "code",
   "execution_count": null,
   "id": "8201b9c1-e22a-4c60-913b-5ed39e2be566",
   "metadata": {},
   "outputs": [],
   "source": [
    "A = {2, 3, 4, 5, 6, 7}\n",
    "\n",
    "B = {0, 2, 6, 8, 10}\n",
    "\n",
    "(i) To find A ⋂ B, we need to find the set of elements that are common to both A and B. In other words, we need to find the \n",
    "intersection of A and B. From the given sets, we can see that the only element that is common to both A and B is 2. Therefore:\n",
    "\n",
    "A ⋂ B = {2}\n",
    "\n",
    "(ii) To find A ⋃ B, we need to find the set of elements that are in either A or B (or both). In other words, we need to find \n",
    "the union of A and B. From the given sets, we can see that the elements in A and B are:\n",
    "\n",
    "A = {2, 3, 4, 5, 6, 7}\n",
    "\n",
    "B = {0, 2, 6, 8, 10}\n",
    "\n",
    "To find the union of A and B, we simply need to combine the elements of both sets, but we need to make sure that we don't\n",
    "include any duplicates. Therefore, the union of A and B is:\n",
    "\n",
    "A ⋃ B = {0, 2, 3, 4, 5, 6, 7, 8, 10}"
   ]
  },
  {
   "cell_type": "code",
   "execution_count": null,
   "id": "6d599ca8-5a22-46bd-b61d-1dd66ab6f012",
   "metadata": {},
   "outputs": [],
   "source": [
    "Q8. What do you understand about skewness in data?"
   ]
  },
  {
   "cell_type": "code",
   "execution_count": null,
   "id": "5afc19a7-05b9-4f61-ba9b-8ff9ec3e4e82",
   "metadata": {},
   "outputs": [],
   "source": [
    "Skewness in data refers to the extent to which the data is asymmetrical or non-symmetrical. A symmetric dataset is one where\n",
    "the distribution of values on one side of the center is a mirror image of the other side. A skewed dataset is one where the \n",
    "distribution is not symmetric, and it is either skewed to the left or skewed to the right.\n",
    "\n",
    "Skewness can be measured using a statistic called the skewness coefficient, which provides a numerical measure of the degree \n",
    "of asymmetry in the distribution. A positive skewness coefficient indicates that the data is skewed to the right, while a \n",
    "negative skewness coefficient indicates that the data is skewed to the left. A skewness coefficient of 0 indicates that the \n",
    "distribution is symmetric.\n",
    "\n",
    "In practice, skewness can have a significant impact on data analysis and modeling. For example, when the data is highly skewed,\n",
    "traditional statistical techniques that assume a normal distribution may not be appropriate, and alternative methods may be \n",
    "needed. Skewness can also affect the interpretation of data and can lead to biased conclusions if it is not taken into account.\n",
    "\n",
    "Therefore, understanding the skewness in data is important to ensure accurate data analysis and interpretation. It can help in\n",
    "choosing the right statistical methods and techniques and can improve the reliability and validity of the results obtained \n",
    "from data analysis.   \n"
   ]
  },
  {
   "cell_type": "code",
   "execution_count": null,
   "id": "1239ff8b-1239-4d80-8bb8-b1187377fa8a",
   "metadata": {},
   "outputs": [],
   "source": [
    "Q9. If a data is right skewed then what will be the position of median with respect to mean?"
   ]
  },
  {
   "cell_type": "code",
   "execution_count": null,
   "id": "bf66720e-15c3-44ad-bd37-2556ca9bdd5e",
   "metadata": {},
   "outputs": [],
   "source": [
    " If a data is right-skewed, the mean of the data will be greater than the median. This is because the right-skewed data have a\n",
    "    long tail on the right side of the distribution, which pulls the mean in that direction.\n",
    "\n",
    "For example, suppose we have a dataset with the following values:\n",
    "\n",
    "[2, 3, 4, 5, 6, 7, 8, 9, 10, 11, 12, 13, 14, 15, 16, 17, 18, 19, 20, 100]\n",
    "\n",
    "The median of this dataset is the middle value, which is 11. The mean of this dataset can be calculated by summing all the \n",
    "values and dividing by the number of values, which is:\n",
    "\n",
    "(2+3+4+5+6+7+8+9+10+11+12+13+14+15+16+17+18+19+20+100)/20 = 17.45\n",
    "\n",
    "We can see that the mean of this dataset is greater than the median, which indicates that the data is right-skewed.\n",
    "    "
   ]
  },
  {
   "cell_type": "code",
   "execution_count": null,
   "id": "e233f8ec-96f7-4939-ba7f-dd95a0717ee8",
   "metadata": {},
   "outputs": [],
   "source": [
    "Q10. Explain the difference between covariance and correlation. How are these measures used in\n",
    "statistical analysis?"
   ]
  },
  {
   "cell_type": "code",
   "execution_count": null,
   "id": "a5249f67-02db-45fc-99d7-4770f0bbe4fe",
   "metadata": {},
   "outputs": [],
   "source": [
    " Covariance and correlation are two measures that describe the relationship between two variables in a dataset. Although both \n",
    "    of these measures are used to measure the degree of association between two variables, they are not the same, and they have\n",
    "    different uses in statistical analysis.\n",
    "\n",
    "Covariance measures the strength and direction of the linear relationship between two variables. It provides a measure of how \n",
    "much the two variables vary together. If the covariance is positive, it indicates that the two variables tend to increase or \n",
    "decrease together, while a negative covariance indicates that the two variables move in opposite directions. However, \n",
    "covariance alone does not provide information about the strength of the relationship or how well the data fits a linear model.\n",
    "\n",
    "Correlation, on the other hand, is a standardized version of covariance that measures the strength and direction of the linear\n",
    "relationship between two variables, while controlling for the scale of the variables. Correlation takes values between -1 and \n",
    "1, where -1 indicates a perfect negative correlation, 0 indicates no correlation, and 1 indicates a perfect positive \n",
    "correlation. Correlation provides information about the strength and direction of the relationship, and it can be used to \n",
    "compare the association between two variables that have different units or scales.\n",
    "\n",
    "In statistical analysis, both covariance and correlation are used to study the relationship between two variables. However, \n",
    "correlation is more commonly used because it provides more information about the strength and direction of the relationship, \n",
    "and it is easier to interpret. Correlation is often used to test hypotheses and make predictions about the behavior of one \n",
    "variable based on the behavior of another variable.\n",
    "\n",
    "Covariance and correlation are also used in regression analysis, which is a statistical technique that models the relationship\n",
    "between a dependent variable and one or more independent variables. In regression analysis, correlation is used to select the\n",
    "independent variables that are most strongly related to the dependent variable, while covariance is used to estimate the \n",
    "coefficients of the regression equation.\n"
   ]
  },
  {
   "cell_type": "code",
   "execution_count": null,
   "id": "8d4bc84d-c63b-4696-bec1-ff705a4dcb15",
   "metadata": {},
   "outputs": [],
   "source": [
    "Q11. What is the formula for calculating the sample mean? Provide an example calculation for a\n",
    "dataset."
   ]
  },
  {
   "cell_type": "code",
   "execution_count": null,
   "id": "e6000447-0537-442c-9cbd-97a6370a0017",
   "metadata": {},
   "outputs": [],
   "source": [
    "The formula for calculating the sample mean is:\n",
    "  \n",
    " sample mean = (sum of all values in the dataset) / (number of values in the dataset)\n",
    "    \n",
    "In other words, to find the sample mean, you add up all the values in the dataset and divide the sum by the number of values.\n",
    "\n",
    "For example, suppose we have the following dataset:  \n",
    "    2, 4, 6, 8, 10\n",
    "    \n",
    "To find the sample mean of this dataset, we add up all the values:\n",
    "\n",
    "    2 + 4 + 6 + 8 + 10 = 30  \n",
    "    \n",
    "And then divide by the number of values, which is 5:\n",
    "\n",
    "    sample mean = 30 / 5 = 6    "
   ]
  },
  {
   "cell_type": "code",
   "execution_count": null,
   "id": "adaeb6d9-c215-40a4-8266-d69f03bed93d",
   "metadata": {},
   "outputs": [],
   "source": [
    "Q12. For a normal distribution data what is the relationship between its measure of central tendency?"
   ]
  },
  {
   "cell_type": "code",
   "execution_count": null,
   "id": "d7899ce9-81b2-42b4-9658-9e2f8ef11e5b",
   "metadata": {},
   "outputs": [],
   "source": [
    "  For a normal distribution, the three measures of central tendency - mean, median, and mode - are equal. This means that the\n",
    "value of the mean, median, and mode are the same and they are located at the center of the distribution.\n",
    "\n",
    "In a normal distribution, the data is symmetric around the mean, which means that half of the data falls on either side of the\n",
    "mean. The median is also located at the center of the distribution, and it divides the data into two equal halves. The mode is\n",
    "the value that occurs with the highest frequency in the distribution and is also located at the center of the distribution.\n",
    "\n",
    "The fact that the mean, median, and mode are equal in a normal distribution indicates that the data is well balanced and there\n",
    "are no significant outliers or skewness. This is why the normal distribution is often used as a benchmark for statistical \n",
    "analysis, and many statistical tests assume that the data is normally distributed.   \n"
   ]
  },
  {
   "cell_type": "code",
   "execution_count": null,
   "id": "334e1b83-4c41-402b-ab2a-3c2c7bc03ddf",
   "metadata": {},
   "outputs": [],
   "source": [
    "Q13. How is covariance different from correlation?"
   ]
  },
  {
   "cell_type": "code",
   "execution_count": null,
   "id": "9499c565-c478-47d7-835c-7f2961acfa86",
   "metadata": {},
   "outputs": [],
   "source": [
    "   Covariance and correlation are two measures that describe the relationship between two variables in a dataset.\n",
    "\n",
    "Covariance measures the strength and direction of the linear relationship between two variables. It provides a measure of how\n",
    "much the two variables vary together. If the covariance is positive, it indicates that the two variables tend to increase or\n",
    "decrease together, while a negative covariance indicates that the two variables move in opposite directions. However, \n",
    "covariance alone does not provide information about the strength of the relationship or how well the data fits a linear model. \n",
    "The formula for covariance is:\n",
    "    \n",
    "    Cov(X,Y) = [Σ(X - μX)(Y - μY)] / (n - 1)\n",
    "    \n",
    "where X and Y are the variables, μX and μY are the means of X and Y, and n is the sample size.\n",
    "\n",
    "Correlation, on the other hand, is a standardized version of covariance that measures the strength and direction of the linear\n",
    "relationship between two variables, while controlling for the scale of the variables. Correlation takes values between -1 and\n",
    "1, where -1 indicates a perfect negative correlation, 0 indicates no correlation, and 1 indicates a perfect positive \n",
    "correlation. Correlation provides information about the strength and direction of the relationship, and it can be used to \n",
    "compare the association between two variables that have different units or scales. The formula for correlation is:\n",
    "    \n",
    "    r = Cov(X,Y) / (σX * σY)\n",
    "    \n",
    "where r is the correlation coefficient, Cov(X,Y) is the covariance between X and Y, σX is the standard deviation of X, and σY \n",
    "is the standard deviation of Y.\n",
    "\n",
    "The key difference between covariance and correlation is that covariance is affected by the scale of the variables, while \n",
    "correlation is not. Covariance can take on any value, both positive and negative, depending on the scale of the variables. \n",
    "Correlation, on the other hand, is always between -1 and 1, and it does not depend on the scale of the variables.\n",
    "\n",
    "In summary, covariance and correlation both measure the relationship between two variables, but covariance measures the \n",
    "strength and direction of the linear relationship, while correlation measures the strength and direction of the linear \n",
    "relationship, while controlling for the scale of the variables.\n"
   ]
  },
  {
   "cell_type": "code",
   "execution_count": null,
   "id": "5ba5091f-b32f-419d-bfae-1e15c79994da",
   "metadata": {},
   "outputs": [],
   "source": [
    "Q14. How do outliers affect measures of central tendency and dispersion? Provide an example."
   ]
  },
  {
   "cell_type": "code",
   "execution_count": null,
   "id": "bb2d0a1c-282a-42c8-b0c3-77be51e9a648",
   "metadata": {},
   "outputs": [],
   "source": [
    " Outliers can have a significant impact on measures of central tendency and dispersion, especially if they are extreme values\n",
    "that are significantly different from the rest of the data. Outliers can affect the mean, median, and mode, as well as the \n",
    "range, variance, and standard deviation.\n",
    "\n",
    "For example, consider the following dataset:\n",
    "    \n",
    "    2, 4, 6, 8, 10, 100\n",
    "    \n",
    "The mean of this dataset is:\n",
    "    \n",
    "    mean = (2 + 4 + 6 + 8 + 10 + 100) / 6 = 21.67\n",
    "\n",
    "As we can see, the value of 100 has significantly increased the mean and does not represent the central tendency of the data.\n",
    "The median of this dataset is:\n",
    "  \n",
    "  median = (6 + 8) / 2 = 7\n",
    "\n",
    "The median is less affected by the outlier than the mean, but still not representative of the data. The mode of this dataset\n",
    "is:\n",
    "    mode = no mode\n",
    "\n",
    "Since no value in the dataset occurs more than once, there is no mode.\n",
    "\n",
    "Outliers can also have a significant effect on measures of dispersion, such as range, variance, and standard deviation. For \n",
    "example, consider the following dataset:\n",
    "    \n",
    "    2, 4, 6, 8, 10, 100\n",
    "    \n",
    "The range of this dataset is:\n",
    "    \n",
    "    range = 100 - 2 = 98\n",
    "    \n",
    "The range has been significantly affected by the outlier and does not represent the spread of the data. The variance of this \n",
    "dataset is:\n",
    "    \n",
    "    variance = ((2-21.67)^2 + (4-21.67)^2 + (6-21.67)^2 + (8-21.67)^2 + (10-21.67)^2 + (100-21.67)^2) / 5\n",
    "         = 1264.47\n",
    "The variance has also been significantly affected by the outlier and overestimates the variability of the data. The standard \n",
    "deviation of this dataset is:       \n",
    "     \n",
    "        standard deviation = sqrt(variance) = sqrt(1264.47) = 35.56\n",
    "        \n",
    "The standard deviation has also been significantly affected by the outlier and does not represent the variability of the data.\n",
    "\n",
    "In summary, outliers can significantly affect measures of central tendency and dispersion and should be carefully examined and \n",
    "dealt with in statistical analysis.   \n",
    "    "
   ]
  }
 ],
 "metadata": {
  "kernelspec": {
   "display_name": "Python 3 (ipykernel)",
   "language": "python",
   "name": "python3"
  },
  "language_info": {
   "codemirror_mode": {
    "name": "ipython",
    "version": 3
   },
   "file_extension": ".py",
   "mimetype": "text/x-python",
   "name": "python",
   "nbconvert_exporter": "python",
   "pygments_lexer": "ipython3",
   "version": "3.10.8"
  }
 },
 "nbformat": 4,
 "nbformat_minor": 5
}
