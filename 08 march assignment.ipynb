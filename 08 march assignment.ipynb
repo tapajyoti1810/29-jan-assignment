{
 "cells": [
  {
   "cell_type": "code",
   "execution_count": null,
   "id": "56959dc3-7675-470d-9879-d4969b4c2b53",
   "metadata": {},
   "outputs": [],
   "source": [
    "Q1. What is the Probability density function?"
   ]
  },
  {
   "cell_type": "code",
   "execution_count": null,
   "id": "32666a31-1cdd-4430-ac9a-915dca5a5a15",
   "metadata": {},
   "outputs": [],
   "source": [
    " Probability density function (PDF) is a mathematical function used to describe the probability distribution of a continuous \n",
    "random variable.\n",
    "\n",
    "The PDF describes the relative likelihood of the values of the random variable occurring within a given interval. It is a \n",
    "non-negative function, and the area under the curve of the PDF over an interval gives the probability of the variable taking\n",
    "values in that interval.\n",
    "\n",
    "The PDF is defined as the derivative of the cumulative distribution function (CDF) of the random variable. In other words, \n",
    "if F(x) is the CDF of the random variable X, then the PDF f(x) is defined as:\n",
    "\n",
    "      f(x) = dF(x)/dx\n",
    "\n",
    "where d/dx denotes the derivative with respect to x.\n",
    "\n",
    "The PDF can be used to calculate various statistical properties of the random variable, such as mean, variance, and moments. \n",
    "It is an essential concept in probability theory and statistics and is used in various fields, including engineering, \n",
    "economics, physics, and finance.\n"
   ]
  },
  {
   "cell_type": "code",
   "execution_count": null,
   "id": "2f6e3031-c7c2-4fba-8cb0-68267b2f0e86",
   "metadata": {},
   "outputs": [],
   "source": [
    "Q2. What are the types of Probability distribution?"
   ]
  },
  {
   "cell_type": "code",
   "execution_count": null,
   "id": "8bd5fb5e-80a8-4e17-8c6f-d1b0a30425fb",
   "metadata": {},
   "outputs": [],
   "source": [
    "  There are several types of probability distributions, but the most common ones are:\n",
    "\n",
    "1.Normal Distribution: It is a bell-shaped distribution that is symmetric around its mean. Many natural phenomena follow the\n",
    "normal distribution, and it is often used in statistical inference.\n",
    "\n",
    "2.Binomial Distribution: It is a discrete distribution that describes the number of successes in a fixed number of independent\n",
    "trials, where each trial has the same probability of success.\n",
    "\n",
    "3.Poisson Distribution: It is a discrete distribution that describes the number of events occurring in a fixed interval of \n",
    "time or space, given that the events occur independently and at a constant rate.\n",
    "\n",
    "4.Exponential Distribution: It is a continuous distribution that describes the time between two successive events occurring in\n",
    "a Poisson process.\n",
    "\n",
    "5.Uniform Distribution: It is a continuous distribution where all values in a given interval have an equal probability of \n",
    "occurring.\n",
    "\n",
    "6.Gamma Distribution: It is a continuous distribution that is used to model the time until a specified event occurs, given \n",
    "that the event occurs at a constant rate.\n",
    "\n",
    "7.Beta Distribution: It is a continuous distribution that is used to model probabilities or proportions.\n",
    "\n",
    "These are some of the most common types of probability distributions. There are many other probability distributions, each \n",
    "with its own unique characteristics and applications.\n"
   ]
  },
  {
   "cell_type": "code",
   "execution_count": null,
   "id": "9c4b870f-fac5-4a4d-af4c-a2d26d1573b2",
   "metadata": {},
   "outputs": [],
   "source": [
    "Q3. Write a Python function to calculate the probability density function of a normal distribution with\n",
    "given mean and standard deviation at a given point."
   ]
  },
  {
   "cell_type": "code",
   "execution_count": null,
   "id": "839b4baf-33da-45f0-beb5-781c3fed39b4",
   "metadata": {},
   "outputs": [],
   "source": [
    " Here's an example Python function to calculate the probability density function (PDF) of a normal distribution with a given \n",
    "mean and standard deviation at a given point:\n",
    "\n",
    "    import math\n",
    "\n",
    "def normal_pdf(x, mu, sigma):\n",
    "    \"\"\"\n",
    "    Calculates the PDF of a normal distribution with the given mean and standard deviation at the given point.\n",
    "    \n",
    "    Args:\n",
    "    x (float): The point at which to calculate the PDF.\n",
    "    mu (float): The mean of the normal distribution.\n",
    "    sigma (float): The standard deviation of the normal distribution.\n",
    "    \n",
    "    Returns:\n",
    "    float: The PDF of the normal distribution at the given point.\n",
    "    \"\"\"\n",
    "    coefficient = 1 / (sigma * math.sqrt(2 * math.pi))\n",
    "    exponent = -0.5 * ((x - mu) / sigma) ** 2\n",
    "    pdf = coefficient * math.exp(exponent)\n",
    "    return pdf\n",
    "\n",
    "To use this function, simply call it with the desired parameters:\n",
    "    \n",
    "mu = 0.0  # mean of the normal distribution\n",
    "sigma = 1.0  # standard deviation of the normal distribution\n",
    "x = 1.5  # point at which to calculate the PDF\n",
    "\n",
    "pdf = normal_pdf(x, mu, sigma)\n",
    "print(pdf)\n",
    "\n",
    "This will output the PDF of the normal distribution with mean 0.0 and standard deviation 1.0 at the point x=1.5."
   ]
  },
  {
   "cell_type": "code",
   "execution_count": null,
   "id": "95623383-6fba-4094-b9ac-30f11bb33f52",
   "metadata": {},
   "outputs": [],
   "source": [
    "Q4. What are the properties of Binomial distribution? Give two examples of events where binomial\n",
    "distribution can be applied."
   ]
  },
  {
   "cell_type": "code",
   "execution_count": null,
   "id": "a700ac81-0b6e-4812-b4ef-7e1e9287deb3",
   "metadata": {},
   "outputs": [],
   "source": [
    " Properties of Binomial Distribution:\n",
    "\n",
    "1.Fixed number of independent trials: The binomial distribution describes the number of successes in a fixed number of \n",
    "independent trials.\n",
    "\n",
    "2.Two possible outcomes: Each trial has only two possible outcomes, either success or failure.\n",
    "\n",
    "3.Constant probability: The probability of success is constant for each trial.\n",
    "\n",
    "4.Independent trials: The outcome of each trial is independent of the outcome of any other trial.\n",
    "\n",
    "Examples of events where binomial distribution can be applied:\n",
    "\n",
    "1.Coin tosses: The outcome of a coin toss can be modeled using a binomial distribution. If we toss a coin n times, the number \n",
    "of heads obtained follows a binomial distribution, where success is defined as obtaining a head, and failure is defined as \n",
    "obtaining a tail.\n",
    "\n",
    "2.Product defects: A manufacturing company produces a large number of products, and some of them may be defective. If we \n",
    "inspect a sample of products and count the number of defective items, this can be modeled using a binomial distribution, where\n",
    "success is defined as finding a defective item, and failure is defined as finding a non-defective item. The probability of \n",
    "success in this case is the probability of a product being defective.\n"
   ]
  },
  {
   "cell_type": "code",
   "execution_count": null,
   "id": "0b6f74d5-6e6b-43f5-ad40-1ef3e7b0117e",
   "metadata": {},
   "outputs": [],
   "source": [
    "Q5. Generate a random sample of size 1000 from a binomial distribution with probability of success 0.4\n",
    "and plot a histogram of the results using matplotlib."
   ]
  },
  {
   "cell_type": "code",
   "execution_count": 2,
   "id": "4cc1d741-42d7-4648-a026-4bb7e00a993f",
   "metadata": {},
   "outputs": [
    {
     "data": {
      "image/png": "[encoded data removed]",
      "text/plain": [
       "<Figure size 640x480 with 1 Axes>"
      ]
     },
     "metadata": {},
     "output_type": "display_data"
    }
   ],
   "source": [
    "    \n",
    "    \n",
    "import numpy as np\n",
    "import matplotlib.pyplot as plt\n",
    "\n",
    "# Set the parameters of the binomial distribution\n",
    "n = 1  # number of trials\n",
    "p = 0.4  # probability of success\n",
    "\n",
    "# Generate a random sample of size 1000 from the binomial distribution\n",
    "sample = np.random.binomial(n, p, size=1000)\n",
    "\n",
    "# Plot a histogram of the sample using matplotlib\n",
    "plt.hist(sample, bins=range(n+2), align='left', rwidth=0.8)\n",
    "plt.xlabel('Number of successes')\n",
    "plt.ylabel('Frequency')\n",
    "plt.title('Binomial distribution with n={} and p={}'.format(n, p))\n",
    "plt.show()"
   ]
  },
  {
   "cell_type": "code",
   "execution_count": null,
   "id": "7167e839-d04a-4000-9a5a-f6b90ea09236",
   "metadata": {},
   "outputs": [],
   "source": [
    "In this code, we first set the parameters of the binomial distribution, which are the number of trials (n) and the probability\n",
    "of success (p). We then use the np.random.binomial function from the numpy library to generate a random sample of size 1000 \n",
    "from the binomial distribution with these parameters. Finally, we use the plt.hist function from the matplotlib library to \n",
    "plot a histogram of the sample, where each bar represents the frequency of a certain number of successes.\n",
    "\n",
    "The resulting plot will show the distribution of the number of successes in the sample, which should be centered around the\n",
    "expected value of np=0.4.\n"
   ]
  },
  {
   "cell_type": "code",
   "execution_count": null,
   "id": "1761b202-c90d-4069-a592-1954ae5c367e",
   "metadata": {},
   "outputs": [],
   "source": [
    "Q6. Write a Python function to calculate the cumulative distribution function of a Poisson distribution\n",
    "with given mean at a given point."
   ]
  },
  {
   "cell_type": "code",
   "execution_count": null,
   "id": "ca7b6391-9534-4ba1-b4bc-d3c00b646eb5",
   "metadata": {},
   "outputs": [],
   "source": [
    "  import math\n",
    "\n",
    "def poisson_cdf(k, mu):\n",
    "    \"\"\"\n",
    "    Calculates the CDF of a Poisson distribution with the given mean at the given point.\n",
    "    \n",
    "    Args:\n",
    "    k (int): The point at which to calculate the CDF.\n",
    "    mu (float): The mean of the Poisson distribution.\n",
    "    \n",
    "    Returns:\n",
    "    float: The CDF of the Poisson distribution at the given point.\n",
    "    \"\"\"\n",
    "    cdf = 0.0\n",
    "    for i in range(k+1):\n",
    "        cdf += math.exp(-mu) * mu**i / math.factorial(i)\n",
    "    return cdf\n",
    "\n",
    "To use this function, simply call it with the desired parameters:\n",
    "\n",
    "\n",
    "mu = 2.5  # mean of the Poisson distribution\n",
    "k = 4  # point at which to calculate the CDF\n",
    "\n",
    "cdf = poisson_cdf(k, mu)\n",
    "print(cdf)\n",
    "\n",
    "This will output the CDF of the Poisson distribution with mean 2.5 at the point k=4. The CDF represents the probability that \n",
    "the random variable takes a value less than or equal to k, so the output of the function represents the probability of \n",
    "observing 4 or fewer events in a Poisson process with a mean of 2.5.\n"
   ]
  },
  {
   "cell_type": "code",
   "execution_count": null,
   "id": "0007d454-6f95-4547-8f32-81b11843cd68",
   "metadata": {},
   "outputs": [],
   "source": [
    "Q7. How Binomial distribution different from Poisson distribution?"
   ]
  },
  {
   "cell_type": "code",
   "execution_count": null,
   "id": "0c7956a3-cd7a-447c-a9d6-335ea392538d",
   "metadata": {},
   "outputs": [],
   "source": [
    "   Binomial and Poisson distributions are both discrete probability distributions, but they have some key differences:\n",
    "\n",
    "1.Number of trials: The binomial distribution describes the number of successes in a fixed number of independent trials, while\n",
    "the Poisson distribution describes the number of events occurring in a fixed interval of time or space.\n",
    "\n",
    "2.Probability of success: In the binomial distribution, the probability of success is constant for each trial, while in the \n",
    "Poisson distribution, the probability of an event occurring is constant for each unit of time or space.\n",
    "\n",
    "3.Relationship between mean and variance: In the binomial distribution, the variance is equal to np(1-p), where n is the \n",
    "number of trials and p is the probability of success. In the Poisson distribution, the variance is equal to the mean.\n",
    "\n",
    "4.Assumptions: The binomial distribution assumes a fixed number of trials and a constant probability of success, while the \n",
    "Poisson distribution assumes a large number of independent events occurring at a constant rate.\n",
    "\n",
    "5.Application: The binomial distribution is commonly used to model the probability of a certain number of successes in a fixed\n",
    "number of trials, while the Poisson distribution is commonly used to model the probability of a certain number of events \n",
    "occurring in a fixed interval of time or space.\n",
    "\n",
    "\n",
    "In summary, the binomial distribution is used when there are a fixed number of independent trials, and the probability of \n",
    "success is constant for each trial, while the Poisson distribution is used when there are a large number of independent events\n",
    "occurring at a constant rate\n"
   ]
  },
  {
   "cell_type": "code",
   "execution_count": null,
   "id": "590f9966-ad2c-4c82-bfa9-0bb249854b54",
   "metadata": {},
   "outputs": [],
   "source": [
    "Q8. Generate a random sample of size 1000 from a Poisson distribution with mean 5 and calculate the\n",
    "sample mean and variance."
   ]
  },
  {
   "cell_type": "code",
   "execution_count": 3,
   "id": "75a21ec2-79d0-4555-abd0-46d51394c1c3",
   "metadata": {},
   "outputs": [
    {
     "name": "stdout",
     "output_type": "stream",
     "text": [
      "Sample mean: 4.92\n",
      "Sample variance: 5.15\n"
     ]
    }
   ],
   "source": [
    "import numpy as np\n",
    "\n",
    "# Set the parameters of the Poisson distribution\n",
    "mu = 5  # mean\n",
    "\n",
    "# Generate a random sample of size 1000 from the Poisson distribution\n",
    "sample = np.random.poisson(mu, size=1000)\n",
    "\n",
    "# Calculate the sample mean and variance\n",
    "sample_mean = np.mean(sample)\n",
    "sample_var = np.var(sample, ddof=1)  # use ddof=1 for unbiased variance\n",
    "\n",
    "print(\"Sample mean: {:.2f}\".format(sample_mean))\n",
    "print(\"Sample variance: {:.2f}\".format(sample_var))\n"
   ]
  },
  {
   "cell_type": "code",
   "execution_count": null,
   "id": "234c6391-790b-4af5-be26-1091d3e56095",
   "metadata": {},
   "outputs": [],
   "source": [
    "In this code, we first set the parameter of the Poisson distribution, which is the mean (mu). We then use the \n",
    "np.random.poisson function from the numpy library to generate a random sample of size 1000 from the Poisson distribution with\n",
    "this mean. Finally, we use the np.mean and np.var functions from the numpy library to calculate the sample mean and variance,\n",
    "respectively.\n",
    "\n",
    "The output of this code will be the sample mean and variance of the generated sample, which should be close to the population \n",
    "mean and variance of a Poisson distribution with mean 5.\n"
   ]
  },
  {
   "cell_type": "code",
   "execution_count": null,
   "id": "5fd41c07-e598-4f29-8351-2b05b516801a",
   "metadata": {},
   "outputs": [],
   "source": [
    "Q9. How mean and variance are related in Binomial distribution and Poisson distribution?"
   ]
  },
  {
   "cell_type": "code",
   "execution_count": null,
   "id": "8f931305-fcd4-49d4-80e4-96a0a8504ec4",
   "metadata": {},
   "outputs": [],
   "source": [
    "In the Binomial distribution, the mean (μ) and variance (σ^2) are related by the formula:\n",
    "\n",
    "      σ^2 = μ(1 - p)\n",
    "\n",
    "where μ is the mean of the distribution and p is the probability of success in each trial. This formula implies that the \n",
    "variance increases as the probability of success decreases, and it reaches its maximum when p = 0.5.\n",
    "\n",
    "In the Poisson distribution, the mean (μ) and variance (σ^2) are equal:\n",
    "\n",
    "      σ^2 = μ\n",
    "\n",
    "This means that the variance of the distribution is proportional to its mean. As the mean of the distribution increases, so\n",
    "does its variance.\n",
    "\n",
    "In summary, in the Binomial distribution, the variance depends on both the mean and the probability of success, while in the \n",
    "Poisson distribution, the variance depends only on the mean. In both cases, the variance is an important measure of the spread\n",
    "or dispersion of the distribution, and it provides information about how much the random variable deviates from its mean value.\n"
   ]
  },
  {
   "cell_type": "code",
   "execution_count": null,
   "id": "680755c1-48bc-447c-b209-d03f0d6eb25e",
   "metadata": {},
   "outputs": [],
   "source": [
    "Q10. In normal distribution with respect to mean position, where does the least frequent data appear?"
   ]
  },
  {
   "cell_type": "code",
   "execution_count": null,
   "id": "4d0d09f8-8f10-405a-a045-4a81439af47e",
   "metadata": {},
   "outputs": [],
   "source": [
    "  In a normal distribution, the least frequent data appears in the tails of the distribution, which are the regions furthest \n",
    "away from the mean. Specifically, the probability density function of a normal distribution is highest at the mean and \n",
    "decreases as we move away from the mean in either direction towards the tails. Therefore, the least frequent data appears in \n",
    "the tails of the distribution, where the probability density function is lower.\n",
    "\n",
    "For example, in a standard normal distribution (with a mean of 0 and a standard deviation of 1), the least frequent data \n",
    "appears in the tails beyond about 2 or 3 standard deviations from the mean. These extreme values are sometimes referred to as\n",
    "outliers or anomalies, and they may be of special interest in certain applications or analyses.\n"
   ]
  }
 ],
 "metadata": {
  "kernelspec": {
   "display_name": "Python 3 (ipykernel)",
   "language": "python",
   "name": "python3"
  },
  "language_info": {
   "codemirror_mode": {
    "name": "ipython",
    "version": 3
   },
   "file_extension": ".py",
   "mimetype": "text/x-python",
   "name": "python",
   "nbconvert_exporter": "python",
   "pygments_lexer": "ipython3",
   "version": "3.10.8"
  }
 },
 "nbformat": 4,
 "nbformat_minor": 5
}
