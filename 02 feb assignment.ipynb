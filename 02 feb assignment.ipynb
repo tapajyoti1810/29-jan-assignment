{
 "cells": [
  {
   "cell_type": "code",
   "execution_count": null,
   "id": "94a98fc9-3cf2-4858-b5b7-32c3477ab1ad",
   "metadata": {},
   "outputs": [],
   "source": [
    "1.explain with an example each when to use a for loop and a while loop:"
   ]
  },
  {
   "cell_type": "code",
   "execution_count": 1,
   "id": "bbfe3860-e1e6-4900-a657-24bfba79e62e",
   "metadata": {},
   "outputs": [],
   "source": [
    "# For Loop - We use for loop when no of iterations are not known"
   ]
  },
  {
   "cell_type": "code",
   "execution_count": 1,
   "id": "97c7c1fe-b8b5-4a87-bbfb-ed64b1d1d30a",
   "metadata": {},
   "outputs": [],
   "source": [
    "l=[1,2,3,4,5]"
   ]
  },
  {
   "cell_type": "code",
   "execution_count": 2,
   "id": "ba663ee3-f240-4491-b2ee-fd360ee1b610",
   "metadata": {},
   "outputs": [
    {
     "name": "stdout",
     "output_type": "stream",
     "text": [
      "1\n",
      "2\n",
      "3\n",
      "4\n",
      "5\n"
     ]
    }
   ],
   "source": [
    "for i in l:\n",
    "    print(i)"
   ]
  },
  {
   "cell_type": "code",
   "execution_count": 2,
   "id": "7980712a-52c6-4c66-ada8-dbf73aac303f",
   "metadata": {},
   "outputs": [],
   "source": [
    "# While Loop - We use while loop when the no of iterations are known."
   ]
  },
  {
   "cell_type": "code",
   "execution_count": 7,
   "id": "c6b502a8-6928-48f9-8a21-7ab887bc0fdf",
   "metadata": {},
   "outputs": [
    {
     "name": "stdout",
     "output_type": "stream",
     "text": [
      "1\n",
      "2\n",
      "3\n",
      "4\n",
      "5\n",
      "6\n",
      "7\n",
      "8\n",
      "9\n",
      "10\n"
     ]
    }
   ],
   "source": [
    "a=1\n",
    "\n",
    "while a<=10:\n",
    "      print(a)\n",
    "      a=a+1\n",
    "    "
   ]
  },
  {
   "cell_type": "code",
   "execution_count": null,
   "id": "143534b6-c3c1-40e7-bcce-e8f99d512041",
   "metadata": {},
   "outputs": [],
   "source": [
    "2. Write a python program to print the sum and product of the first 10 natural numbers using for and while loop:"
   ]
  },
  {
   "cell_type": "code",
   "execution_count": 8,
   "id": "2757195c-af11-4bd7-884b-1e3b88b2cb5f",
   "metadata": {},
   "outputs": [],
   "source": [
    "l=[1,2,3,4,5,6,7,8,9,10]"
   ]
  },
  {
   "cell_type": "code",
   "execution_count": 11,
   "id": "c6cc75aa-2ed6-412a-89f3-97dbe9bb53f6",
   "metadata": {},
   "outputs": [
    {
     "data": {
      "text/plain": [
       "55"
      ]
     },
     "execution_count": 11,
     "metadata": {},
     "output_type": "execute_result"
    }
   ],
   "source": [
    "result=0\n",
    "for i in l:\n",
    "    result=result+i \n",
    "result"
   ]
  },
  {
   "cell_type": "code",
   "execution_count": 12,
   "id": "a6cf69e6-79a6-4e27-a43a-64187da88e4a",
   "metadata": {},
   "outputs": [
    {
     "name": "stdin",
     "output_type": "stream",
     "text": [
      "enter your limit 10\n"
     ]
    },
    {
     "data": {
      "text/plain": [
       "55"
      ]
     },
     "execution_count": 12,
     "metadata": {},
     "output_type": "execute_result"
    }
   ],
   "source": [
    "n=int(input('enter your limit'))\n",
    "starting_point=0\n",
    "counter=1\n",
    "\n",
    "while counter<=n:\n",
    "    starting_point=starting_point+counter\n",
    "    counter=counter+1\n",
    "starting_point    \n"
   ]
  },
  {
   "cell_type": "code",
   "execution_count": null,
   "id": "3526d842-1fcf-4601-8727-e33a73787270",
   "metadata": {},
   "outputs": [],
   "source": [
    "Q3. Create a python program to compute the electricity bill for a household.\n",
    "The per-unit charges in rupees are as follows: For the first 100 units,\n",
    "the user will be charged Rs. 4.5 per unit, for the next 100 units, the user will be charged Rs. 6 per unit, \n",
    "and for the next 100 units, the user will be charged Rs. 10 per unit, After 300 units and above the user will be charged Rs.\n",
    "20 per unit.\n",
    "You are required to take the units of electricity consumed in a month from the user as input.\n",
    "Your program must pass this test case: when the unit of electricity consumed by the user in a month is 310,\n",
    "the total electricity bill should be 2250:"
   ]
  },
  {
   "cell_type": "code",
   "execution_count": 4,
   "id": "641afe15-a3b0-4d18-b702-de37e23c632e",
   "metadata": {},
   "outputs": [
    {
     "name": "stdin",
     "output_type": "stream",
     "text": [
      "Enter the no of units of electricity used 310\n"
     ]
    },
    {
     "name": "stdout",
     "output_type": "stream",
     "text": [
      "The bill is Rs 2250\n"
     ]
    }
   ],
   "source": [
    "units = int(input(\"Enter the no of units of electricity used\"))\n",
    "bill = 0\n",
    "if (units <= 100):\n",
    "    bill += units*4.5\n",
    "    units -= 100\n",
    "if (units > 100 and units <= 200):\n",
    "    bill += 450\n",
    "    units -= 100\n",
    "    bill += units*6\n",
    "if (units > 200 and units <= 300):\n",
    "    bill += 450 + 600\n",
    "    units -= 200\n",
    "    bill += units*10\n",
    "if (units > 300):\n",
    "    bill += 450 + 600 + 1000\n",
    "    units -= 300\n",
    "    bill += units*20\n",
    "print(f\"The bill is Rs {bill}\")"
   ]
  },
  {
   "cell_type": "code",
   "execution_count": null,
   "id": "6e4bb2a6-be26-460a-bca3-95d941120857",
   "metadata": {},
   "outputs": [],
   "source": [
    "Q4. Create a list of numbers from 1 to 100. Use for loop and while loop to calculate cube of each number\n",
    "and if the cube of that number is divisible by 4 or 5 then append that number in a list and print that list.\n"
   ]
  },
  {
   "cell_type": "code",
   "execution_count": 10,
   "id": "b2e5ed1c-fe65-451b-a394-80c92153e70b",
   "metadata": {},
   "outputs": [
    {
     "name": "stdout",
     "output_type": "stream",
     "text": [
      "[2, 4, 5, 6, 8, 10, 12, 14, 15, 16, 18, 20, 22, 24, 25, 26, 28, 30, 32, 34, 35, 36, 38, 40, 42, 44, 45, 46, 48, 50, 52, 54, 55, 56, 58, 60, 62, 64, 65, 66, 68, 70, 72, 74, 75, 76, 78, 80, 82, 84, 85, 86, 88, 90, 92, 94, 95, 96, 98, 100]\n"
     ]
    }
   ],
   "source": [
    "result = []\n",
    "for i in range(1, 101):\n",
    "    cube = i**3\n",
    "    if (cube % 4 == 0) or (cube % 5 == 0):\n",
    "        result.append(i)\n",
    "\n",
    "print( result)\n"
   ]
  },
  {
   "cell_type": "code",
   "execution_count": 11,
   "id": "f66e95a1-2704-4324-bd5c-85ff25a1601d",
   "metadata": {},
   "outputs": [
    {
     "name": "stdout",
     "output_type": "stream",
     "text": [
      "[2, 4, 5, 6, 8, 10, 12, 14, 15, 16, 18, 20, 22, 24, 25, 26, 28, 30, 32, 34, 35, 36, 38, 40, 42, 44, 45, 46, 48, 50, 52, 54, 55, 56, 58, 60, 62, 64, 65, 66, 68, 70, 72, 74, 75, 76, 78, 80, 82, 84, 85, 86, 88, 90, 92, 94, 95, 96, 98, 100]\n"
     ]
    }
   ],
   "source": [
    "result = []\n",
    "i = 1\n",
    "while i <= 100:\n",
    "    cube = i**3\n",
    "    if (cube % 4 == 0) or (cube % 5 == 0):\n",
    "        result.append(i)\n",
    "    i += 1\n",
    "\n",
    "print( result)\n"
   ]
  },
  {
   "cell_type": "code",
   "execution_count": null,
   "id": "476be318-e36b-45ea-b0ec-d13b6f9dae38",
   "metadata": {},
   "outputs": [],
   "source": [
    "Q5.\n",
    "Write a program to filter count vowels in the below-given string.\n",
    "string = \"I want to become a data scientist\""
   ]
  },
  {
   "cell_type": "code",
   "execution_count": 13,
   "id": "84af7156-7c8d-4640-a79d-8467a191141b",
   "metadata": {},
   "outputs": [
    {
     "name": "stdout",
     "output_type": "stream",
     "text": [
      "number of vowels in the string: 12\n"
     ]
    }
   ],
   "source": [
    "string = \"I want to become a data scientist\"\n",
    "vowels = \"AEIOUaeiou\"\n",
    "count = 0\n",
    "for char in string:\n",
    "    if char in vowels:\n",
    "        count += 1\n",
    "print(\"number of vowels in the string:\",count)        "
   ]
  },
  {
   "cell_type": "code",
   "execution_count": null,
   "id": "cad2d7fd-a348-4b86-9d96-55153aa58add",
   "metadata": {},
   "outputs": [],
   "source": []
  }
 ],
 "metadata": {
  "kernelspec": {
   "display_name": "Python 3 (ipykernel)",
   "language": "python",
   "name": "python3"
  },
  "language_info": {
   "codemirror_mode": {
    "name": "ipython",
    "version": 3
   },
   "file_extension": ".py",
   "mimetype": "text/x-python",
   "name": "python",
   "nbconvert_exporter": "python",
   "pygments_lexer": "ipython3",
   "version": "3.10.8"
  }
 },
 "nbformat": 4,
 "nbformat_minor": 5
}
