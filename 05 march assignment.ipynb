{
 "cells": [
  {
   "cell_type": "code",
   "execution_count": null,
   "id": "55764723-c72b-4ce3-abb5-5a0e97596a08",
   "metadata": {},
   "outputs": [],
   "source": [
    "Q1. How can you create a Bokeh plot using Python code?"
   ]
  },
  {
   "cell_type": "code",
   "execution_count": null,
   "id": "860ce243-f090-45f5-a9ce-c1dc302dd343",
   "metadata": {},
   "outputs": [],
   "source": [
    "Bokeh is a Python library used for creating interactive visualizations in web browsers. Here are the steps to create a basic\n",
    "Bokeh plot using Python code:\n",
    "\n",
    "1.Import the necessary modules: from bokeh.plotting import figure, output_file, show.\n",
    "\n",
    "2Prepare the data for the plot: This step involves loading the data that you want to plot into Python data structures such as \n",
    "lists, NumPy arrays or Pandas dataframes.\n",
    "\n",
    "3.Create a figure object: This step involves creating a figure object using the figure() function. This function allows you to\n",
    "specify the dimensions of the plot, the title, the axis labels, and other plot properties.\n",
    "\n",
    "4.Add glyphs to the plot: This step involves adding glyphs (e.g. circles, lines, rectangles) to the figure object using \n",
    "various glyph methods such as line(), circle(), rect(), and so on. Each glyph method requires x and y coordinates to be \n",
    "specified.\n",
    "\n",
    "5.Add interactive features: This step involves adding interactive features such as hover tooltips, zoom, pan, and other \n",
    "widgets to the plot.\n",
    "\n",
    "6.Save and display the plot: This step involves saving the plot to an HTML file using the output_file() function and \n",
    "displaying the plot in a web browser using the show() function.\n"
   ]
  },
  {
   "cell_type": "code",
   "execution_count": null,
   "id": "6b8dbc8f-cb59-4d86-be4e-c71b9bfa6c81",
   "metadata": {},
   "outputs": [],
   "source": [
    "Q2. What are glyphs in Bokeh, and how can you add them to a Bokeh plot? Explain with an example."
   ]
  },
  {
   "cell_type": "code",
   "execution_count": null,
   "id": "5062f390-2481-4fa0-9b68-0d5ce2ed96f5",
   "metadata": {},
   "outputs": [],
   "source": [
    "In Bokeh, a glyph is a graphical object that represents data points in a plot. Glyphs are used to create scatter plots, line\n",
    "plots, bar charts, and other types of visualizations. Bokeh provides a wide range of glyph methods that can be used to create \n",
    "different types of glyphs, including circles, squares, lines, bars, and more.\n",
    "from bokeh.plotting import figure, output_file, show\n",
    "\n",
    "# Prepare the data\n",
    "x = [1, 2, 3, 4, 5]\n",
    "y = [6, 7, 2, 4, 5]\n",
    "\n",
    "# Create a figure object\n",
    "p = figure(title=\"My Bokeh Plot\", x_axis_label='X-axis', y_axis_label='Y-axis')\n",
    "\n",
    "# Add a circle glyph to the plot\n",
    "p.circle(x=x, y=y, size=10, color='red')\n",
    "\n",
    "# Show the plot\n",
    "show(p)"
   ]
  },
  {
   "cell_type": "code",
   "execution_count": null,
   "id": "b9672aee-a031-4495-8e79-5d1b78c9c2d4",
   "metadata": {},
   "outputs": [],
   "source": [
    "Q3. How can you customize the appearance of a Bokeh plot, including the axes, title, and legend?"
   ]
  },
  {
   "cell_type": "code",
   "execution_count": null,
   "id": "a497863e-8257-4247-9a24-e86603f09294",
   "metadata": {},
   "outputs": [],
   "source": [
    "In Bokeh, you can customize the appearance of a plot by modifying various properties of the plot, including the axes, title, \n",
    "and legend. Here are some examples of how you can customize the appearance of a Bokeh plot:\n",
    "\n",
    "Changing the plot title: You can change the plot title by setting the title property of the figure object. For example, \n",
    "p.title.text = \"My Plot\" will set the plot title to \"My Plot\".\n",
    "\n",
    "Customizing the axes: You can customize the appearance of the x and y axes by modifying various properties of the xaxis and \n",
    "yaxis objects, respectively. For example, p.xaxis.axis_label = \"X-axis\" will set the x-axis label to \"X-axis\". Similarly, you \n",
    "can set the axis limits, tick labels, and other properties of the axes.\n",
    "\n",
    "Adding a legend: You can add a legend to a plot by setting the legend property of the glyph objects. For example, \n",
    "p.circle(x, y, legend_label=\"My Circle\") will add a circle glyph to the plot with the label \"My Circle\" in the legend. You can\n",
    "customize the appearance of the legend by modifying properties of the Legend object, such as the location, font size, and so\n",
    "on.\n"
   ]
  },
  {
   "cell_type": "code",
   "execution_count": null,
   "id": "2a247f90-9a7d-450f-b7e4-6a9cf8db1a72",
   "metadata": {},
   "outputs": [],
   "source": [
    "Q4. What is a Bokeh server, and how can you use it to create interactive plots that can be updated in\n",
    "real time?"
   ]
  },
  {
   "cell_type": "code",
   "execution_count": null,
   "id": "c5348fb0-58aa-443d-91fa-543dc2e3d3cb",
   "metadata": {},
   "outputs": [],
   "source": [
    "Bokeh server is a feature in Bokeh that allows you to create interactive plots that can be updated in real-time. With Bokeh\n",
    "server, you can create web applications that serve Bokeh plots, widgets, and layouts to multiple users.\n",
    "\n",
    "Here are the basic steps to create a Bokeh server application:\n",
    "\n",
    "Define your plot or layout using the Bokeh API, just as you would for a non-server plot.\n",
    "\n",
    "Create a function that defines how the plot or layout should update in response to user input or data changes. This function \n",
    "will be called whenever the plot needs to be updated, such as when the user interacts with a widget.\n",
    "\n",
    "Use the curdoc() function to access the current document, which represents the state of the application. You can add your plot\n",
    "or layout to the document using the add_root() or add_layout() functions.\n",
    "\n",
    "Use the curdoc().add_periodic_callback() function to schedule a periodic callback function that updates the plot or layout at \n",
    "a fixed interval.\n",
    "\n",
    "Run the Bokeh server using the bokeh serve command, passing the name of your Python script as an argument. This will start a \n",
    "web server that serves your application.\n"
   ]
  },
  {
   "cell_type": "code",
   "execution_count": null,
   "id": "c32149cd-3f16-4e50-86c5-5768bda55f6c",
   "metadata": {},
   "outputs": [],
   "source": [
    "Q5. How can you embed a Bokeh plot into a web page or dashboard using Flask or Django?"
   ]
  },
  {
   "cell_type": "code",
   "execution_count": null,
   "id": "80447721-5125-463a-8018-7627f4be3170",
   "metadata": {},
   "outputs": [],
   "source": [
    "Bokeh is a Python library that allows for the creation of interactive visualizations in web browsers. Flask and Django are two\n",
    "popular Python web frameworks that can be used to create web applications. Here are the general steps to embed a Bokeh plot \n",
    "into a web page or dashboard using Flask or Django:\n",
    "\n",
    "@Flask\n",
    "Create a Flask application.\n",
    "Create a Bokeh plot and save it to an HTML file using output_file.\n",
    "In the Flask view function, read the HTML file using file_html and pass it as a string to the template.\n",
    "Render the template in the Flask view function using render_template.\n",
    "\n",
    "@Django \n",
    "Create a Django application.\n",
    "Create a Bokeh plot and save it to an HTML file using output_file.\n",
    "Create a Django view function that reads the HTML file using file_html and passes it as a context variable to the template.\n",
    "Create a Django template that renders the Bokeh plot using the safe filter."
   ]
  },
  {
   "cell_type": "code",
   "execution_count": null,
   "id": "d61c1963-af89-4d61-9d67-91f1e180109a",
   "metadata": {},
   "outputs": [],
   "source": []
  }
 ],
 "metadata": {
  "kernelspec": {
   "display_name": "Python 3 (ipykernel)",
   "language": "python",
   "name": "python3"
  },
  "language_info": {
   "codemirror_mode": {
    "name": "ipython",
    "version": 3
   },
   "file_extension": ".py",
   "mimetype": "text/x-python",
   "name": "python",
   "nbconvert_exporter": "python",
   "pygments_lexer": "ipython3",
   "version": "3.10.8"
  }
 },
 "nbformat": 4,
 "nbformat_minor": 5
}
