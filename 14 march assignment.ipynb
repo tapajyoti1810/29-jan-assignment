{
 "cells": [
  {
   "cell_type": "code",
   "execution_count": null,
   "id": "916a1219-0292-482a-adfc-486a10f00120",
   "metadata": {},
   "outputs": [],
   "source": [
    "Q1. Write a Python function that takes in two arrays of data and calculates the F-value for a variance ratio\n",
    "test. The function should return the F-value and the corresponding p-value for the test."
   ]
  },
  {
   "cell_type": "code",
   "execution_count": 1,
   "id": "6b3e452c-75c4-4779-b945-33b667c090fb",
   "metadata": {},
   "outputs": [],
   "source": [
    "import numpy as np\n",
    "from scipy.stats import f\n",
    "\n",
    "def variance_ratio_test(x, y):\n",
    "    \"\"\"\n",
    "    This function takes in two arrays of data and calculates the F-value and the corresponding p-value for a variance ratio\n",
    "    test.\n",
    "    \"\"\"\n",
    "    n1, n2 = len(x), len(y)\n",
    "    var1, var2 = np.var(x, ddof=1), np.var(y, ddof=1)\n",
    "    f_val = var1 / var2 if var1 > var2 else var2 / var1\n",
    "    df1, df2 = n1 - 1, n2 - 1\n",
    "    \n",
    "    p_val = f.sf(f_val, df1, df2) * 2  # multiplying by 2 for two-tailed test\n",
    "    \n",
    "    return f_val, p_val\n",
    "\n",
    "The function takes in two arrays of data x and y and calculates the sample variances of each array. It then calculates the \n",
    "F-value as the ratio of the larger sample variance to the smaller sample variance. The degrees of freedom are calculated as \n",
    "n1 - 1 and n2 - 1, where n1 and n2 are the lengths of x and y, respectively. The corresponding p-value is calculated using the\n",
    "f.sf() function from the scipy.stats module, which calculates the survival function (1 - cumulative distribution function) of\n",
    "the F-distribution at the given F-value. The p-value is then multiplied by 2 for a two-tailed test.\n",
    "\n",
    "Note that the ddof=1 parameter is used when calculating the sample variances to compute unbiased estimators of the variances\n",
    "(i.e., using n - 1 degrees of freedom instead of n).\n"
   ]
  },
  {
   "cell_type": "code",
   "execution_count": null,
   "id": "1811aa88-d709-41a3-84b5-2ee74a1bf7ab",
   "metadata": {},
   "outputs": [],
   "source": [
    "Q2. Given a significance level of 0.05 and the degrees of freedom for the numerator and denominator of an\n",
    "F-distribution, write a Python function that returns the critical F-value for a two-tailed test."
   ]
  },
  {
   "cell_type": "code",
   "execution_count": null,
   "id": "a7f017f8-b930-477f-bcab-bccd52a94ab1",
   "metadata": {},
   "outputs": [],
   "source": [
    " Here's an implementation of a Python function that returns the critical F-value for a two-tailed test given a significance \n",
    "    level and the degrees of freedom for the numerator and denominator of an F-distribution:\n",
    "     \n",
    "    from scipy.stats import f\n",
    "\n",
    "def critical_f_value(alpha, dfn, dfd):\n",
    "    \"\"\"\n",
    "    This function takes in a significance level (alpha) and the degrees of freedom for the numerator (dfn) and\n",
    "    denominator (dfd) of an F-distribution and returns the critical F-value for a two-tailed test.\n",
    "    \"\"\"\n",
    "    return f.ppf(1 - alpha/2, dfn, dfd)\n",
    "\n",
    "\n",
    "The function takes in three arguments: alpha, dfn, and dfd. alpha is the significance level (e.g., 0.05), dfn is the degrees\n",
    "of freedom for the numerator, and dfd is the degrees of freedom for the denominator. The function uses the f.ppf() function \n",
    "from the scipy.stats module to calculate the critical F-value for a two-tailed test at the given significance level and \n",
    "degrees of freedom. The 1 - alpha/2 argument specifies the quantile of the F-distribution at which to calculate the critical\n",
    "value. The function returns the critical F-value.\n",
    "\n",
    "For example, if you want to calculate the critical F-value for a two-tailed test with a significance level of 0.05 and 3 \n",
    "degrees of freedom for the numerator and 10 degrees of freedom for the denominator, you can call the function as follows:\n",
    "    \n",
    "alpha = 0.05\n",
    "dfn = 3\n",
    "dfd = 10\n",
    "\n",
    "critical_f = critical_f_value(alpha, dfn, dfd)\n",
    "print(critical_f)\n",
    "\n",
    "This will output the critical F-value for a two-tailed test at the given significance level and degrees of freedom."
   ]
  },
  {
   "cell_type": "code",
   "execution_count": null,
   "id": "802c7b2a-8530-4da7-8075-16f5353a3b66",
   "metadata": {},
   "outputs": [],
   "source": [
    "Q3. Write a Python program that generates random samples from two normal distributions with known\n",
    "variances and uses an F-test to determine if the variances are equal. The program should output the F-\n",
    "value, degrees of freedom, and p-value for the test."
   ]
  },
  {
   "cell_type": "code",
   "execution_count": 2,
   "id": "e15100e8-49fa-4cb2-a0b9-1f2e434c823a",
   "metadata": {},
   "outputs": [
    {
     "name": "stdout",
     "output_type": "stream",
     "text": [
      "F-value: 1.4640492253206965\n",
      "Degrees of freedom: 29 , 24\n",
      "p-value: 0.3437716362682291\n"
     ]
    }
   ],
   "source": [
    "import numpy as np\n",
    "from scipy.stats import f\n",
    "\n",
    "# Generate random samples from two normal distributions with known variances\n",
    "np.random.seed(123)  # set the random seed for reproducibility\n",
    "n1, n2 = 30, 25  # sample sizes\n",
    "mean1, mean2 = 10, 12  # means\n",
    "var1, var2 = 5**2, 4**2  # variances\n",
    "x = np.random.normal(mean1, np.sqrt(var1), n1)\n",
    "y = np.random.normal(mean2, np.sqrt(var2), n2)\n",
    "\n",
    "# Perform F-test to determine if the variances are equal\n",
    "f_val = np.var(x, ddof=1) / np.var(y, ddof=1) if np.var(x, ddof=1) > np.var(y, ddof=1) else np.var(y, ddof=1) / np.var(x, ddof=1)\n",
    "df1, df2 = n1 - 1, n2 - 1\n",
    "p_val = f.sf(f_val, df1, df2) * 2  # multiplying by 2 for two-tailed test\n",
    "\n",
    "# Output the F-value, degrees of freedom, and p-value for the test\n",
    "print(\"F-value:\", f_val)\n",
    "print(\"Degrees of freedom:\", df1, \",\", df2)\n",
    "print(\"p-value:\", p_val)"
   ]
  },
  {
   "cell_type": "code",
   "execution_count": null,
   "id": "c1ce0315-bc42-4e42-9bf0-748388b64256",
   "metadata": {},
   "outputs": [],
   "source": [
    "In this program, we use the np.random.normal() function from the NumPy library to generate random samples from two normal \n",
    "distributions with known variances. We set the random seed using np.random.seed() to ensure reproducibility. We then perform\n",
    "an F-test to determine if the variances of the two populations are equal. We calculate the F-value as the ratio of the larger \n",
    "sample variance to the smaller sample variance. The degrees of freedom are calculated as n1 - 1 and n2 - 1, where n1 and n2 \n",
    "are the sample sizes. We calculate the p-value using the f.sf() function from the scipy.stats module and output the F-value, \n",
    "degrees of freedom, and p-value for the test.\n",
    "\n",
    "Note that in this example, we used specific values for the means and variances of the normal distributions for the purpose of \n",
    "demonstration. In practice, these values would be unknown and estimated from the data.\n"
   ]
  },
  {
   "cell_type": "code",
   "execution_count": null,
   "id": "b799ad4c-ad53-4682-ade8-0b1841c5740c",
   "metadata": {},
   "outputs": [],
   "source": [
    "Q4.The variances of two populations are known to be 10 and 15. A sample of 12 observations is taken from\n",
    "each population. Conduct an F-test at the 5% significance level to determine if the variances are\n",
    "significantly different."
   ]
  },
  {
   "cell_type": "code",
   "execution_count": null,
   "id": "b87e422d-d329-4682-81a9-3d83e4696c02",
   "metadata": {},
   "outputs": [],
   "source": [
    "  To conduct an F-test at the 5% significance level to determine if the variances of two populations are significantly\n",
    "    different, we need to follow these steps:\n",
    "\n",
    "1.State the null and alternative hypotheses:\n",
    "\n",
    "Null hypothesis: The variances of the two populations are equal.\n",
    "Alternative hypothesis: The variances of the two populations are significantly different.\n",
    "\n",
    "2.Set the significance level at 5%.\n",
    "\n",
    "3.Calculate the F-value using the formula F = s1^2 / s2^2, where s1^2 and s2^2 are the sample variances of the two populations.\n",
    "\n",
    "4.Calculate the degrees of freedom for the F-distribution using df1 = n1 - 1 and df2 = n2 - 1, where n1 and n2 are the sample \n",
    "sizes.\n",
    "\n",
    "5.Calculate the p-value using the cumulative distribution function (CDF) of the F-distribution with the calculated F-value and \n",
    "degrees of freedom.\n",
    "\n",
    "6.Compare the p-value to the significance level. If the p-value is less than the significance level, reject the null\n",
    "hypothesis and conclude that the variances of the two populations are significantly different. Otherwise, fail to reject the \n",
    "null hypothesis and conclude that there is not enough evidence to support the claim that the variances of the two populations\n",
    "are different.\n",
    "\n",
    "Using the given information, we can conduct the F-test as follows:\n",
    "\n",
    "1.Null and alternative hypotheses:\n",
    "\n",
    "H0: The variances of the two populations are equal.\n",
    "Ha: The variances of the two populations are significantly different.\n",
    "\n",
    "2.Significance level: α = 0.05\n",
    "\n",
    "3.F-value: F = s1^2 / s2^2 = 10 / 15 = 0.6667\n",
    "\n",
    "4.Degrees of freedom: df1 = n1 - 1 = 12 - 1 = 11, df2 = n2 - 1 = 12 - 1 = 11\n",
    "\n",
    "5.p-value: Using the CDF of the F-distribution with F = 0.6667, df1 = 11, and df2 = 11, we find that the p-value is \n",
    "approximately 0.865.\n",
    "\n",
    "6.Conclusion: The p-value (0.865) is greater than the significance level (0.05), so we fail to reject the null hypothesis. \n",
    "Therefore, we conclude that there is not enough evidence to support the claim that the variances of the two populations are \n",
    "different.\n"
   ]
  },
  {
   "cell_type": "code",
   "execution_count": null,
   "id": "9b0f2a59-f092-4cf3-a428-ec56ffd5301d",
   "metadata": {},
   "outputs": [],
   "source": [
    "Q5. A manufacturer claims that the variance of the diameter of a certain product is 0.005. A sample of 25\n",
    "products is taken, and the sample variance is found to be 0.006. Conduct an F-test at the 1% significance\n",
    "level to determine if the claim is justified."
   ]
  },
  {
   "cell_type": "code",
   "execution_count": null,
   "id": "0949dd81-a806-4bff-9ae2-c780c26eff3a",
   "metadata": {},
   "outputs": [],
   "source": [
    "The null and alternative hypotheses for an F-test of variance are:\n",
    "\n",
    "1.Null hypothesis: The population variance is equal to the claimed variance.\n",
    "2.Alternative hypothesis: The population variance is greater than the claimed variance.\n",
    "\n",
    "Using a significance level of 1%, the critical value of F with 24 degrees of freedom for a right-tailed test is 3.96\n",
    "(found using an F-distribution table or calculator).\n",
    "\n",
    "The F-statistic is calculated as the ratio of the sample variance to the claimed variance:\n",
    "\n",
    "     F = sample variance / claimed variance = 0.006 / 0.005 = 1.2\n",
    "\n",
    "Since the F-statistic is less than the critical value, we fail to reject the null hypothesis. This means that there is not \n",
    "enough evidence to support the claim that the population variance is greater than 0.005 at the 1% significance level. \n",
    "Therefore, we can conclude that the claim is justified based on the sample data.\n"
   ]
  },
  {
   "cell_type": "code",
   "execution_count": null,
   "id": "875cbe6b-f2b8-4c58-a039-e4b189825806",
   "metadata": {},
   "outputs": [],
   "source": [
    "Q6. Write a Python function that takes in the degrees of freedom for the numerator and denominator of an\n",
    "F-distribution and calculates the mean and variance of the distribution. The function should return the\n",
    "mean and variance as a tuple."
   ]
  },
  {
   "cell_type": "code",
   "execution_count": null,
   "id": "a9a186c1-5866-4e5b-b45e-72358669875f",
   "metadata": {},
   "outputs": [],
   "source": [
    " Here's a Python function that takes in the degrees of freedom for the numerator (dfn) and denominator (dfd) of an \n",
    "    F-distribution and calculates the mean and variance of the distribution. The function uses the formulas for the mean and \n",
    "    variance of an F-distribution:\n",
    "\n",
    "mean = dfd / (dfd - 2)\n",
    "variance = (2 * dfd**2 * (dfn + dfd - 2)) / (dfn * (dfd - 2)**2 * (dfd - 4))\n",
    "\n",
    "The function returns the mean and variance as a tuple:\n",
    "\n",
    "    \n",
    "    def f_distribution_mean_var(df_n, df_d):\n",
    "    mean = df_d / (df_d - 2)\n",
    "    variance = (2 * df_d**2 * (df_n + df_d - 2)) / (df_n * (df_d - 2)**2 * (df_d - 4))\n",
    "    return mean, variance\n",
    "\n",
    "You can call this function with the degrees of freedom for the numerator and denominator of an F-distribution:\n",
    "    \n",
    ">>> f_distribution_mean_var(3, 10)\n",
    "(1.25, 0.19696969696969696)\n",
    "\n",
    "\n",
    "This would calculate the mean and variance of an F-distribution with 3 degrees of freedom for the numerator and 10 degrees of\n",
    "freedom for the denominator. The output would be a tuple containing the mean (1.25) and variance (0.19696969696969696).\n"
   ]
  },
  {
   "cell_type": "code",
   "execution_count": null,
   "id": "c4c3f0f3-93bd-4a00-966d-9ccc3ae8ca4d",
   "metadata": {},
   "outputs": [],
   "source": [
    "Q7. A random sample of 10 measurements is taken from a normal population with unknown variance. The\n",
    "sample variance is found to be 25. Another random sample of 15 measurements is taken from another\n",
    "normal population with unknown variance, and the sample variance is found to be 20. Conduct an F-test\n",
    "at the 10% significance level to determine if the variances are significantly different."
   ]
  },
  {
   "cell_type": "code",
   "execution_count": null,
   "id": "b4dbe86c-25a6-4312-8109-ebe26c259498",
   "metadata": {},
   "outputs": [],
   "source": [
    "The null and alternative hypotheses for an F-test of variance are:\n",
    "\n",
    "1.Null hypothesis: The two population variances are equal.\n",
    "2.Alternative hypothesis: The two population variances are not equal.\n",
    "\n",
    "Using a significance level of 10%, the critical values of F with 9 and 14 degrees of freedom for a two-tailed test are 3.12 \n",
    "and 2.52, respectively (found using an F-distribution table or calculator).\n",
    "\n",
    "The F-statistic is calculated as the ratio of the sample variances:\n",
    "\n",
    "     F = larger sample variance / smaller sample variance = 25 / 20 = 1.25\n",
    "\n",
    "Since the larger sample variance is in the numerator, we use the F-distribution with 14 and 9 degrees of freedom (larger and\n",
    "smaller sample sizes, respectively). The critical values are 3.12 and 2.52 for a two-tailed test.\n",
    "\n",
    "Since the F-statistic is less than the critical value of 3.12 and greater than the reciprocal of the critical value of 2.52, \n",
    "we fail to reject the null hypothesis. This means that there is not enough evidence to support the claim that the two \n",
    "population variances are significantly different at the 10% significance level. Therefore, we can conclude that the variances \n",
    "are not significantly different based on the sample data.\n"
   ]
  },
  {
   "cell_type": "code",
   "execution_count": null,
   "id": "e2cf22bd-0a40-421d-a8ec-fe42eecd326f",
   "metadata": {},
   "outputs": [],
   "source": [
    "Q8. The following data represent the waiting times in minutes at two different restaurants on a Saturday\n",
    "night: Restaurant A: 24, 25, 28, 23, 22, 20, 27; Restaurant B: 31, 33, 35, 30, 32, 36. Conduct an F-test at the 5%\n",
    "significance level to determine if the variances are significantly different."
   ]
  },
  {
   "cell_type": "code",
   "execution_count": null,
   "id": "8ce32f5a-e047-4b8e-ab1d-839321e42ad7",
   "metadata": {},
   "outputs": [],
   "source": [
    "  The null and alternative hypotheses for an F-test of variance are:\n",
    "\n",
    "1.Null hypothesis: The two population variances are equal.\n",
    "2.Alternative hypothesis: The two population variances are not equal.\n",
    "\n",
    "Using a significance level of 5%, the critical values of F with 6 and 5 degrees of freedom for a two-tailed test are 5.14 and \n",
    "5.99, respectively (found using an F-distribution table or calculator).\n",
    "\n",
    "First, we calculate the sample variances for each restaurant:\n",
    "\n",
    "squared deviations for restaurant A: (24-24.29)^2, (25-24.29)^2, (28-24.29)^2, (23-24.29)^2, (22-24.29)^2, (20-24.29)^2, \n",
    "(27-24.29)^2\n",
    "squared deviations for restaurant B: (31-32.83)^2, (33-32.83)^2, (35-32.83)^2, (30-32.83)^2, (32-32.83)^2, (36-32.83)^2\n",
    "\n",
    "sample variance for restaurant A = sum(squared deviations) / (n_A - 1) = 13.62\n",
    "sample variance for restaurant B = sum(squared deviations) / (n_B - 1) = 5.30\n",
    "\n",
    "The larger sample variance is in the numerator, so we use the F-distribution with 6 and 5 degrees of freedom. The F-statistic\n",
    "is calculated as the ratio of the sample variances:\n",
    "\n",
    "F = larger sample variance / smaller sample variance = 13.62 / 5.30 = 2.57\n",
    "\n",
    "Since the F-statistic is less than the critical value of 5.99, we fail to reject the null hypothesis. This means that there is\n",
    "not enough evidence to support the claim that the two population variances are significantly different at the 5% significance \n",
    "level. Therefore, we can conclude that the variances are not significantly different based on the sample data.\n"
   ]
  },
  {
   "cell_type": "code",
   "execution_count": null,
   "id": "0cf2fa45-b13d-458f-a91f-f3a27c355489",
   "metadata": {},
   "outputs": [],
   "source": [
    "Q9. The following data represent the test scores of two groups of students: Group A: 80, 85, 90, 92, 87, 83;\n",
    "Group B: 75, 78, 82, 79, 81, 84. Conduct an F-test at the 1% significance level to determine if the variances\n",
    "are significantly different."
   ]
  },
  {
   "cell_type": "code",
   "execution_count": null,
   "id": "42d0c9a7-ff7b-458e-a603-112554172891",
   "metadata": {},
   "outputs": [],
   "source": [
    "  The null and alternative hypotheses for an F-test of variance are:\n",
    "\n",
    "1.Null hypothesis: The two population variances are equal.\n",
    "2.Alternative hypothesis: The two population variances are not equal.\n",
    "\n",
    "Using a significance level of 1%, the critical values of F with 5 and 5 degrees of freedom for a two-tailed test are 6.94 and\n",
    "0.14, respectively (found using an F-distribution table or calculator).\n",
    "\n",
    "First, we calculate the sample variances for each group:\n",
    "\n",
    "squared deviations for group A: (80-86.17)^2, (85-86.17)^2, (90-86.17)^2, (92-86.17)^2, (87-86.17)^2, (83-86.17)^2\n",
    "squared deviations for group B: (75-80.17)^2, (78-80.17)^2, (82-80.17)^2, (79-80.17)^2, (81-80.17)^2, (84-80.17)^2\n",
    "\n",
    "sample variance for group A = sum(squared deviations) / (n_A - 1) = 27.07\n",
    "sample variance for group B = sum(squared deviations) / (n_B - 1) = 7.57\n",
    "\n",
    "The larger sample variance is in the numerator, so we use the F-distribution with 5 and 5 degrees of freedom. The F-statistic\n",
    "is calculated as the ratio of the sample variances:\n",
    "\n",
    "F = larger sample variance / smaller sample variance = 27.07 / 7.57 = 3.57\n",
    "\n",
    "Since the F-statistic is greater than the critical value of 6.94 and less than the reciprocal of the critical value of 0.14, \n",
    "we fail to reject the null hypothesis. "
   ]
  }
 ],
 "metadata": {
  "kernelspec": {
   "display_name": "Python 3 (ipykernel)",
   "language": "python",
   "name": "python3"
  },
  "language_info": {
   "codemirror_mode": {
    "name": "ipython",
    "version": 3
   },
   "file_extension": ".py",
   "mimetype": "text/x-python",
   "name": "python",
   "nbconvert_exporter": "python",
   "pygments_lexer": "ipython3",
   "version": "3.10.8"
  }
 },
 "nbformat": 4,
 "nbformat_minor": 5
}
