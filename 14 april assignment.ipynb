{
 "cells": [
  {
   "cell_type": "code",
   "execution_count": null,
   "id": "ef0d74be-7405-4f8b-aa65-31cfd4b34303",
   "metadata": {},
   "outputs": [],
   "source": [
    "Build a random forest classifier to predict the risk of heart disease based on a dataset of patient\n",
    "information. The dataset contains 303 instances with 14 features, including age, sex, chest pain type,\n",
    "resting blood pressure, serum cholesterol, and maximum heart rate achieved."
   ]
  },
  {
   "cell_type": "code",
   "execution_count": null,
   "id": "349fc609-8e2a-4328-b6bf-a0b06e85bea7",
   "metadata": {},
   "outputs": [],
   "source": [
    "##importing necessary libraries\n",
    "import pandas as pd\n",
    "import numpy as np\n",
    "from sklearn.metrics import accuracy_score\n",
    "from sklearn.model_selection import train_test_split\n",
    "from sklearn.pipeline import Pipeline\n",
    "from sklearn.impute import SimpleImputer##handle missing values\n",
    "from sklearn.preprocessing import StandardScaler##feature sclaing\n",
    "from sklearn.preprocessing import OneHotEncoder##categorical to numerical \n",
    "from sklearn.compose import ColumnTransformer\n",
    "from sklearn.ensemble import RandomForestClassifier\n",
    "from sklearn.linear_model import LogisticRegression \n",
    "from sklearn.tree import DecisionTreeClassifier\n",
    "from sklearn.model_selection import RandomizedSearchCV\n",
    "##retrieving the dataset\\\n",
    "df=pd.read_csv('dataset.csv')\n",
    "df.head()\n",
    "##dividing our datset into dependent and independent features\n",
    "X=df.iloc[:,:-1]\n",
    "y=df['target']\n",
    "##trainimng the model\n",
    "X_train,X_test,y_train,y_test=train_test_split(X,y,test_size=0.20,random_state=42)\n",
    "##feature Engineering automation\n",
    "num_pipeline=Pipeline(steps=[('imputer',SimpleImputer(strategy='median')),##handling missing values\n",
    "                            ('scaler',StandardScaler())##feature scaling\n",
    "                            ])\n",
    "X_train=num_pipeline.fit_transform(X_train)\n",
    "X_test=num_pipeline.transform(X_test)\n",
    "##Model Training Automation\n",
    "models={'Random Forest': RandomForestClassifier(),\n",
    "        'Logistic Regression': LogisticRegression(),\n",
    "        'Decision Tree': DecisionTreeClassifier()\n",
    "       \n",
    "       }\n",
    "def evaluate_models(X_train,X_test,y_train,y_test,models):\n",
    "    report={}\n",
    "    for i in range(len(models)):\n",
    "        model=list(models.values())[i]\n",
    "        ##train model\n",
    "        model.fit(X_train,y_train)\n",
    "        ##predict testing data\n",
    "        y_test_pred=model.predict(X_test)\n",
    "        ##accuracy score\n",
    "        test_model_score=accuracy_score(y_test,y_test_pred)\n",
    "        report[list(models.keys())[i]]=test_model_score\n",
    "        return report\n",
    "print(evaluate_models(X_train,X_test,y_train,y_test,models))\n",
    "classifier=RandomForestClassifier()\n",
    "##hyperparameter tuning\n",
    "params={'max_depth':[3,5,10,None],\n",
    "       'n_estimators':[100,200,300],\n",
    "       'criterion':['gini','entropy']}\n",
    "cv=RandomizedSearchCV(classifier,param_distributions=params,scoring='accuracy',cv=5,verbose=3)\n",
    "cv.fit(X_train,y_train)\n",
    "print('best parameters for model are:',cv.best_params_)\n",
    "##tuning our model as best_prams\n",
    "params1={'max_depth':[10],\n",
    "       'n_estimators':[100],\n",
    "       'criterion':['gini']}\n",
    "cv=RandomizedSearchCV(classifier,param_distributions=params,scoring='accuracy',cv=5,verbose=3)\n",
    "cv.fit(X_train,y_train)\n",
    "y_test_pred=model.predict(X_test)\n",
    "test_model_score=accuracy_score(y_test,y_test_pred)"
   ]
  }
 ],
 "metadata": {
  "kernelspec": {
   "display_name": "Python 3 (ipykernel)",
   "language": "python",
   "name": "python3"
  },
  "language_info": {
   "codemirror_mode": {
    "name": "ipython",
    "version": 3
   },
   "file_extension": ".py",
   "mimetype": "text/x-python",
   "name": "python",
   "nbconvert_exporter": "python",
   "pygments_lexer": "ipython3",
   "version": "3.10.8"
  }
 },
 "nbformat": 4,
 "nbformat_minor": 5
}
