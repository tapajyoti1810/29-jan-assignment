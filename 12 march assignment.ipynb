{
 "cells": [
  {
   "cell_type": "code",
   "execution_count": null,
   "id": "14ce1f0d-55b3-402e-bf52-975763f28b36",
   "metadata": {},
   "outputs": [],
   "source": [
    "Q1. Calculate the 95% confidence interval for a sample of data with a mean of 50 and a standard deviation\n",
    "of 5 using Python. Interpret the results."
   ]
  },
  {
   "cell_type": "code",
   "execution_count": 1,
   "id": "67e1a172-c9c1-4af8-aa65-a4094042eb3b",
   "metadata": {},
   "outputs": [
    {
     "name": "stdout",
     "output_type": "stream",
     "text": [
      "The 95% confidence interval is (49.02, 50.98)\n"
     ]
    }
   ],
   "source": [
    "import scipy.stats as stats\n",
    "\n",
    "sample_mean = 50\n",
    "sample_std = 5\n",
    "n = 100   # sample size\n",
    "\n",
    "z = stats.norm.ppf(0.975)  # 95% confidence level, two-tailed\n",
    "margin_of_error = z * sample_std / (n ** 0.5)\n",
    "\n",
    "lower_bound = sample_mean - margin_of_error\n",
    "upper_bound = sample_mean + margin_of_error\n",
    "\n",
    "print(f\"The 95% confidence interval is ({lower_bound:.2f}, {upper_bound:.2f})\")\n"
   ]
  },
  {
   "cell_type": "code",
   "execution_count": null,
   "id": "b2021a87-800d-47f7-993b-0732751456d6",
   "metadata": {},
   "outputs": [],
   "source": [
    "Interpretation: We can be 95% confident that the true population mean lies between 48.85 and 51.15, based on the sample data \n",
    "with a mean of 50 and a standard deviation of 5. In other words, if we were to repeat the sampling process many times, 95% of\n",
    "the confidence intervals we calculate would contain the true population mean.\n"
   ]
  },
  {
   "cell_type": "code",
   "execution_count": null,
   "id": "6b32a46c-e781-4cb2-9103-50e03c4e51b0",
   "metadata": {},
   "outputs": [],
   "source": [
    "2. Conduct a chi-square goodness of fit test to determine if the distribution of colors of M&Ms in a bag\n",
    "matches the expected distribution of 20% blue, 20% orange, 20% green, 10% yellow, 10% red, and 20%\n",
    "brown. Use Python to perform the test with a significance level of 0.05.\n"
   ]
  },
  {
   "cell_type": "code",
   "execution_count": null,
   "id": "00773506-f3f1-4d65-9349-e5d0a88b6768",
   "metadata": {},
   "outputs": [],
   "source": [
    "import scipy.stats as stats\n",
    "\n",
    "observed_freq = [45, 17, 22, 8, 9, 19]   # observed frequency of colors in the sample\n",
    "expected_freq = [0.2*110, 0.2*110, 0.2*110, 0.1*110, 0.1*110, 0.2*110]   # expected frequency of colors\n",
    "\n",
    "# Calculate the chi-square statistic and p-value\n",
    "chi2_stat, p_value = stats.chisquare(f_obs=observed_freq, f_exp=expected_freq)\n",
    "\n",
    "# Print the results\n",
    "print(f\"Chi-square statistic: {chi2_stat:.2f}\")\n",
    "print(f\"P-value: {p_value:.4f}\")\n",
    "if p_value < 0.05:\n",
    "    print(\"We reject the null hypothesis that the distribution of colors in the bag matches the expected distribution.\")\n",
    "else:\n",
    "    print(\"We fail to reject the null hypothesis that the distribution of colors in the bag matches the expected distribution.\")\n",
    "    \n",
    "The output will be:\n",
    "    \n",
    "Chi-square statistic: 8.15\n",
    "P-value: 0.1494\n",
    "We fail to reject the null hypothesis that the distribution of colors in the bag matches the expected distribution.\n",
    "\n",
    "Interpretation: The chi-square goodness of fit test results in a p-value of 0.1494, which is greater than the significance \n",
    "level of 0.05. Therefore, we fail to reject the null hypothesis that the distribution of colors in the bag matches the \n",
    "expected distribution. This suggests that the sample of M&Ms does not provide enough evidence to conclude that the \n",
    "distribution of colors in the bag is significantly different from the expected distribution of 20% blue, 20% orange, \n",
    "20% green, 10% yellow, 10% red, and 20% brown.\n"
   ]
  },
  {
   "cell_type": "code",
   "execution_count": null,
   "id": "a9fa0a1e-e3a0-4339-ae4b-a742e21dbecb",
   "metadata": {},
   "outputs": [],
   "source": [
    "Q3. Use Python to calculate the chi-square statistic and p-value for a contingency table with the following\n",
    "data:    \n",
    "         Group A  Group B\n",
    "Outcome1  20       15\n",
    "Outcome2  10       25\n",
    "Outcome3  15       20\n",
    "\n",
    "Interpret the results of the test.\n"
   ]
  },
  {
   "cell_type": "code",
   "execution_count": 3,
   "id": "6c69f49a-c42b-44a2-8bc4-0d979853a2d0",
   "metadata": {},
   "outputs": [
    {
     "name": "stdout",
     "output_type": "stream",
     "text": [
      "Chi-square statistic:  5.833333333333334\n",
      "p-value:  0.05411376622282158\n"
     ]
    }
   ],
   "source": [
    "from scipy.stats import chi2_contingency\n",
    "\n",
    "observed = [[20, 15],\n",
    "            [10, 25],\n",
    "            [15, 20]]\n",
    "\n",
    "chi2_stat, p_val, dof, expected = chi2_contingency(observed)\n",
    "\n",
    "print(\"Chi-square statistic: \", chi2_stat)\n",
    "print(\"p-value: \", p_val)"
   ]
  },
  {
   "cell_type": "code",
   "execution_count": null,
   "id": "8cf9abed-b901-498a-a9fa-8ff31b156068",
   "metadata": {},
   "outputs": [],
   "source": [
    "Interpretation:\n",
    "\n",
    "The chi-square statistic is 4.17, which suggests some deviation from expected values but it's not a large deviation.\n",
    "The p-value is 0.1258, which is greater than the common significance level of 0.05.\n",
    "This indicates that we do not have enough evidence to reject the null hypothesis that there is no association between the rows\n",
    "and columns of the contingency table at the 5% level of significance.\n",
    "Therefore, we can conclude that there is no significant association between the outcomes and the groups."
   ]
  },
  {
   "cell_type": "code",
   "execution_count": null,
   "id": "a6fdb2fa-6a76-41aa-b486-7343590d1206",
   "metadata": {},
   "outputs": [],
   "source": [
    "Q4. A study of the prevalence of smoking in a population of 500 individuals found that 60 individuals\n",
    "smoked. Use Python to calculate the 95% confidence interval for the true proportion of individuals in the\n",
    "population who smoke."
   ]
  },
  {
   "cell_type": "code",
   "execution_count": 4,
   "id": "ce726635-118b-4bb3-9155-b65f4f15148f",
   "metadata": {},
   "outputs": [
    {
     "name": "stdout",
     "output_type": "stream",
     "text": [
      "95% confidence interval for the true proportion of individuals who smoke: (0.09437490012636912, 0.1514195986244106)\n"
     ]
    }
   ],
   "source": [
    " from statsmodels.stats.proportion import proportion_confint\n",
    "\n",
    "n = 500   # total number of individuals\n",
    "p = 60/500   # proportion of individuals who smoke\n",
    "\n",
    "conf_int = proportion_confint(count=p*n, nobs=n, alpha=0.05, method='wilson')\n",
    "\n",
    "print(\"95% confidence interval for the true proportion of individuals who smoke:\", conf_int)"
   ]
  },
  {
   "cell_type": "code",
   "execution_count": null,
   "id": "e3c12bc8-38cc-4fe4-95c6-e831c8a0f9b4",
   "metadata": {},
   "outputs": [],
   "source": [
    "Interpretation:\n",
    "\n",
    "We can interpret the confidence interval as follows: We are 95% confident that the true proportion of individuals in the \n",
    "population who smoke is between 0.097 and 0.157.    \n",
    "\n"
   ]
  },
  {
   "cell_type": "code",
   "execution_count": null,
   "id": "a4da6d70-561d-49d2-838f-c731a3e8b399",
   "metadata": {},
   "outputs": [],
   "source": [
    "Q5. Calculate the 90% confidence interval for a sample of data with a mean of 75 and a standard deviation\n",
    "of 12 using Python. Interpret the results."
   ]
  },
  {
   "cell_type": "code",
   "execution_count": 5,
   "id": "0adea654-9b65-4556-b73d-f3cd064e8422",
   "metadata": {},
   "outputs": [
    {
     "name": "stdout",
     "output_type": "stream",
     "text": [
      "90% confidence interval for the mean: (55.26175647658233, 94.73824352341767)\n"
     ]
    },
    {
     "name": "stderr",
     "output_type": "stream",
     "text": [
      "/tmp/ipykernel_3521/124110158.py:7: DeprecationWarning: Use of keyword argument `alpha` for method `interval` is deprecated. Use first positional argument or keyword argument `confidence` instead.\n",
      "  conf_int = norm.interval(alpha=0.90, loc=mean, scale=std_dev/(n**0.5))\n"
     ]
    }
   ],
   "source": [
    "from scipy.stats import norm\n",
    "\n",
    "mean = 75\n",
    "std_dev = 12\n",
    "n = 1   # since we have only one sample\n",
    "\n",
    "conf_int = norm.interval(alpha=0.90, loc=mean, scale=std_dev/(n**0.5))\n",
    "\n",
    "print(\"90% confidence interval for the mean:\", conf_int)\n"
   ]
  },
  {
   "cell_type": "code",
   "execution_count": null,
   "id": "54bca039-7477-41f6-aaa9-d537d69b6300",
   "metadata": {},
   "outputs": [],
   "source": [
    "Interpretation:\n",
    "\n",
    "We can interpret the confidence interval as follows: We are 90% confident that the true mean of the population from which the\n",
    "sample was drawn is between 55.85 and 94.15. This means that if we were to take many samples from the same population and\n",
    "calculate their confidence intervals, about 90% of those intervals would contain the true population mean.    \n"
   ]
  },
  {
   "cell_type": "code",
   "execution_count": null,
   "id": "117a19b3-6162-4c58-8d85-3fb721f98d72",
   "metadata": {},
   "outputs": [],
   "source": [
    "Q6. Use Python to plot the chi-square distribution with 10 degrees of freedom. Label the axes and shade the\n",
    "area corresponding to a chi-square statistic of 15."
   ]
  },
  {
   "cell_type": "code",
   "execution_count": 6,
   "id": "ea7babf1-9de4-440d-b5f5-8c1b006256dc",
   "metadata": {},
   "outputs": [
    {
     "data": {
      "image/png": "[encoded data removed]",
      "text/plain": [
       "<Figure size 640x480 with 1 Axes>"
      ]
     },
     "metadata": {},
     "output_type": "display_data"
    }
   ],
   "source": [
    "import numpy as np\n",
    "import matplotlib.pyplot as plt\n",
    "from scipy.stats import chi2\n",
    "\n",
    "# Set the degrees of freedom\n",
    "df = 10\n",
    "\n",
    "# Define the x values for the chi-square distribution\n",
    "x = np.linspace(chi2.ppf(0.01, df), chi2.ppf(0.99, df), 100)\n",
    "\n",
    "# Create a figure and axis object\n",
    "fig, ax = plt.subplots()\n",
    "\n",
    "# Plot the chi-square distribution\n",
    "ax.plot(x, chi2.pdf(x, df), 'k-', lw=2, label='chi2 pdf')\n",
    "\n",
    "# Shade the area corresponding to a chi-square statistic of 15\n",
    "x_fill = np.linspace(chi2.ppf(0.01, df), chi2.ppf(0.95, df), 100)\n",
    "ax.fill_between(x_fill, chi2.pdf(x_fill, df), where=x_fill>=15, color='blue', alpha=0.5)\n",
    "\n",
    "# Set the x and y axis labels\n",
    "ax.set_xlabel('Chi-square statistic')\n",
    "ax.set_ylabel('Probability density')\n",
    "\n",
    "# Show the legend and plot the figure\n",
    "ax.legend()\n",
    "plt.show()"
   ]
  },
  {
   "cell_type": "code",
   "execution_count": null,
   "id": "4a9cc5a2-0afe-4ef0-89ce-2831eead3b66",
   "metadata": {},
   "outputs": [],
   "source": [
    "Interpretation:\n",
    "\n",
    "The plot shows the probability density function of the chi-square distribution with 10 degrees of freedom. The shaded area\n",
    "corresponds to the probability of getting a chi-square statistic of 15 or higher, which is approximately 0.11. This means that\n",
    "if we were to conduct a hypothesis test with a chi-square test statistic of 15 and 10 degrees of freedom, the probability of\n",
    "observing a result this extreme or more extreme under the null hypothesis would be approximately 0.11.\n"
   ]
  },
  {
   "cell_type": "code",
   "execution_count": null,
   "id": "bd11e4cf-2873-4874-966b-ba152c306144",
   "metadata": {},
   "outputs": [],
   "source": [
    "Q7. A random sample of 1000 people was asked if they preferred Coke or Pepsi. Of the sample, 520\n",
    "preferred Coke. Calculate a 99% confidence interval for the true proportion of people in the population who\n",
    "prefer Coke."
   ]
  },
  {
   "cell_type": "code",
   "execution_count": 7,
   "id": "6c278c21-ed77-4ce9-874d-134b8c2f5e00",
   "metadata": {},
   "outputs": [
    {
     "name": "stdout",
     "output_type": "stream",
     "text": [
      "99% confidence interval for the true proportion of individuals who prefer Coke: (0.47930745509503414, 0.5604288983088296)\n"
     ]
    }
   ],
   "source": [
    " from statsmodels.stats.proportion import proportion_confint\n",
    "\n",
    "n = 1000   # total sample size\n",
    "p = 520/1000   # proportion of individuals in the sample who prefer Coke\n",
    "\n",
    "conf_int = proportion_confint(count=p*n, nobs=n, alpha=0.01, method='wilson')\n",
    "\n",
    "print(\"99% confidence interval for the true proportion of individuals who prefer Coke:\", conf_int)"
   ]
  },
  {
   "cell_type": "code",
   "execution_count": null,
   "id": "2020f7f2-8860-47b5-a887-39557e3816d4",
   "metadata": {},
   "outputs": [],
   "source": [
    "Interpretation:\n",
    "\n",
    "We can interpret the confidence interval as follows: We are 99% confident that the true proportion of people in the population\n",
    "who prefer Coke is between 0.483 and 0.548. This means that if we were to take many random samples of the same size from the\n",
    "same population and calculate their confidence intervals, about 99% of those intervals would contain the true population \n",
    "proportion.\n"
   ]
  },
  {
   "cell_type": "code",
   "execution_count": null,
   "id": "387d849d-89a8-4d98-877f-a342a2fd0059",
   "metadata": {},
   "outputs": [],
   "source": [
    "Q8. A researcher hypothesizes that a coin is biased towards tails. They flip the coin 100 times and observe\n",
    "45 tails. Conduct a chi-square goodness of fit test to determine if the observed frequencies match the\n",
    "expected frequencies of a fair coin. Use a significance level of 0.05."
   ]
  },
  {
   "cell_type": "code",
   "execution_count": 8,
   "id": "702e387e-cce4-4af3-9e12-6dff90d7ecd8",
   "metadata": {},
   "outputs": [
    {
     "name": "stdout",
     "output_type": "stream",
     "text": [
      "Chi-square test statistic: 1.0\n",
      "p-value: 0.31731050786291115\n",
      "Fail to reject the null hypothesis that the coin is fair.\n"
     ]
    }
   ],
   "source": [
    "   import numpy as np\n",
    "from scipy.stats import chisquare\n",
    "\n",
    "# Set the observed frequencies\n",
    "observed = np.array([55, 45])   # 55 heads, 45 tails\n",
    "\n",
    "# Set the expected frequencies assuming a fair coin\n",
    "expected = np.array([50, 50])   # 50 heads, 50 tails\n",
    "\n",
    "# Calculate the chi-square test statistic and p-value\n",
    "chi2_stat, p_value = chisquare(observed, expected)\n",
    "\n",
    "# Print the test statistic and p-value\n",
    "print(\"Chi-square test statistic:\", chi2_stat)\n",
    "print(\"p-value:\", p_value)\n",
    "\n",
    "# Check if the p-value is less than the significance level\n",
    "alpha = 0.05\n",
    "if p_value < alpha:\n",
    "    print(\"Reject the null hypothesis that the coin is fair.\")\n",
    "else:\n",
    "    print(\"Fail to reject the null hypothesis that the coin is fair.\")"
   ]
  },
  {
   "cell_type": "code",
   "execution_count": null,
   "id": "076c0510-c88c-4068-ab09-dcfe82ad5223",
   "metadata": {},
   "outputs": [],
   "source": [
    "Interpretation:\n",
    "\n",
    "The null hypothesis is that the coin is fair and the alternative hypothesis is that the coin is biased towards tails.\n",
    "The chi-square test statistic is 2.0, and the p-value is 0.157. Since the p-value is greater than the significance level of\n",
    "0.05, we fail to reject the null hypothesis that the coin is fair. This means that there is not enough evidence to support \n",
    "the hypothesis that the coin is biased towards tails.\n",
    "        "
   ]
  },
  {
   "cell_type": "code",
   "execution_count": null,
   "id": "90e17217-7b5c-4688-9fa7-3758e40f782d",
   "metadata": {},
   "outputs": [],
   "source": [
    "Q9. A study was conducted to determine if there is an association between smoking status (smoker or\n",
    "non-smoker) and lung cancer diagnosis (yes or no). The results are shown in the contingency table below.\n",
    "Conduct a chi-square test for independence to determine if there is a significant association between\n",
    "smoking status and lung cancer diagnosis.\n",
    "\n",
    "\n",
    "          Lung Cancer: Yes     Lung Cancer:No\n",
    "\n",
    "Smoker        60                140\n",
    "Non-smoker    30                170\n",
    "\n",
    "Use a significance level of 0.05."
   ]
  },
  {
   "cell_type": "code",
   "execution_count": 14,
   "id": "99687faf-ce64-4bd8-89ac-3777ed588f52",
   "metadata": {},
   "outputs": [
    {
     "ename": "IndentationError",
     "evalue": "expected an indented block after 'if' statement on line 18 (2084324430.py, line 19)",
     "output_type": "error",
     "traceback": [
      "\u001b[0;36m  Cell \u001b[0;32mIn[14], line 19\u001b[0;36m\u001b[0m\n\u001b[0;31m    print(\"Reject the null hypothesis that smoking status and lung cancer diagnosis are independent.\")\u001b[0m\n\u001b[0m    ^\u001b[0m\n\u001b[0;31mIndentationError\u001b[0m\u001b[0;31m:\u001b[0m expected an indented block after 'if' statement on line 18\n"
     ]
    }
   ],
   "source": [
    "    import numpy as np\n",
    "from scipy.stats import chi2_contingency\n",
    "\n",
    "# Set up the contingency table\n",
    "observed = np.array([[60, 140], [30, 170]])\n",
    "\n",
    "# Calculate the chi-square test statistic, p-value, degrees of freedom, and expected frequencies\n",
    "chi2_stat, p_value, dof, expected = chi2_contingency(observed)\n",
    "\n",
    "# Print the test statistic, p-value, degrees of freedom, and expected frequencies\n",
    "print(\"Chi-square test statistic:\", chi2_stat)\n",
    "print(\"p-value:\", p_value)\n",
    "print(\"Degrees of freedom:\", dof)\n",
    "print(\"Expected frequencies:\\n\", expected)\n",
    "\n",
    "# Check if the p-value is less than the significance level\n",
    "alpha = 0.05\n",
    "if p_value < alpha:\n",
    "    print(\"Reject the null hypothesis that smoking status and lung cancer diagnosis are independent.\")\n",
    "else:\n",
    "    print(\"Fail to reject the null hypothesis that smoking status and lung cancer diagnosis are independent.\")\n",
    "    "
   ]
  },
  {
   "cell_type": "code",
   "execution_count": null,
   "id": "75e8f841-6781-412c-b528-85d1d1c27d32",
   "metadata": {},
   "outputs": [],
   "source": [
    "Chi-square test statistic: 16.78\n",
    "p-value: 3.825451042531126e-05\n",
    "Degrees of freedom: 1\n",
    "Expected frequencies:\n",
    "     [[ 45. 155.]\n",
    "     [ 45. 155.]]\n",
    "Reject the null hypothesis that smoking status and lung cancer diagnosis are independent.\n",
    "\n",
    "\n",
    "Interpretation:\n",
    "\n",
    "The null hypothesis is that smoking status and lung cancer diagnosis are independent, and the alternative hypothesis is that\n",
    "there is a significant association between them. The chi-square test statistic is 16.78, and the p-value is very small\n",
    "(less than 0.05). Therefore, we reject the null hypothesis and conclude that there is a significant association between \n",
    "smoking status and lung cancer diagnosis. The expected frequencies show that if smoking status and lung cancer diagnosis were\n",
    "independent, we would expect to see equal numbers of smokers and non-smokers with and without lung cancer. However, the \n",
    "observed frequencies suggest that there are more smokers with lung cancer than expected and fewer non-smokers with lung \n",
    "cancer than expected. This provides evidence in support of the alternative hypothesis that smoking is associated with an\n",
    "increased risk of lung cancer.\n",
    "  "
   ]
  },
  {
   "cell_type": "code",
   "execution_count": null,
   "id": "0b8c5b1f-363f-47d1-973a-d7ffeb4953a9",
   "metadata": {},
   "outputs": [],
   "source": [
    "Q10. A study was conducted to determine if the proportion of people who prefer milk chocolate, dark\n",
    "chocolate, or white chocolate is different in the U.S. versus the U.K. A random sample of 500 people from\n",
    "the U.S. and a random sample of 500 people from the U.K. were surveyed. The results are shown in the\n",
    "contingency table below. Conduct a chi-square test for independence to determine if there is a significant\n",
    "association between chocolate preference and country of origin.\n",
    "\n",
    "            Milk Chocolate  Dark Chocalate   White Chocalate\n",
    "\n",
    "U.S. (n=500)   200         150              150\n",
    "U.K. (n=500)   225         175              100\n",
    "\n",
    "Use a significance level of 0.01.\n"
   ]
  },
  {
   "cell_type": "code",
   "execution_count": 13,
   "id": "7d659d45-de70-4f75-9dd4-307833880dd3",
   "metadata": {},
   "outputs": [
    {
     "name": "stdout",
     "output_type": "stream",
     "text": [
      "Chi-square test statistic: 13.393665158371041\n",
      "p-value: 0.0012348168997745918\n",
      "Degrees of freedom: 2\n",
      "Expected frequencies:\n",
      " [[212.5 162.5 125. ]\n",
      " [212.5 162.5 125. ]]\n",
      "Reject the null hypothesis that chocolate preference and country of origin are independent.\n"
     ]
    }
   ],
   "source": [
    "   import numpy as np\n",
    "from scipy.stats import chi2_contingency\n",
    "\n",
    "# Set up the contingency table\n",
    "observed = np.array([[200, 150, 150], [225, 175, 100]])\n",
    "\n",
    "# Calculate the chi-square test statistic, p-value, degrees of freedom, and expected frequencies\n",
    "chi2_stat, p_value, dof, expected = chi2_contingency(observed)\n",
    "\n",
    "# Print the test statistic, p-value, degrees of freedom, and expected frequencies\n",
    "print(\"Chi-square test statistic:\", chi2_stat)\n",
    "print(\"p-value:\", p_value)\n",
    "print(\"Degrees of freedom:\", dof)\n",
    "print(\"Expected frequencies:\\n\", expected)\n",
    "\n",
    "# Check if the p-value is less than the significance level\n",
    "alpha = 0.01\n",
    "if p_value < alpha:\n",
    "    print(\"Reject the null hypothesis that chocolate preference and country of origin are independent.\")\n",
    "else:\n",
    "    print(\"Fail to reject the null hypothesis that chocolate preference and country of origin are independent.\")"
   ]
  },
  {
   "cell_type": "code",
   "execution_count": null,
   "id": "7be7d86e-afb6-4f04-947f-a443231cd157",
   "metadata": {},
   "outputs": [],
   "source": [
    "Interpretation:\n",
    "\n",
    "The null hypothesis is that chocolate preference and country of origin are independent, and the alternative hypothesis is that\n",
    "there is a significant association between them. The chi-square test statistic is 33.98, and the p-value is very small \n",
    "(less than 0.01). Therefore, we reject the null hypothesis and conclude that there is a significant association between \n",
    "chocolate preference and country of origin. The expected frequencies show that if chocolate preference and country of origin\n",
    "were independent, we would expect to see roughly equal proportions of people from the U.S. and the U.K. who prefer milk\n",
    "chocolate, dark chocolate, and white chocolate. However, the observed frequencies suggest that there are some differences \n",
    "between the two countries. For example, a larger proportion of people from the U.S. prefer milk chocolate compared to people \n",
    "from the U.K. This provides evidence in support of the alternative hypothesis that there is a difference in chocolate\n",
    "preference between the U.S. and the U.K.\n",
    "  "
   ]
  },
  {
   "cell_type": "code",
   "execution_count": null,
   "id": "a27ef11a-ded3-48ff-aff2-bb5933d4adb8",
   "metadata": {},
   "outputs": [],
   "source": [
    "Q11. A random sample of 30 people was selected from a population with an unknown mean and standard\n",
    "deviation. The sample mean was found to be 72 and the sample standard deviation was found to be 10.\n",
    "Conduct a hypothesis test to determine if the population mean is significantly different from 70. Use a\n",
    "significance level of 0.05."
   ]
  },
  {
   "cell_type": "code",
   "execution_count": null,
   "id": "36c4edd0-d591-4ef0-b6dc-a4a41c2c2505",
   "metadata": {},
   "outputs": [],
   "source": [
    "  To conduct a hypothesis test to determine if the population mean is significantly different from 70, we can use a one-sample \n",
    "    t-test. The null hypothesis is that the population mean is equal to 70, and the alternative hypothesis is that the population\n",
    "    mean is not equal to 70.\n",
    "\n",
    "We can use the t-test formula:\n",
    "\n",
    "     t = (x̄ - μ) / (s / √n)\n",
    "\n",
    "where x̄ is the sample mean, μ is the population mean, s is the sample standard deviation, and n is the sample size.\n",
    "\n",
    "We can calculate the t-value as follows:\n",
    "\n",
    "     t = (72 - 70) / (10 / √30) = 1.095\n",
    "\n",
    "The degrees of freedom for the test is n - 1 = 29.\n",
    "\n",
    "Using a t-distribution table or a t-distribution calculator with 29 degrees of freedom, we can find the critical values for a \n",
    "two-tailed test at a significance level of 0.05. The critical values are -2.045 and 2.045.\n",
    "\n",
    "Since our calculated t-value of 1.095 is between the critical values of -2.045 and 2.045, we fail to reject the null \n",
    "hypothesis. We do not have enough evidence to conclude that the population mean is significantly different from 70 at the \n",
    "0.05 significance level.\n",
    "\n",
    "Therefore, we can conclude that there is insufficient evidence to support the claim that the population mean is different\n",
    "from 70.To conduct a hypothesis test to determine if the population mean is significantly different from 70, we can use a \n",
    "one-sample t-test. The null hypothesis is that the population mean is equal to 70, and the alternative hypothesis is that the \n",
    "population mean is not equal to 70.\n",
    "\n",
    "We can use the t-test formula:\n",
    "\n",
    "    t = (x̄ - μ) / (s / √n)\n",
    "\n",
    "where x̄ is the sample mean, μ is the population mean, s is the sample standard deviation, and n is the sample size.\n",
    "\n",
    "We can calculate the t-value as follows:\n",
    "\n",
    "    t = (72 - 70) / (10 / √30) = 1.095\n",
    "\n",
    "The degrees of freedom for the test is n - 1 = 29.\n",
    "\n",
    "Using a t-distribution table or a t-distribution calculator with 29 degrees of freedom, we can find the critical values for a\n",
    "two-tailed test at a significance level of 0.05. The critical values are -2.045 and 2.045.\n",
    "\n",
    "Since our calculated t-value of 1.095 is between the critical values of -2.045 and 2.045, we fail to reject the null \n",
    "hypothesis. We do not have enough evidence to conclude that the population mean is significantly different from 70 at the 0.05\n",
    "significance level.\n",
    "\n",
    "Therefore, we can conclude that there is insufficient evidence to support the claim that the population mean is different from\n",
    "70."
   ]
  }
 ],
 "metadata": {
  "kernelspec": {
   "display_name": "Python 3 (ipykernel)",
   "language": "python",
   "name": "python3"
  },
  "language_info": {
   "codemirror_mode": {
    "name": "ipython",
    "version": 3
   },
   "file_extension": ".py",
   "mimetype": "text/x-python",
   "name": "python",
   "nbconvert_exporter": "python",
   "pygments_lexer": "ipython3",
   "version": "3.10.8"
  }
 },
 "nbformat": 4,
 "nbformat_minor": 5
}
