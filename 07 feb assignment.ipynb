{
 "cells": [
  {
   "cell_type": "code",
   "execution_count": null,
   "id": "bb7d91bf-7016-4d4c-88e8-b3da7c4062ce",
   "metadata": {},
   "outputs": [],
   "source": [
    "Q1. You are writing code for a company.The requitement of the company is that you crate a python function that will\n",
    "check whether the password entered by the user is correct or not.The function should take the password as input and\n",
    "return the string\"Valid Password\"if the entered password follows the below-given password guidelines elase it should\n",
    "return \"invalid Password\".\n",
    "\n",
    "Note: 1.The password should contain at least two uppercase letters and at least two lowercase letters.\n",
    "      2.The password should contain at least a number and three special characters.\n",
    "      3.The length of the password should be 10 characters long.\n",
    "        "
   ]
  },
  {
   "cell_type": "code",
   "execution_count": null,
   "id": "27ea103d-d84f-4bdf-a51b-39e6775e971e",
   "metadata": {},
   "outputs": [],
   "source": [
    "def check_password(password):\n",
    "            upper_count = 0\n",
    "            lower_count = 0\n",
    "            digit_count = 0\n",
    "            special_count = 0\n",
    "            special_characters = \"!@#$^&*\"\n",
    "        for i in password:\n",
    "                if i.isupper():\n",
    "                    upper_count += 1\n",
    "                elif i.islower():\n",
    "                    lower_count += 1\n",
    "                elif i.isdigit():\n",
    "                    digit_count += 1\n",
    "                elif i in special_characters:\n",
    "                    special_count += 1\n",
    "                if upper_count >= 2 and lower_count >= 2 and digit_count >= 1 and special_count >= 3 and len(password) == 10:\n",
    "                    print(\"Valid Password\")\n",
    "                else:\n",
    "                    print(\"Invalid Password\")\n",
    "      \n",
    "    "
   ]
  },
  {
   "cell_type": "code",
   "execution_count": null,
   "id": "f04a4129-1576-476c-a3c0-7c9ade19a7ff",
   "metadata": {},
   "outputs": [],
   "source": [
    "Q2. Solve the below-given quenstions using at least one of the following:\n",
    "    1.lambda function\n",
    "    2.Filter function\n",
    "    3.Map function\n",
    "    4.List Comprehension\n",
    "    \n",
    "    \n",
    "    >check if the string starts with a particular letter.\n",
    "    >check if the string is numeric.\n",
    "    >sort a list of tuples having fruit names and their quantity.[(\"mango\",99),(\"orange\",80),(\"grapes\",1000)]\n",
    "    >find the squares of numbers from 1 to 10.\n",
    "    >find the cube root of numbers from 1 to 10.\n",
    "    >check if a given number is even.\n",
    "    >Filter odd numbers from the given list.\n",
    "    [1,2,3,4,5,6,7,8,9,10]\n",
    "    >sort a list of integers into positive and negative integers lists.\n",
    "    [1,2,3,4,5,6,-1,-2,-3,-4,-5,0]"
   ]
  },
  {
   "cell_type": "code",
   "execution_count": null,
   "id": "e3f6921e-ffc3-4660-bb18-2e9189e53fe1",
   "metadata": {},
   "outputs": [],
   "source": [
    "*Check if the string starts with a particular letter."
   ]
  },
  {
   "cell_type": "code",
   "execution_count": 6,
   "id": "8966e927-6c6f-4404-bf78-3b1ca3abb97c",
   "metadata": {},
   "outputs": [
    {
     "name": "stdout",
     "output_type": "stream",
     "text": [
      "[]\n"
     ]
    }
   ],
   "source": [
    "strings=[\"apple\",\"watermelon\",\"banana\"]\n",
    "start_letter=\"a\"\n",
    "def check_letter(strings,start_letter):\n",
    "    return list(filter(lambda x:x[0]==strings,start_letter))\n",
    "print(check_letter(strings,start_letter)) # Output: [\"apple\"]"
   ]
  },
  {
   "cell_type": "code",
   "execution_count": null,
   "id": "8b08b1fe-4724-4a23-8c66-25cb4b05554d",
   "metadata": {},
   "outputs": [],
   "source": [
    "*Check if the string is numeric."
   ]
  },
  {
   "cell_type": "code",
   "execution_count": 8,
   "id": "c6492c9b-6eb5-4b59-87c0-6e0fc52b0984",
   "metadata": {},
   "outputs": [
    {
     "name": "stdout",
     "output_type": "stream",
     "text": [
      "True\n"
     ]
    }
   ],
   "source": [
    "string = \"1234\"\n",
    "is_numeric = lambda x: x.isdigit()\n",
    "print(is_numeric(string))"
   ]
  },
  {
   "cell_type": "code",
   "execution_count": null,
   "id": "417fe327-dc89-4870-a263-3f51cca9c904",
   "metadata": {},
   "outputs": [],
   "source": [
    "* Sort a list of tuples having fruit names and their quantity. [(\"mango\",99),(\"orange\",80), (\"grapes\", 1000)]"
   ]
  },
  {
   "cell_type": "code",
   "execution_count": 9,
   "id": "775e3c15-0274-4c00-a8ec-866ef0d9b390",
   "metadata": {},
   "outputs": [
    {
     "name": "stdout",
     "output_type": "stream",
     "text": [
      "[('orange', 80), ('mango', 99), ('grapes', 1000)]\n"
     ]
    }
   ],
   "source": [
    "l=[(\"mango\",99),(\"orange\",80), (\"grapes\", 1000)]\n",
    "sorted_lst=sorted(l,key=lambda x:x[1])\n",
    "print(sorted_lst)"
   ]
  },
  {
   "cell_type": "code",
   "execution_count": null,
   "id": "71554246-0833-4a82-94c0-8e2874c7b3fd",
   "metadata": {},
   "outputs": [],
   "source": [
    "*Find the squares of numbers from 1 to 10."
   ]
  },
  {
   "cell_type": "code",
   "execution_count": 16,
   "id": "0617f4a2-c936-439b-80b8-7411327b2168",
   "metadata": {},
   "outputs": [
    {
     "name": "stdout",
     "output_type": "stream",
     "text": [
      "[1, 4, 9, 16, 25, 36, 49, 64, 81, 100]\n"
     ]
    }
   ],
   "source": [
    "num=range(1,11)\n",
    "square_num=list(map(lambda x:x**2,num))\n",
    "print(square_num)"
   ]
  },
  {
   "cell_type": "code",
   "execution_count": null,
   "id": "1c00b6db-299d-415c-9354-7e36dc6ffd4c",
   "metadata": {},
   "outputs": [],
   "source": [
    "*Find the cube root of numbers from 1 to 10."
   ]
  },
  {
   "cell_type": "code",
   "execution_count": 18,
   "id": "e2710d64-ae8f-4400-ab1a-f0ad893c125c",
   "metadata": {},
   "outputs": [
    {
     "name": "stdout",
     "output_type": "stream",
     "text": [
      "[1, 8, 27, 64, 125, 216, 343, 512, 729, 1000]\n"
     ]
    }
   ],
   "source": [
    "num=range(1,11)\n",
    "cube_num=list(map(lambda x:x**3,num))\n",
    "print(cube_num)"
   ]
  },
  {
   "cell_type": "code",
   "execution_count": null,
   "id": "5182c722-8b54-4c2f-8f45-8095dd46a6e2",
   "metadata": {},
   "outputs": [],
   "source": [
    "*Check if a given number is even."
   ]
  },
  {
   "cell_type": "code",
   "execution_count": 19,
   "id": "5c44dc84-1907-466e-a1b8-f9aa3beb2d45",
   "metadata": {},
   "outputs": [
    {
     "name": "stdout",
     "output_type": "stream",
     "text": [
      "[False]\n"
     ]
    }
   ],
   "source": [
    "n=[7]      \n",
    "find_even=list(map(lambda x:x%2==0,n))\n",
    "print(find_even)"
   ]
  },
  {
   "cell_type": "code",
   "execution_count": null,
   "id": "98dc7edc-21a1-4749-92ef-31a294b76d54",
   "metadata": {},
   "outputs": [],
   "source": [
    "*Filter odd numbers from the given list.\n",
    "[1,2,3,4,5,6,7,8,9,10]"
   ]
  },
  {
   "cell_type": "code",
   "execution_count": 20,
   "id": "7691303a-c88f-49a0-8a13-4ad9ae55d856",
   "metadata": {},
   "outputs": [
    {
     "name": "stdout",
     "output_type": "stream",
     "text": [
      "[1, 3, 5, 7, 9]\n"
     ]
    }
   ],
   "source": [
    "lst=[1,2,3,4,5,6,7,8,9,10]\n",
    "odd_num=list(filter(lambda x:x%2!=0,lst))\n",
    "print(odd_num)"
   ]
  },
  {
   "cell_type": "code",
   "execution_count": null,
   "id": "c117bd71-8fbd-4046-9121-5ad31bac6bb8",
   "metadata": {},
   "outputs": [],
   "source": [
    "*sort a list of integers into positive and negative integers lists.\n",
    "    [1,2,3,4,5,6,-1,-2,-3,-4,-5,0]"
   ]
  },
  {
   "cell_type": "code",
   "execution_count": 21,
   "id": "72f2bac3-7495-40d5-b60e-8f2516af745d",
   "metadata": {},
   "outputs": [
    {
     "name": "stdout",
     "output_type": "stream",
     "text": [
      "[1, 2, 3, 4, 5, 6]\n",
      "[-1, -2, -3, -4, -5]\n"
     ]
    }
   ],
   "source": [
    "numbers= [1,2,3,4,5,6,-1,-2,-3,-4,-5,0]\n",
    "positive_numbers=list(filter(lambda x:x>0,numbers))\n",
    "print(positive_numbers)\n",
    "negative_numbers=list(filter(lambda x:x<0,numbers))\n",
    "print(negative_numbers)"
   ]
  }
 ],
 "metadata": {
  "kernelspec": {
   "display_name": "Python 3 (ipykernel)",
   "language": "python",
   "name": "python3"
  },
  "language_info": {
   "codemirror_mode": {
    "name": "ipython",
    "version": 3
   },
   "file_extension": ".py",
   "mimetype": "text/x-python",
   "name": "python",
   "nbconvert_exporter": "python",
   "pygments_lexer": "ipython3",
   "version": "3.10.8"
  }
 },
 "nbformat": 4,
 "nbformat_minor": 5
}
