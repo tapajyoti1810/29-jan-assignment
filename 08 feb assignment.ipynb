{
 "cells": [
  {
   "cell_type": "code",
   "execution_count": null,
   "id": "1552c5a4-a57b-4fe9-ae05-ed54e42c4625",
   "metadata": {},
   "outputs": [],
   "source": [
    "Q1. WHAT IS ABSTRACTION IN OOPS? EXPLAIN WITH AN EXAMPLE."
   ]
  },
  {
   "cell_type": "code",
   "execution_count": null,
   "id": "1207b1ba-415d-40a9-b61b-6f54da077ec3",
   "metadata": {},
   "outputs": [],
   "source": [
    " *  Abstraction is a fundamental concept in Object-Oriented Programming(OOP) that refers to the process of hiding complex\n",
    "    implementation details behind a simplified interface.\n",
    "    The idea behind abstraction is to present an object or a system in a way that focuses on what it does,\n",
    "    rather than how it does it.\n",
    "    \n",
    "    for example - Consider a car.The user of a car inly needs to know what it does(i.e ,it is a mean of transportation),\n",
    "    but not how it does it(i.e,the inrnal mechanics ,such as the engine,gears, and wheels)\n",
    "    The car;s abstract interface provides the necessary functions for the user to operate it(e.g.\n",
    "    start the engine,change gears,accelerate, and brake),without exposing its complex inner workings.\n",
    "    \n"
   ]
  },
  {
   "cell_type": "code",
   "execution_count": null,
   "id": "819b5e37-c25b-45e8-ab26-93c643b106e0",
   "metadata": {},
   "outputs": [],
   "source": [
    "Q2. DIFFERENTIATE BETWEEN ABSTRACTION AND ENCAPSULATION.EXPLAIN WITH AN EXAMPLE."
   ]
  },
  {
   "cell_type": "code",
   "execution_count": null,
   "id": "bc99bdaa-d3ad-48cb-aa29-42685e0353cd",
   "metadata": {},
   "outputs": [],
   "source": [
    "* Abstraction is the process of hiding the implementation details of an object or system and presenting it to the user\n",
    " in a simplified way.It focuses on what the object or system does,rather than how it does it. Abstraction a achieved \n",
    "   in OOP by using abstract classes and interfaces.\n",
    "\n",
    "*Encapsulation on the other hand,is the process of wrapping data and behaviour within a single unit(i.e-an object) and \n",
    "hiding it from the outside world.The idea behind encapsulation is to create a secure container for the data and behaviour\n",
    "so that the object's internal state can be protected from unauthorized access and modification.\n",
    "\n",
    "For example-  Car\n",
    "     Abstraction-Presenting the car to the user in a simplified way,such as a means of transportation.The user does\n",
    "    not need to know how the car works,just what it does.\n",
    "      Encapsulation is achieved by wrapping the internal mechanics of the car within iths physical structures.,\n",
    "        so that the user does not have direct access to the  engine,gears, and wheels.\n",
    "\n",
    "     In conclusion,abstraction focuses on what an object or system does,while encapsulaton focuses on how it is\n",
    "    implemented and protected."
   ]
  },
  {
   "cell_type": "code",
   "execution_count": null,
   "id": "50e19be8-e56b-467f-a7b3-7d6bb0de5243",
   "metadata": {},
   "outputs": [],
   "source": [
    "Q3. WHAT IS abc MODULE IN PYTHON? WHY IS IT USED?"
   ]
  },
  {
   "cell_type": "code",
   "execution_count": null,
   "id": "50232da6-6077-406b-8c0d-d82de183294f",
   "metadata": {},
   "outputs": [],
   "source": [
    "It Is \"Abstract Base Classes\" It provides a way to define abstract classes in python, which are classes that cannot be\n",
    " instantiated on their own, but only serve as a base for other classes.\n",
    "\n",
    "    classes that enforce certain\n",
    "    \"abc\" module is used to define abstract classes in python\n",
    "    Python does not have native support for abstract classes.\n",
    "    We can define classes that enforce certain methods to be implemented by any  concrete class that extends the abstract\n",
    "   class.This helps to ensure that all subclasses of the abstract class have a consistent interface,which makes it\n",
    "  easier to write code that can work with objects of different types."
   ]
  },
  {
   "cell_type": "code",
   "execution_count": null,
   "id": "cdb626b7-e96a-41fd-acba-9b5c647f1464",
   "metadata": {},
   "outputs": [],
   "source": [
    "Q4. HOW CAN WE ACHIEVEDATA ABSTRACTION?"
   ]
  },
  {
   "cell_type": "code",
   "execution_count": null,
   "id": "4b57880d-45b3-4fe1-a1d2-f4feec11b317",
   "metadata": {},
   "outputs": [],
   "source": [
    " Data abstraction is technique used the implementation details of an object or system, and present only the necessary \n",
    "    information to the user.In Object-Oriented Programming(OOP).\n",
    "\n",
    " 1.Encapsulation - This is the process of wrapping data and behiviour within a single unit(i.e- an object) and hiding \n",
    " it from the outside world.The object's internal state can be protected from unauthorized aceess and modification\n",
    " by using access modifiers,such as \"private\" and \"protected\".\n",
    "\n",
    " 2.Abstraction - This is the process of presenting an object or system in a way that focuses on what it does, rather \n",
    "    than how it does it.\n",
    " Abstraction is achieved in OOP by using abstract classes and interfaces, which define the methods that an object\n",
    " must implement , but do not provide any implementation.\n",
    "\n",
    " 3.Inheritance - This is the mechanism  by which a new class can be derived from an existing class, inheriting its \n",
    " attributes and behaviour.The derived class can override or extend the behaviour of the base class as needed.\n",
    "\n",
    " By using these concepts, we can create classes that define a common interface hide  for related objects, and hide \n",
    " the implementation details of the object behind that interface.This allows us to write code that can work with objects\n",
    " of different types,without having to know the specifies of how each object is implemented.The result is code that \n",
    " is easier to maintain and modify as the implementation details of the objects can change without affecting the code \n",
    " that uses the objects."
   ]
  },
  {
   "cell_type": "code",
   "execution_count": null,
   "id": "0b22da2c-42b4-46ae-9ff2-0d629170dfe1",
   "metadata": {},
   "outputs": [],
   "source": [
    "Q5.CAN WE CREATE AN INSTANCE OF AN ABSTRACT CLASS? EXPLAIN YOUR ANSWER."
   ]
  },
  {
   "cell_type": "code",
   "execution_count": null,
   "id": "e82972fd-9dc9-4770-b48d-883d43965813",
   "metadata": {},
   "outputs": [],
   "source": [
    " No.You cannot create an instance of an abstract class in most programming languages,including python.\n",
    "    An abstract class in meant to be a blueprint for other classes,but it cannot be instatiated on its own.\n",
    "    The ourpose of an abstract class is to define a common interface for a group of related classes,but not to be used as\n",
    "    an object in its own right.\n",
    "    \n",
    "    for example -\n",
    "                Consider an abstract class 'shape' that defines a common interface for all shapes in a @D space.\n",
    "        The \"shape' class might have an abstract method 'area()' that calculates the area of a shape,but it wouldn't \n",
    "        make sense to create shape.\n",
    "        subclasses of the 'shape' class such as 'circle' and 'rectangle', that implement the 'area' method and can be\n",
    "        instantiated as objects.\n",
    "        \n",
    "        In summary, an abstract class is tool for craeting a common interface for a group related classes, but it \n",
    "        cannot be instantiated as an object in its own right.\n",
    "        To use an abstract class, you must create a concrete sub class that implements the abstract methods defined \n",
    "        in the base class."
   ]
  }
 ],
 "metadata": {
  "kernelspec": {
   "display_name": "Python 3 (ipykernel)",
   "language": "python",
   "name": "python3"
  },
  "language_info": {
   "codemirror_mode": {
    "name": "ipython",
    "version": 3
   },
   "file_extension": ".py",
   "mimetype": "text/x-python",
   "name": "python",
   "nbconvert_exporter": "python",
   "pygments_lexer": "ipython3",
   "version": "3.10.8"
  }
 },
 "nbformat": 4,
 "nbformat_minor": 5
}
