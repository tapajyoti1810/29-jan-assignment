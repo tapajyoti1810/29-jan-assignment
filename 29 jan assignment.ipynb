{
 "cells": [
  {
   "cell_type": "code",
   "execution_count": null,
   "id": "02bf6403-d5e9-4354-910f-06f862aa662a",
   "metadata": {},
   "outputs": [],
   "source": [
    "1. Guido van Rossum"
   ]
  },
  {
   "cell_type": "code",
   "execution_count": null,
   "id": "6dcf6bd1-61c4-49b0-99f7-b0097d0db478",
   "metadata": {},
   "outputs": [],
   "source": [
    "2. Python supports structured, object-oriented, and functional programming"
   ]
  },
  {
   "cell_type": "code",
   "execution_count": null,
   "id": "a14f5e11-f6ff-403e-9373-9500bff1b85d",
   "metadata": {},
   "outputs": [],
   "source": [
    "3. yes"
   ]
  },
  {
   "cell_type": "code",
   "execution_count": null,
   "id": "e7abc613-5765-49b7-8d4d-839a586d63ca",
   "metadata": {},
   "outputs": [],
   "source": [
    "4. .py\n"
   ]
  },
  {
   "cell_type": "code",
   "execution_count": null,
   "id": "4f109081-1a29-4e1a-be43-f9920a0f14cf",
   "metadata": {},
   "outputs": [],
   "source": [
    "5. Python is an interpreted language"
   ]
  },
  {
   "cell_type": "code",
   "execution_count": null,
   "id": "18175795-1d48-4df0-8750-fe06401cb703",
   "metadata": {},
   "outputs": [],
   "source": [
    "6.  a module, a function body, and a class definition"
   ]
  },
  {
   "cell_type": "code",
   "execution_count": null,
   "id": "1d015be4-a8da-40be-aca3-bfc10a04d13a",
   "metadata": {},
   "outputs": [],
   "source": [
    "7. Hash character(#)"
   ]
  },
  {
   "cell_type": "code",
   "execution_count": null,
   "id": "f5bbe957-dfd1-4b7a-9883-12f11c12b467",
   "metadata": {},
   "outputs": [],
   "source": [
    "8. sys.version"
   ]
  },
  {
   "cell_type": "code",
   "execution_count": null,
   "id": "fa3cb60d-785c-43e9-9bc6-6db48a556626",
   "metadata": {},
   "outputs": [],
   "source": [
    "9.  \"lambda\""
   ]
  },
  {
   "cell_type": "code",
   "execution_count": null,
   "id": "026be4aa-2c30-4548-958d-1535e3cc9eda",
   "metadata": {},
   "outputs": [],
   "source": [
    "10. installer program"
   ]
  },
  {
   "cell_type": "code",
   "execution_count": null,
   "id": "957cde91-5797-470f-9eb6-7a2035951323",
   "metadata": {},
   "outputs": [],
   "source": [
    "11. int() , float(),bool(),complex(),input(),print(),str(),range()"
   ]
  },
  {
   "cell_type": "code",
   "execution_count": null,
   "id": "e8dacda6-067c-4a9e-92cd-81a7e2b6e098",
   "metadata": {},
   "outputs": [],
   "source": [
    "12. 79 characters"
   ]
  },
  {
   "cell_type": "code",
   "execution_count": null,
   "id": "261c4003-7700-4109-b045-85bf4b07d72b",
   "metadata": {},
   "outputs": [],
   "source": [
    "13. Free and Open-Source\n",
    "Interpreted Language,Extensive library,Portability,Portability,"
   ]
  },
  {
   "cell_type": "code",
   "execution_count": null,
   "id": "975e19b6-7248-40d2-b50a-707bd9fdf6db",
   "metadata": {},
   "outputs": [],
   "source": [
    "14. Memory management in Python involves a private heap containing all Python objects and data structures"
   ]
  },
  {
   "cell_type": "code",
   "execution_count": null,
   "id": "5817514c-b189-4c91-bc67-22d7a868ec03",
   "metadata": {},
   "outputs": [],
   "source": [
    "15. Install python from this link https://www.python.org/downloads/\n",
    "After this, install it on your PC. Look for the location where PYTHON has been installed on your PC using tge following command on your command prompt: cmd python.\n",
    "Then go to advanced system settings and add new variable and name it as PYTHON_NAME and paste the copied path.\n",
    "Then look for the path variable, select it's value and select edit\n",
    "Add a semicolon towards the end of the value ."
   ]
  },
  {
   "cell_type": "code",
   "execution_count": null,
   "id": "cd5be763-96a8-4f7c-92f9-fd83550abdf1",
   "metadata": {},
   "outputs": [],
   "source": [
    "16. yes"
   ]
  }
 ],
 "metadata": {
  "kernelspec": {
   "display_name": "Python 3 (ipykernel)",
   "language": "python",
   "name": "python3"
  },
  "language_info": {
   "codemirror_mode": {
    "name": "ipython",
    "version": 3
   },
   "file_extension": ".py",
   "mimetype": "text/x-python",
   "name": "python",
   "nbconvert_exporter": "python",
   "pygments_lexer": "ipython3",
   "version": "3.10.8"
  }
 },
 "nbformat": 4,
 "nbformat_minor": 5
}
