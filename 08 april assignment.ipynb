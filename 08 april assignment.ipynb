{
 "cells": [
  {
   "cell_type": "code",
   "execution_count": null,
   "id": "aa6239d3-be9b-44e9-81a6-d02c50adae2f",
   "metadata": {},
   "outputs": [],
   "source": [
    "Q1. In order to predict house price based on several characteristics, such as location, square footage, number of bedrooms, etc., you are\n",
    "developing an SVM regression model. Which regression metric in this situation would be the best to employ?"
   ]
  },
  {
   "cell_type": "code",
   "execution_count": null,
   "id": "21258e53-4f87-4362-967b-a69dc4900e72",
   "metadata": {},
   "outputs": [],
   "source": [
    "In this situation, the best regression metric to employ would be the mean squared error (MSE). The MSE measures the average squared difference\n",
    "between the predicted and actual values, which makes it a suitable metric for evaluating the performance of a regression model in predicting\n",
    "the house prices based on several characteristics. The lower the MSE, the better the model's performance in accurately predicting house prices."
   ]
  },
  {
   "cell_type": "code",
   "execution_count": null,
   "id": "298fbf30-f28e-4f8b-bbf7-b2db027b8861",
   "metadata": {},
   "outputs": [],
   "source": [
    "Q2. You have built an SVM regression model and are trying to decide between using MSE or R-squared as your evaluation metric. Which metric \n",
    "would be more appropriate if your goal is to predict the actual price of a house as accurately as possible?"
   ]
  },
  {
   "cell_type": "code",
   "execution_count": null,
   "id": "1a555a83-c08c-4680-984d-979bd13a6b42",
   "metadata": {},
   "outputs": [],
   "source": [
    "If the goal is to predict the actual price of a house as accurately as possible, then the mean squared error (MSE) would be the more\n",
    "appropriate evaluation metric to use in an SVM regression model. The MSE measures the average squared difference between the predicted and\n",
    "actual values, and it directly reflects the magnitude of the errors made by the model."
   ]
  },
  {
   "cell_type": "code",
   "execution_count": null,
   "id": "7a18a195-4d99-4aee-8897-050f3db918ec",
   "metadata": {},
   "outputs": [],
   "source": [
    "Q3. You have a dataset with a significant number of outliers and are trying to select an appropriate regression metric to use with your SVM\n",
    "model. Which metric would be the most appropriate in this scenario?"
   ]
  },
  {
   "cell_type": "code",
   "execution_count": null,
   "id": "de4badf3-e633-4ec9-b8db-70c90d790870",
   "metadata": {},
   "outputs": [],
   "source": [
    "\n",
    "In the presence of a significant number of outliers in a dataset, the mean squared error (MSE) may not be the most appropriate regression\n",
    "metric to use with an SVM model. This is because MSE is sensitive to outliers and large errors that can result from them.\n",
    "\n",
    "Instead, a more appropriate regression metric to use in this scenario would be the mean absolute error (MAE). The MAE measures the average \n",
    "absolute difference between the predicted and actual values, which makes it more robust to outliers than the MSE. This means that even if there\n",
    "are outliers in the dataset, the MAE would still provide a meaningful evaluation of the performance of the SVM model in predicting the target\n",
    "variable."
   ]
  },
  {
   "cell_type": "code",
   "execution_count": null,
   "id": "15ec899d-9cc1-4e15-948b-bf0ce9914409",
   "metadata": {},
   "outputs": [],
   "source": [
    "Q4. You have built an SVM regression model using a polynomial kernel and are trying to select the best metric to evaluate its performance. You\n",
    "have calculated both MSE and RMSE and found that both values are very close. Which metric should you choose to use in this case?"
   ]
  },
  {
   "cell_type": "code",
   "execution_count": null,
   "id": "ce52b910-6986-4c4f-871e-a8fc3e70cb62",
   "metadata": {},
   "outputs": [],
   "source": [
    "\n",
    "in this case, if both the mean squared error (MSE) and the root mean squared error (RMSE) are very close, either metric can be used to\n",
    "evaluate the performance of the SVM regression model with a polynomial kernel.\n",
    "\n",
    "The RMSE is the square root of the MSE and has the advantage of being on the same scale as the target variable. This means that it provides a \n",
    "more interpretable measure of the magnitude of the errors made by the model. However, it may be slightly more computationally expensive to \n",
    "calculate than the MSE.\n",
    "\n",
    "On the other hand, the MSE has the advantage of being a simpler metric to calculate than the RMSE, and it is also commonly used in machine \n",
    "learning applications. Therefore, if the computational cost is a concern, using MSE would be a reasonable choice."
   ]
  },
  {
   "cell_type": "code",
   "execution_count": null,
   "id": "f2df1380-32a7-4576-97e1-78690868420e",
   "metadata": {},
   "outputs": [],
   "source": [
    "Q5. You are comparing the performance of different SVM regression models using different kernels (linear, polynomial, and RBF) and are trying\n",
    "to select the best evaluation metric. Which metric would be most appropriate if your goal is to measure how well the model explains the\n",
    "variance in the target variable?"
   ]
  },
  {
   "cell_type": "code",
   "execution_count": null,
   "id": "f6066498-9be0-4fce-9a50-34bf69444e3d",
   "metadata": {},
   "outputs": [],
   "source": [
    "\n",
    "If the goal is to measure how well an SVM regression model with different kernels explains the variance in the target variable, the most \n",
    "appropriate evaluation metric would be the coefficient of determination, also known as R-squared.\n",
    "\n",
    "R-squared measures the proportion of variance in the target variable that is explained by the model, and it ranges from 0 to 1, where 1\n",
    "indicates that the model explains all the variability in the data, and 0 indicates that the model does not explain any variability."
   ]
  }
 ],
 "metadata": {
  "kernelspec": {
   "display_name": "Python 3 (ipykernel)",
   "language": "python",
   "name": "python3"
  },
  "language_info": {
   "codemirror_mode": {
    "name": "ipython",
    "version": 3
   },
   "file_extension": ".py",
   "mimetype": "text/x-python",
   "name": "python",
   "nbconvert_exporter": "python",
   "pygments_lexer": "ipython3",
   "version": "3.10.8"
  }
 },
 "nbformat": 4,
 "nbformat_minor": 5
}
