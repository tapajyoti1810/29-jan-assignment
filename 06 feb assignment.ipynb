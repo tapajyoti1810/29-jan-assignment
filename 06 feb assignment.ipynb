{
 "cells": [
  {
   "cell_type": "code",
   "execution_count": null,
   "id": "6fd1cf0e-0566-4b41-bf50-631e2746124f",
   "metadata": {},
   "outputs": [],
   "source": [
    "Q1. Create a function which will take a list as an argument and return the product of all the numbers\n",
    "after creating a flat list.\n",
    "Use the below-given list as an argument for your function.\n",
    "list1 = [1,2,3,4, [44,55,66, True], False, (34,56,78,89,34), {1,2,3,3,2,1}, {1:34, \"key2\": [55, 67, 78, 89], 4: (45,\n",
    "22, 61, 34)}, [56, 'data science'], 'Machine Learning']\n",
    "Note: you must extract numeric keys and values of the dictionary also."
   ]
  },
  {
   "cell_type": "code",
   "execution_count": 1,
   "id": "346bd9d7-b9e4-4b6f-8e95-f1a488c10c07",
   "metadata": {},
   "outputs": [],
   "source": [
    "def product_of_numbers(list):\n",
    "    flat_list=[]\n",
    "    def flatten(list):\n",
    "        for i in list:\n",
    "            if type(i)==int:\n",
    "                flat_list.append(i)\n",
    "            elif type(i)==float:\n",
    "                flat_list.append(i)\n",
    "            elif type(i)==tuple:\n",
    "                flatten(i)\n",
    "            elif type(i)==list:\n",
    "                flatten(i)\n",
    "            elif type(i)==dict:\n",
    "                for key,value in i.items():\n",
    "                    if type(key)==int:\n",
    "                        flat_list.append(key)\n",
    "                    if type(value)==int:\n",
    "                        flat_list.append(value)\n",
    "                    elif type(value)==list:\n",
    "                        flatten(value)\n",
    "                    elif type(value)==tuple:\n",
    "                        flatten(value)\n",
    "                        \n",
    "    flatten(list)\n",
    "    result=1\n",
    "    for i in flat_list:\n",
    "        result*=i\n",
    "    return result    "
   ]
  },
  {
   "cell_type": "code",
   "execution_count": 3,
   "id": "1dace303-b9b4-45b0-9f5a-adea6d2c559b",
   "metadata": {},
   "outputs": [
    {
     "name": "stdout",
     "output_type": "stream",
     "text": [
      "3011789169068359680\n"
     ]
    }
   ],
   "source": [
    "list = [1,2,3,4, [44,55,66, True], False, (34,56,78,89,34), {1,2,3,3,2,1}, {1:34, \"key2\": [55, 67, 78, 89], 4: (45,\n",
    "22, 61, 34)}, [56, 'data science'], 'Machine Learning']\n",
    "\n",
    "print(product_of_numbers(list))"
   ]
  },
  {
   "cell_type": "code",
   "execution_count": null,
   "id": "54f9e04d-c9cb-40cc-8016-e185e424ac30",
   "metadata": {},
   "outputs": [],
   "source": [
    "Q2. Write a python program for encrypting a message sent to you by your friend. The logic of encryption\n",
    "should be such that, for a the output should be z. For b, the output should be y. For c, the output should\n",
    "be x respectively. Also, the whitespace should be replaced with a dollar sign. Keep the punctuation\n",
    "marks unchanged.\n",
    "Input Sentence: I want to become a Data Scientist.\n",
    "Encrypt the above input sentence using the program you just created.\n",
    "Note: Convert the given input sentence into lowercase before encrypting. The final output should be\n",
    "lowercase."
   ]
  },
  {
   "cell_type": "code",
   "execution_count": 6,
   "id": "6930ca2d-11ac-4f3b-8fb7-8682c6b6fc61",
   "metadata": {},
   "outputs": [],
   "source": [
    "def encrypt_message(sentence):\n",
    "    sentence = sentence.lower()\n",
    "    encryption_map =  {'a': 'z', 'b': 'y', 'c': 'x', 'd': 'w', 'e': 'v', 'f': 'u', 'g': 't', 'h': 's', 'i': 'r', 'j': 'q',\n",
    "                       'k': 'p', 'l': 'o', 'm': 'n', 'n': 'm', 'o': 'l', 'p': 'k', 'q': 'j', 'r': 'i', 's': 'h', 't': 'g',\n",
    "                       'u': 'f', 'v': 'e', 'w': 'd', 'x': 'c', 'y': 'b', 'z': 'a'}\n",
    "        \n",
    "    encrypted_sentence=' '\n",
    "    for ron in sentence:\n",
    "        if ron==' ':\n",
    "            encrypted_sentence+='$'\n",
    "        elif ron in encryption_map:\n",
    "            encrypted_sentence+=encryption_map[ron]\n",
    "        else:\n",
    "            encrypted_sentence+=ron\n",
    "    return encrypted_sentence       "
   ]
  },
  {
   "cell_type": "code",
   "execution_count": 8,
   "id": "3a264763-5020-4894-84c7-9e3c95ffed49",
   "metadata": {},
   "outputs": [
    {
     "name": "stdout",
     "output_type": "stream",
     "text": [
      " r$dzmg$gl$yvxlnv$z$wzgz$hxrvmgrhg.\n"
     ]
    }
   ],
   "source": [
    "input_sentence = \"I want to become a Data Scientist.\"\n",
    "print(encrypt_message(input_sentence))"
   ]
  }
 ],
 "metadata": {
  "kernelspec": {
   "display_name": "Python 3 (ipykernel)",
   "language": "python",
   "name": "python3"
  },
  "language_info": {
   "codemirror_mode": {
    "name": "ipython",
    "version": 3
   },
   "file_extension": ".py",
   "mimetype": "text/x-python",
   "name": "python",
   "nbconvert_exporter": "python",
   "pygments_lexer": "ipython3",
   "version": "3.10.8"
  }
 },
 "nbformat": 4,
 "nbformat_minor": 5
}
