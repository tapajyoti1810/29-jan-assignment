{
 "cells": [
  {
   "cell_type": "code",
   "execution_count": null,
   "id": "c87eccd4-0640-42bb-a23b-3d03541b5fbd",
   "metadata": {},
   "outputs": [],
   "source": [
    "Q1. Load the \"titanic\" dataset using the load_dataset function of seaborn. Use Plotly express to plot a\n",
    "scatter plot for age and fare columns in the titanic dataset."
   ]
  },
  {
   "cell_type": "code",
   "execution_count": null,
   "id": "38192d7c-c173-4cfd-a5e5-ead98cc8f08b",
   "metadata": {},
   "outputs": [],
   "source": [
    "import seaborn as sns\n",
    "import plotly.express as px\n",
    "\n",
    "# Load the titanic dataset\n",
    "titanic_data = sns.load_dataset(\"titanic\")\n",
    "\n",
    "# Plot a scatter plot for age and fare columns using Plotly Express\n",
    "fig = px.scatter(titanic_data, x='age', y='fare', color='survived', hover_data=['class', 'sex'])\n",
    "fig.show()"
   ]
  },
  {
   "cell_type": "code",
   "execution_count": null,
   "id": "f3514fd6-551e-4f11-b246-c89ca00797c2",
   "metadata": {},
   "outputs": [],
   "source": [
    "Q2. Using the tips dataset in the Plotly library, plot a box plot using Plotly express."
   ]
  },
  {
   "cell_type": "code",
   "execution_count": null,
   "id": "b7bcf0a8-763b-4960-aad6-d3566d7ce7bb",
   "metadata": {},
   "outputs": [],
   "source": [
    "import plotly.express as px\n",
    "\n",
    "# Load the tips dataset from Plotly\n",
    "tips_data = px.data.tips()\n",
    "\n",
    "# Plot a box plot for the tips dataset using Plotly Express\n",
    "fig = px.box(tips_data, x=\"day\", y=\"total_bill\", color=\"smoker\")\n",
    "fig.show()"
   ]
  },
  {
   "cell_type": "code",
   "execution_count": null,
   "id": "da256417-927d-4945-a704-3e2d5e0c368a",
   "metadata": {},
   "outputs": [],
   "source": [
    "Q3. Using the tips dataset in the Plotly library, Plot a histogram for x= \"sex\" and y=\"total_bill\" column in\n",
    "the tips dataset. Also, use the \"smoker\" column with the pattern_shape parameter and the \"day\"\n",
    "column with the color parameter."
   ]
  },
  {
   "cell_type": "code",
   "execution_count": null,
   "id": "47fdffc1-a2e9-4177-83c9-403e61786f50",
   "metadata": {},
   "outputs": [],
   "source": [
    "import plotly.express as px\n",
    "\n",
    "# Load the tips dataset from Plotly\n",
    "tips_data = px.data.tips()\n",
    "\n",
    "# Plot a histogram for sex and total_bill columns with smoker and day columns as style parameters\n",
    "fig = px.histogram(tips_data, x=\"sex\", y=\"total_bill\", color=\"day\", pattern_shape=\"smoker\")\n",
    "fig.show()"
   ]
  },
  {
   "cell_type": "code",
   "execution_count": null,
   "id": "f6a85ee7-1265-4614-a7d1-55a8e60fc95e",
   "metadata": {},
   "outputs": [],
   "source": [
    "Q4. Using the iris dataset in the Plotly library, Plot a scatter matrix plot, using the \"species\" column for\n",
    "the color parameter."
   ]
  },
  {
   "cell_type": "code",
   "execution_count": null,
   "id": "a8fd8e7a-3317-4b41-ac13-9456c1044c7f",
   "metadata": {},
   "outputs": [],
   "source": [
    "import plotly.express as px\n",
    "\n",
    "# Load the iris dataset from Plotly\n",
    "iris_data = px.data.iris()\n",
    "\n",
    "# Plot a scatter matrix plot for the iris dataset with color parameter set to the species column\n",
    "fig = px.scatter_matrix(iris_data, dimensions=[\"sepal_length\", \"sepal_width\", \"petal_length\", \"petal_width\"], color=\"species\")\n",
    "fig.show()"
   ]
  },
  {
   "cell_type": "code",
   "execution_count": null,
   "id": "07d9c27a-3dcc-4066-8ebd-62eb5efc1b6f",
   "metadata": {},
   "outputs": [],
   "source": [
    "Q5. What is Distplot? Using Plotly express, plot a distplot."
   ]
  },
  {
   "cell_type": "code",
   "execution_count": null,
   "id": "7b87e8ac-8ce6-40d4-a167-54de2277a409",
   "metadata": {},
   "outputs": [],
   "source": [
    "Distplot is a type of plot that shows the distribution of a univariate set of observations. It combines a histogram and a \n",
    "kernel density estimate (KDE) plot to represent the data. The histogram shows the count or frequency of observations in each \n",
    "bin, while the KDE plot shows an estimate of the probability density function of the variable.\n",
    "import plotly.express as px\n",
    "\n",
    "# Load the tips dataset from Plotly\n",
    "tips_data = px.data.tips()\n",
    "\n",
    "# Plot a distplot for the total_bill column in the tips dataset\n",
    "fig = px.histogram(tips_data, x=\"total_bill\", nbins=30, marginal=\"box\")\n",
    "fig.show()"
   ]
  }
 ],
 "metadata": {
  "kernelspec": {
   "display_name": "Python 3 (ipykernel)",
   "language": "python",
   "name": "python3"
  },
  "language_info": {
   "codemirror_mode": {
    "name": "ipython",
    "version": 3
   },
   "file_extension": ".py",
   "mimetype": "text/x-python",
   "name": "python",
   "nbconvert_exporter": "python",
   "pygments_lexer": "ipython3",
   "version": "3.10.8"
  }
 },
 "nbformat": 4,
 "nbformat_minor": 5
}
